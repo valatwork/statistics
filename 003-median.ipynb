{
 "cells": [
  {
   "cell_type": "markdown",
   "id": "94abe9e7d4ea716d",
   "metadata": {},
   "source": [
    "# Descriptive Statistics: Measures of Central Tendency"
   ]
  },
  {
   "cell_type": "markdown",
   "id": "4cdf01717b66da82",
   "metadata": {},
   "source": [
    "## Median\n",
    "\n"
   ]
  },
  {
   "cell_type": "markdown",
   "id": "7ce8ac486cbe7851",
   "metadata": {},
   "source": [
    " The middle value when a set of data values has been ordered from lowest to highest value.\n",
    "\n",
    "When the number of data values is even, no natural middle value exists, and you calculate the mean of the two middle values to determine the median.\n",
    "\n",
    "> The median splits the set of ordered data values into two parts that have equal numbers of values. The median is a good alternative to the mean when extreme data values occur because, unlike with the mean, extreme values do not affect the median.\n",
    "\n",
    "*(Synonyms: 50th percentile, second quartile)*"
   ]
  },
  {
   "cell_type": "markdown",
   "id": "ad1da9213136e5f0",
   "metadata": {},
   "source": [
    "### Formula\n",
    "\n",
    "If n is odd:\n",
    "$$x_{\\left(\\frac{n+1}{2}\\right)}$$\n",
    "If n is even:\n",
    "$$\\frac{x_{\\left(\\frac{n}{2}\\right)} + x_{\\left(\\frac{n}{2} + 1\\right)}}{2}$$"
   ]
  },
  {
   "cell_type": "markdown",
   "id": "381d1c0b0c0185b1",
   "metadata": {},
   "source": "### Examples (median)"
  },
  {
   "metadata": {},
   "cell_type": "markdown",
   "source": "#### Example 1 (median)",
   "id": "8de0dbe64d628225"
  },
  {
   "cell_type": "code",
   "id": "23a64aa1723a2af",
   "metadata": {
    "ExecuteTime": {
     "end_time": "2024-12-27T18:37:34.086608Z",
     "start_time": "2024-12-27T18:37:34.083640Z"
    }
   },
   "source": [
    "import pandas as pd\n",
    "import numpy as np\n",
    "import matplotlib.pyplot as plt"
   ],
   "outputs": [],
   "execution_count": 4
  },
  {
   "cell_type": "code",
   "id": "c01a9b8d6074ef80",
   "metadata": {
    "ExecuteTime": {
     "end_time": "2024-12-27T18:25:27.939119Z",
     "start_time": "2024-12-27T18:25:27.932825Z"
    }
   },
   "source": [
    "odd_data = [1, 3, 2, 6, 7]\n",
    "df = pd.DataFrame(odd_data)\n",
    "df.median()"
   ],
   "outputs": [
    {
     "data": {
      "text/plain": [
       "0    3.0\n",
       "dtype: float64"
      ]
     },
     "execution_count": 2,
     "metadata": {},
     "output_type": "execute_result"
    }
   ],
   "execution_count": 2
  },
  {
   "cell_type": "code",
   "id": "b66188fad94df10d",
   "metadata": {
    "ExecuteTime": {
     "end_time": "2024-12-27T18:25:28.097130Z",
     "start_time": "2024-12-27T18:25:28.093699Z"
    }
   },
   "source": [
    "np.median(odd_data)"
   ],
   "outputs": [
    {
     "data": {
      "text/plain": [
       "np.float64(3.0)"
      ]
     },
     "execution_count": 3,
     "metadata": {},
     "output_type": "execute_result"
    }
   ],
   "execution_count": 3
  },
  {
   "metadata": {},
   "cell_type": "markdown",
   "source": "#### Example 2 (median)",
   "id": "d603425885c9ee0d"
  },
  {
   "cell_type": "code",
   "execution_count": 9,
   "id": "12f6344a9b26ca30",
   "metadata": {
    "ExecuteTime": {
     "end_time": "2024-12-24T20:08:51.164394Z",
     "start_time": "2024-12-24T20:08:51.160241Z"
    }
   },
   "outputs": [
    {
     "data": {
      "text/plain": [
       "0    4.5\n",
       "dtype: float64"
      ]
     },
     "execution_count": 9,
     "metadata": {},
     "output_type": "execute_result"
    }
   ],
   "source": [
    "even_data = [1, 1, 3, 2, 6, 7, 8, 9]\n",
    "df = pd.DataFrame(even_data)\n",
    "df.median()"
   ]
  },
  {
   "cell_type": "code",
   "execution_count": 10,
   "id": "48b49411b7a017da",
   "metadata": {
    "ExecuteTime": {
     "end_time": "2024-12-24T20:08:54.308185Z",
     "start_time": "2024-12-24T20:08:54.304378Z"
    }
   },
   "outputs": [
    {
     "data": {
      "text/plain": [
       "np.float64(4.5)"
      ]
     },
     "execution_count": 10,
     "metadata": {},
     "output_type": "execute_result"
    }
   ],
   "source": [
    "np.median(even_data)"
   ]
  },
  {
   "cell_type": "markdown",
   "id": "6381bd21490c7acb",
   "metadata": {},
   "source": [
    "##  Exercises (median)"
   ]
  },
  {
   "cell_type": "markdown",
   "id": "b7305d706e1e1ee9",
   "metadata": {},
   "source": [
    "#### Exercise 1 (median)"
   ]
  },
  {
   "cell_type": "markdown",
   "id": "a86e5c88d7667fa3",
   "metadata": {},
   "source": [
    "The table below lists exam scores for nine students. Identify the median test score."
   ]
  },
  {
   "cell_type": "code",
   "execution_count": 11,
   "id": "ecbf9dbb6528e1d1",
   "metadata": {
    "ExecuteTime": {
     "end_time": "2024-12-24T20:11:17.425731Z",
     "start_time": "2024-12-24T20:11:17.422933Z"
    }
   },
   "outputs": [],
   "source": [
    "scores = [85, 96, 75, 82, 93, 88, 80, 90, 71]"
   ]
  },
  {
   "cell_type": "code",
   "execution_count": 12,
   "id": "264065e6909f72a7",
   "metadata": {
    "ExecuteTime": {
     "end_time": "2024-12-24T20:11:21.450194Z",
     "start_time": "2024-12-24T20:11:21.445911Z"
    }
   },
   "outputs": [
    {
     "data": {
      "text/plain": [
       "0    85.0\n",
       "dtype: float64"
      ]
     },
     "execution_count": 12,
     "metadata": {},
     "output_type": "execute_result"
    }
   ],
   "source": [
    "df = pd.DataFrame(scores)\n",
    "df.median()"
   ]
  },
  {
   "cell_type": "code",
   "execution_count": 13,
   "id": "67f2ce1927134e1f",
   "metadata": {
    "ExecuteTime": {
     "end_time": "2024-12-24T20:11:27.146521Z",
     "start_time": "2024-12-24T20:11:27.143376Z"
    }
   },
   "outputs": [
    {
     "data": {
      "text/plain": [
       "np.float64(85.0)"
      ]
     },
     "execution_count": 13,
     "metadata": {},
     "output_type": "execute_result"
    }
   ],
   "source": [
    "np.median(scores)"
   ]
  },
  {
   "metadata": {},
   "cell_type": "markdown",
   "source": "##### Exercise 2 (median)",
   "id": "ba0637560cab74d2"
  },
  {
   "metadata": {
    "ExecuteTime": {
     "end_time": "2024-12-27T18:37:38.331971Z",
     "start_time": "2024-12-27T18:37:38.222910Z"
    }
   },
   "cell_type": "code",
   "source": [
    "incomes = np.random.normal(100.0, 20.0, 10000)\n",
    "plt.hist(incomes, 50)\n",
    "plt.show()"
   ],
   "id": "2eaf5bffbb441f4d",
   "outputs": [
    {
     "data": {
      "text/plain": [
       "<Figure size 640x480 with 1 Axes>"
      ],
      "image/png": "[encoded data removed]"
     },
     "metadata": {},
     "output_type": "display_data"
    }
   ],
   "execution_count": 5
  },
  {
   "metadata": {
    "ExecuteTime": {
     "end_time": "2024-12-27T18:37:41.489861Z",
     "start_time": "2024-12-27T18:37:41.485937Z"
    }
   },
   "cell_type": "code",
   "source": "np.median(incomes)",
   "id": "83d829828aecb50f",
   "outputs": [
    {
     "data": {
      "text/plain": [
       "np.float64(100.06589182374327)"
      ]
     },
     "execution_count": 6,
     "metadata": {},
     "output_type": "execute_result"
    }
   ],
   "execution_count": 6
  }
 ],
 "metadata": {
  "kernelspec": {
   "display_name": "Python 3 (ipykernel)",
   "language": "python",
   "name": "python3"
  },
  "language_info": {
   "codemirror_mode": {
    "name": "ipython",
    "version": 3
   },
   "file_extension": ".py",
   "mimetype": "text/x-python",
   "name": "python",
   "nbconvert_exporter": "python",
   "pygments_lexer": "ipython3",
   "version": "3.13.1"
  }
 },
 "nbformat": 4,
 "nbformat_minor": 5
}
