{
 "cells": [
  {
   "metadata": {},
   "cell_type": "markdown",
   "source": "# Descriptive Statistics: Measures of Dispersion (Absolute)\n",
   "id": "a182cc33dc11de41"
  },
  {
   "metadata": {},
   "cell_type": "markdown",
   "source": "## Variance",
   "id": "d3c210751e41ab58"
  },
  {
   "metadata": {},
   "cell_type": "markdown",
   "source": [
    "Variance is the average of the squared differences from the mean.\n",
    "\n",
    "Variance measures how \"spread-out\" the data is."
   ],
   "id": "a1954d123dabe09f"
  },
  {
   "metadata": {},
   "cell_type": "markdown",
   "source": "### Formula (variance)",
   "id": "59a433a4d5aa113f"
  },
  {
   "metadata": {},
   "cell_type": "markdown",
   "source": [
    "#### Population Variance\n",
    "\n",
    "$$\n",
    "\\sigma^2 = \\frac{\\sum_{i=1}^{N} (x_i - \\mu)^2}{N}\n",
    "$$"
   ],
   "id": "dd40bda2388f0cdb"
  },
  {
   "metadata": {},
   "cell_type": "markdown",
   "source": [
    "Calculate the difference between each data point ($x_i$) and the mean ($\\mu$), square the result, and sum them all up.\n",
    "\n",
    "Finally, divide by the number of data points ($N$)."
   ],
   "id": "c17933dc940dd583"
  },
  {
   "metadata": {},
   "cell_type": "markdown",
   "source": [
    "#### Sample Variance\n",
    "\n",
    "$$\n",
    "s^2 = \\frac{\\sum_{i=1}^{n} (x_i - \\bar{x})^2}{n-1}\n",
    "$$"
   ],
   "id": "cb116deaa8909881"
  },
  {
   "metadata": {},
   "cell_type": "markdown",
   "source": "### Examples (variance)",
   "id": "8e9faf29d5c1b9a"
  },
  {
   "metadata": {
    "ExecuteTime": {
     "end_time": "2025-01-03T15:01:59.859259Z",
     "start_time": "2025-01-03T15:01:59.856220Z"
    }
   },
   "cell_type": "code",
   "source": [
    "import numpy as np\n",
    "from scipy import stats\n",
    "import statistics as sts"
   ],
   "id": "35f27210d9eac1dd",
   "outputs": [],
   "execution_count": 23
  },
  {
   "metadata": {},
   "cell_type": "markdown",
   "source": "#### Example 1 (variance)",
   "id": "a403aa77bd04d524"
  },
  {
   "metadata": {
    "ExecuteTime": {
     "end_time": "2025-01-03T15:02:00.806759Z",
     "start_time": "2025-01-03T15:02:00.803977Z"
    }
   },
   "cell_type": "code",
   "source": "ex_one = [0, 1, 3, 5, 6]",
   "id": "7deca74a4d8c38dc",
   "outputs": [],
   "execution_count": 24
  },
  {
   "metadata": {
    "ExecuteTime": {
     "end_time": "2025-01-03T15:02:01.318757Z",
     "start_time": "2025-01-03T15:02:01.314773Z"
    }
   },
   "cell_type": "code",
   "source": "sts.pvariance(ex_one) # population variance",
   "id": "59a6c00088a900d4",
   "outputs": [
    {
     "data": {
      "text/plain": [
       "5.2"
      ]
     },
     "execution_count": 25,
     "metadata": {},
     "output_type": "execute_result"
    }
   ],
   "execution_count": 25
  },
  {
   "metadata": {
    "ExecuteTime": {
     "end_time": "2025-01-03T15:02:01.982738Z",
     "start_time": "2025-01-03T15:02:01.978738Z"
    }
   },
   "cell_type": "code",
   "source": "sts.variance(ex_one) # sample variance",
   "id": "c40db03d4ef856e1",
   "outputs": [
    {
     "data": {
      "text/plain": [
       "6.5"
      ]
     },
     "execution_count": 26,
     "metadata": {},
     "output_type": "execute_result"
    }
   ],
   "execution_count": 26
  },
  {
   "metadata": {
    "ExecuteTime": {
     "end_time": "2025-01-03T15:04:27.429064Z",
     "start_time": "2025-01-03T15:04:27.425311Z"
    }
   },
   "cell_type": "code",
   "source": "np.var(ex_one) # population variance",
   "id": "872fd3399cc08f54",
   "outputs": [
    {
     "data": {
      "text/plain": [
       "np.float64(5.2)"
      ]
     },
     "execution_count": 35,
     "metadata": {},
     "output_type": "execute_result"
    }
   ],
   "execution_count": 35
  },
  {
   "metadata": {
    "ExecuteTime": {
     "end_time": "2025-01-03T15:03:17.012723Z",
     "start_time": "2025-01-03T15:03:17.003105Z"
    }
   },
   "cell_type": "code",
   "source": "stats.tvar(ex_one) # sample variance",
   "id": "a1c807b598d46216",
   "outputs": [
    {
     "data": {
      "text/plain": [
       "np.float64(6.5)"
      ]
     },
     "execution_count": 34,
     "metadata": {},
     "output_type": "execute_result"
    }
   ],
   "execution_count": 34
  },
  {
   "metadata": {},
   "cell_type": "markdown",
   "source": "#### Example 2 (variance)",
   "id": "4488d88aae332814"
  },
  {
   "metadata": {
    "ExecuteTime": {
     "end_time": "2025-01-03T15:36:37.904729Z",
     "start_time": "2025-01-03T15:36:37.901814Z"
    }
   },
   "cell_type": "code",
   "source": "ex_two = [2, 3, 4, 3, 3]",
   "id": "6793946ae05f5bb4",
   "outputs": [],
   "execution_count": 43
  },
  {
   "metadata": {
    "ExecuteTime": {
     "end_time": "2025-01-03T15:36:38.161904Z",
     "start_time": "2025-01-03T15:36:38.157742Z"
    }
   },
   "cell_type": "code",
   "source": "sts.pvariance(ex_two)",
   "id": "71ea8327ffb42274",
   "outputs": [
    {
     "data": {
      "text/plain": [
       "0.4"
      ]
     },
     "execution_count": 44,
     "metadata": {},
     "output_type": "execute_result"
    }
   ],
   "execution_count": 44
  },
  {
   "metadata": {
    "ExecuteTime": {
     "end_time": "2025-01-03T15:36:38.330706Z",
     "start_time": "2025-01-03T15:36:38.327249Z"
    }
   },
   "cell_type": "code",
   "source": "sts.variance(ex_two)",
   "id": "c92d70addb472cec",
   "outputs": [
    {
     "data": {
      "text/plain": [
       "0.5"
      ]
     },
     "execution_count": 45,
     "metadata": {},
     "output_type": "execute_result"
    }
   ],
   "execution_count": 45
  },
  {
   "metadata": {
    "ExecuteTime": {
     "end_time": "2025-01-03T15:36:38.749575Z",
     "start_time": "2025-01-03T15:36:38.745701Z"
    }
   },
   "cell_type": "code",
   "source": "np.var(ex_two)",
   "id": "41895199e61ce0cc",
   "outputs": [
    {
     "data": {
      "text/plain": [
       "np.float64(0.4)"
      ]
     },
     "execution_count": 46,
     "metadata": {},
     "output_type": "execute_result"
    }
   ],
   "execution_count": 46
  },
  {
   "metadata": {},
   "cell_type": "markdown",
   "source": "#### Example 3 (variance)",
   "id": "f27f9170a8225dca"
  },
  {
   "metadata": {
    "ExecuteTime": {
     "end_time": "2025-01-03T17:00:53.706383Z",
     "start_time": "2025-01-03T17:00:53.703454Z"
    }
   },
   "cell_type": "code",
   "source": "hurricanes = [18, 21, 13, 19, 24, 17, 14, 12, 15, 14]",
   "id": "1fa1bafafe21a2a0",
   "outputs": [],
   "execution_count": 78
  },
  {
   "metadata": {
    "ExecuteTime": {
     "end_time": "2025-01-03T17:04:26.130662Z",
     "start_time": "2025-01-03T17:04:26.126371Z"
    }
   },
   "cell_type": "code",
   "source": [
    "hurr_mean = np.mean(hurricanes)\n",
    "hurr_sub = np.subtract(hurricanes, hurr_mean)\n",
    "np.sum(np.square(hurr_sub)) / 10"
   ],
   "id": "65ce4f05372e9d2c",
   "outputs": [
    {
     "data": {
      "text/plain": [
       "np.float64(13.210000000000003)"
      ]
     },
     "execution_count": 86,
     "metadata": {},
     "output_type": "execute_result"
    }
   ],
   "execution_count": 86
  },
  {
   "metadata": {
    "ExecuteTime": {
     "end_time": "2025-01-03T17:03:43.977455Z",
     "start_time": "2025-01-03T17:03:43.973885Z"
    }
   },
   "cell_type": "code",
   "source": "sts.variance(hurricanes)",
   "id": "990474382cbcfac5",
   "outputs": [
    {
     "data": {
      "text/plain": [
       "14.677777777777777"
      ]
     },
     "execution_count": 81,
     "metadata": {},
     "output_type": "execute_result"
    }
   ],
   "execution_count": 81
  },
  {
   "metadata": {
    "ExecuteTime": {
     "end_time": "2025-01-03T17:03:44.533857Z",
     "start_time": "2025-01-03T17:03:44.530390Z"
    }
   },
   "cell_type": "code",
   "source": "sts.pvariance(hurricanes)",
   "id": "73e3c20e435027bc",
   "outputs": [
    {
     "data": {
      "text/plain": [
       "13.21"
      ]
     },
     "execution_count": 82,
     "metadata": {},
     "output_type": "execute_result"
    }
   ],
   "execution_count": 82
  },
  {
   "metadata": {
    "ExecuteTime": {
     "end_time": "2025-01-03T17:03:45.107788Z",
     "start_time": "2025-01-03T17:03:45.103461Z"
    }
   },
   "cell_type": "code",
   "source": "np.var(hurricanes)",
   "id": "dbff0532c68c5603",
   "outputs": [
    {
     "data": {
      "text/plain": [
       "np.float64(13.210000000000003)"
      ]
     },
     "execution_count": 83,
     "metadata": {},
     "output_type": "execute_result"
    }
   ],
   "execution_count": 83
  },
  {
   "metadata": {
    "ExecuteTime": {
     "end_time": "2025-01-03T17:03:45.664332Z",
     "start_time": "2025-01-03T17:03:45.660821Z"
    }
   },
   "cell_type": "code",
   "source": "stats.tvar(hurricanes)",
   "id": "72ff584b3bcad622",
   "outputs": [
    {
     "data": {
      "text/plain": [
       "np.float64(14.67777777777778)"
      ]
     },
     "execution_count": 84,
     "metadata": {},
     "output_type": "execute_result"
    }
   ],
   "execution_count": 84
  },
  {
   "metadata": {},
   "cell_type": "markdown",
   "source": "#### Example 4 (variance)",
   "id": "68577d39d423ff63"
  },
  {
   "metadata": {
    "ExecuteTime": {
     "end_time": "2025-01-03T16:40:04.158123Z",
     "start_time": "2025-01-03T16:40:04.155459Z"
    }
   },
   "cell_type": "code",
   "outputs": [],
   "execution_count": 63,
   "source": "students = [18, 22, 25, 26, 15]",
   "id": "5cddd62c1f4fb7ce"
  },
  {
   "metadata": {
    "ExecuteTime": {
     "end_time": "2025-01-03T17:08:19.869058Z",
     "start_time": "2025-01-03T17:08:19.864680Z"
    }
   },
   "cell_type": "code",
   "source": [
    "stud_mean = np.mean(students)\n",
    "stud_sub = np.subtract(students, stud_mean)\n",
    "np.sum(np.square(stud_sub)) / 5\n"
   ],
   "id": "27d143aa3611ce66",
   "outputs": [
    {
     "data": {
      "text/plain": [
       "np.float64(17.36)"
      ]
     },
     "execution_count": 87,
     "metadata": {},
     "output_type": "execute_result"
    }
   ],
   "execution_count": 87
  }
 ],
 "metadata": {
  "kernelspec": {
   "display_name": "Python 3",
   "language": "python",
   "name": "python3"
  },
  "language_info": {
   "codemirror_mode": {
    "name": "ipython",
    "version": 2
   },
   "file_extension": ".py",
   "mimetype": "text/x-python",
   "name": "python",
   "nbconvert_exporter": "python",
   "pygments_lexer": "ipython2",
   "version": "2.7.6"
  }
 },
 "nbformat": 4,
 "nbformat_minor": 5
}
