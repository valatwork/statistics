{
 "cells": [
  {
   "cell_type": "markdown",
   "id": "527f894e64d33539",
   "metadata": {},
   "source": [
    "# Descriptive Statistics: Measures of Central Tendency"
   ]
  },
  {
   "cell_type": "markdown",
   "id": "1bbda8ec47194115",
   "metadata": {},
   "source": [
    "## Midrange"
   ]
  },
  {
   "cell_type": "markdown",
   "id": "83361e98f83bd5bc",
   "metadata": {},
   "source": [
    " The mid-range or mid-extreme is a measure of central tendency of a sample defined as the arithmetic mean of the maximum and minimum values of the data set."
   ]
  },
  {
   "cell_type": "markdown",
   "id": "29a37a132fb63908",
   "metadata": {},
   "source": [
    "### Formula\n",
    "$$M=\\frac{\\max x + \\min x}{2}$$"
   ]
  },
  {
   "cell_type": "markdown",
   "id": "48c3b1359df272b6",
   "metadata": {},
   "source": "### Example (midrange)"
  },
  {
   "cell_type": "code",
   "execution_count": 1,
   "id": "2043e0bc376c1cfa",
   "metadata": {
    "ExecuteTime": {
     "end_time": "2024-12-24T20:39:20.981457Z",
     "start_time": "2024-12-24T20:39:20.575140Z"
    }
   },
   "outputs": [],
   "source": [
    "import pandas as pd\n",
    "import numpy as np"
   ]
  },
  {
   "cell_type": "code",
   "execution_count": 7,
   "id": "a28fa245955d05fe",
   "metadata": {
    "ExecuteTime": {
     "end_time": "2024-12-24T20:40:31.833151Z",
     "start_time": "2024-12-24T20:40:31.829709Z"
    }
   },
   "outputs": [
    {
     "data": {
      "text/plain": [
       "np.float64(4.5)"
      ]
     },
     "execution_count": 7,
     "metadata": {},
     "output_type": "execute_result"
    }
   ],
   "source": [
    "data = [2, 3, 6, 8, 4, 1]\n",
    "midrange = (np.max(data) + np.min(data)) / 2\n",
    "midrange"
   ]
  },
  {
   "cell_type": "markdown",
   "id": "254fd2b948523106",
   "metadata": {},
   "source": [
    "### Exercises (midrange)"
   ]
  },
  {
   "cell_type": "markdown",
   "id": "a829ec6f859331d",
   "metadata": {},
   "source": [
    "#### Exercise 1 (midrange)"
   ]
  },
  {
   "cell_type": "markdown",
   "id": "43a093e89503a0ff",
   "metadata": {},
   "source": [
    "A company asked customers to rate a service on a scale of 1 to 100 and recorded the 24 most recent ratings in the table below. Identify the midrange of the ratings."
   ]
  },
  {
   "cell_type": "code",
   "execution_count": 8,
   "id": "824d102077606bfd",
   "metadata": {
    "ExecuteTime": {
     "end_time": "2024-12-24T20:46:34.483534Z",
     "start_time": "2024-12-24T20:46:34.481086Z"
    }
   },
   "outputs": [],
   "source": [
    "customer_ratings = [92, 80, 86, 76, 81, 65, 71, 96, 90, 62, 69, 75, 70, 83, 94, 85, 89, 85, 78, 73, 88, 95, 75, 80]"
   ]
  },
  {
   "cell_type": "code",
   "execution_count": 10,
   "id": "d311615416f39af0",
   "metadata": {
    "ExecuteTime": {
     "end_time": "2024-12-24T20:46:51.856123Z",
     "start_time": "2024-12-24T20:46:51.852574Z"
    }
   },
   "outputs": [
    {
     "data": {
      "text/plain": [
       "np.float64(79.0)"
      ]
     },
     "execution_count": 10,
     "metadata": {},
     "output_type": "execute_result"
    }
   ],
   "source": [
    "df = pd.DataFrame(customer_ratings)\n",
    "midrange = (np.max(customer_ratings) + np.min(customer_ratings)) / 2\n",
    "midrange"
   ]
  },
  {
   "cell_type": "code",
   "execution_count": 11,
   "id": "a859ada9e9110d1b",
   "metadata": {
    "ExecuteTime": {
     "end_time": "2024-12-24T20:47:27.269962Z",
     "start_time": "2024-12-24T20:47:27.261230Z"
    }
   },
   "outputs": [
    {
     "data": {
      "text/html": [
       "<div>\n",
       "<style scoped>\n",
       "    .dataframe tbody tr th:only-of-type {\n",
       "        vertical-align: middle;\n",
       "    }\n",
       "\n",
       "    .dataframe tbody tr th {\n",
       "        vertical-align: top;\n",
       "    }\n",
       "\n",
       "    .dataframe thead th {\n",
       "        text-align: right;\n",
       "    }\n",
       "</style>\n",
       "<table border=\"1\" class=\"dataframe\">\n",
       "  <thead>\n",
       "    <tr style=\"text-align: right;\">\n",
       "      <th></th>\n",
       "      <th>0</th>\n",
       "    </tr>\n",
       "  </thead>\n",
       "  <tbody>\n",
       "    <tr>\n",
       "      <th>count</th>\n",
       "      <td>24.000000</td>\n",
       "    </tr>\n",
       "    <tr>\n",
       "      <th>mean</th>\n",
       "      <td>80.750000</td>\n",
       "    </tr>\n",
       "    <tr>\n",
       "      <th>std</th>\n",
       "      <td>9.597328</td>\n",
       "    </tr>\n",
       "    <tr>\n",
       "      <th>min</th>\n",
       "      <td>62.000000</td>\n",
       "    </tr>\n",
       "    <tr>\n",
       "      <th>25%</th>\n",
       "      <td>74.500000</td>\n",
       "    </tr>\n",
       "    <tr>\n",
       "      <th>50%</th>\n",
       "      <td>80.500000</td>\n",
       "    </tr>\n",
       "    <tr>\n",
       "      <th>75%</th>\n",
       "      <td>88.250000</td>\n",
       "    </tr>\n",
       "    <tr>\n",
       "      <th>max</th>\n",
       "      <td>96.000000</td>\n",
       "    </tr>\n",
       "  </tbody>\n",
       "</table>\n",
       "</div>"
      ],
      "text/plain": [
       "               0\n",
       "count  24.000000\n",
       "mean   80.750000\n",
       "std     9.597328\n",
       "min    62.000000\n",
       "25%    74.500000\n",
       "50%    80.500000\n",
       "75%    88.250000\n",
       "max    96.000000"
      ]
     },
     "execution_count": 11,
     "metadata": {},
     "output_type": "execute_result"
    }
   ],
   "source": [
    "df.describe()"
   ]
  },
  {
   "cell_type": "code",
   "execution_count": 12,
   "id": "9527f577768e9167",
   "metadata": {
    "ExecuteTime": {
     "end_time": "2024-12-24T20:47:57.924088Z",
     "start_time": "2024-12-24T20:47:57.919996Z"
    }
   },
   "outputs": [
    {
     "data": {
      "text/plain": [
       "0    80.5\n",
       "dtype: float64"
      ]
     },
     "execution_count": 12,
     "metadata": {},
     "output_type": "execute_result"
    }
   ],
   "source": [
    "df.median()"
   ]
  },
  {
   "cell_type": "markdown",
   "id": "d21e0a05f4fd07c",
   "metadata": {},
   "source": [
    "##### Exercise 2 (midrange)"
   ]
  },
  {
   "cell_type": "markdown",
   "id": "777236b650a44004",
   "metadata": {},
   "source": [
    "Below a list of the average daily high temperature, in degrees Celsius, for the first six months of the year in Barrow, Alaska. Calculate the midrange for daily high temperature during this time period.\n",
    "\n",
    ">  -22 -  23   -22   -14  -4    -2"
   ]
  },
  {
   "cell_type": "code",
   "execution_count": 15,
   "id": "2993a6a0cc650c18",
   "metadata": {
    "ExecuteTime": {
     "end_time": "2024-12-24T21:00:12.334151Z",
     "start_time": "2024-12-24T21:00:12.330557Z"
    }
   },
   "outputs": [
    {
     "data": {
      "text/plain": [
       "np.float64(-12.5)"
      ]
     },
     "execution_count": 15,
     "metadata": {},
     "output_type": "execute_result"
    }
   ],
   "source": [
    "temperature = [-22, -23, -22, -14, -4, -2]\n",
    "midrange = (np.max(temperature) + np.min(temperature)) / 2\n",
    "midrange"
   ]
  },
  {
   "cell_type": "code",
   "execution_count": 16,
   "id": "2ccffd87b5a7acaa",
   "metadata": {
    "ExecuteTime": {
     "end_time": "2024-12-24T21:02:04.862002Z",
     "start_time": "2024-12-24T21:02:04.855917Z"
    }
   },
   "outputs": [
    {
     "data": {
      "text/html": [
       "<div>\n",
       "<style scoped>\n",
       "    .dataframe tbody tr th:only-of-type {\n",
       "        vertical-align: middle;\n",
       "    }\n",
       "\n",
       "    .dataframe tbody tr th {\n",
       "        vertical-align: top;\n",
       "    }\n",
       "\n",
       "    .dataframe thead th {\n",
       "        text-align: right;\n",
       "    }\n",
       "</style>\n",
       "<table border=\"1\" class=\"dataframe\">\n",
       "  <thead>\n",
       "    <tr style=\"text-align: right;\">\n",
       "      <th></th>\n",
       "      <th>0</th>\n",
       "    </tr>\n",
       "  </thead>\n",
       "  <tbody>\n",
       "    <tr>\n",
       "      <th>count</th>\n",
       "      <td>6.000000</td>\n",
       "    </tr>\n",
       "    <tr>\n",
       "      <th>mean</th>\n",
       "      <td>-14.500000</td>\n",
       "    </tr>\n",
       "    <tr>\n",
       "      <th>std</th>\n",
       "      <td>9.502631</td>\n",
       "    </tr>\n",
       "    <tr>\n",
       "      <th>min</th>\n",
       "      <td>-23.000000</td>\n",
       "    </tr>\n",
       "    <tr>\n",
       "      <th>25%</th>\n",
       "      <td>-22.000000</td>\n",
       "    </tr>\n",
       "    <tr>\n",
       "      <th>50%</th>\n",
       "      <td>-18.000000</td>\n",
       "    </tr>\n",
       "    <tr>\n",
       "      <th>75%</th>\n",
       "      <td>-6.500000</td>\n",
       "    </tr>\n",
       "    <tr>\n",
       "      <th>max</th>\n",
       "      <td>-2.000000</td>\n",
       "    </tr>\n",
       "  </tbody>\n",
       "</table>\n",
       "</div>"
      ],
      "text/plain": [
       "               0\n",
       "count   6.000000\n",
       "mean  -14.500000\n",
       "std     9.502631\n",
       "min   -23.000000\n",
       "25%   -22.000000\n",
       "50%   -18.000000\n",
       "75%    -6.500000\n",
       "max    -2.000000"
      ]
     },
     "execution_count": 16,
     "metadata": {},
     "output_type": "execute_result"
    }
   ],
   "source": [
    "df = pd.DataFrame(temperature)\n",
    "df.describe()"
   ]
  },
  {
   "cell_type": "code",
   "execution_count": 18,
   "id": "18ae5416bd08c874",
   "metadata": {
    "ExecuteTime": {
     "end_time": "2024-12-24T21:02:38.342702Z",
     "start_time": "2024-12-24T21:02:38.339380Z"
    }
   },
   "outputs": [
    {
     "data": {
      "text/plain": [
       "np.float64(-14.5)"
      ]
     },
     "execution_count": 18,
     "metadata": {},
     "output_type": "execute_result"
    }
   ],
   "source": [
    "np.mean(temperature)"
   ]
  },
  {
   "cell_type": "code",
   "execution_count": 19,
   "id": "69b21375c9893148",
   "metadata": {
    "ExecuteTime": {
     "end_time": "2024-12-24T21:02:39.938456Z",
     "start_time": "2024-12-24T21:02:39.934950Z"
    }
   },
   "outputs": [
    {
     "data": {
      "text/plain": [
       "np.float64(-18.0)"
      ]
     },
     "execution_count": 19,
     "metadata": {},
     "output_type": "execute_result"
    }
   ],
   "source": [
    "np.median(temperature)"
   ]
  }
 ],
 "metadata": {
  "kernelspec": {
   "display_name": "Python 3 (ipykernel)",
   "language": "python",
   "name": "python3"
  },
  "language_info": {
   "codemirror_mode": {
    "name": "ipython",
    "version": 3
   },
   "file_extension": ".py",
   "mimetype": "text/x-python",
   "name": "python",
   "nbconvert_exporter": "python",
   "pygments_lexer": "ipython3",
   "version": "3.13.1"
  }
 },
 "nbformat": 4,
 "nbformat_minor": 5
}
