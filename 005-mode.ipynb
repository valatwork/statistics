{
 "cells": [
  {
   "cell_type": "markdown",
   "id": "c8d7b4ba8d8d1d19",
   "metadata": {},
   "source": [
    "# Descriptive Statistics: Measures of Central Tendency"
   ]
  },
  {
   "cell_type": "markdown",
   "id": "9f0792410a4edb2e",
   "metadata": {},
   "source": [
    "## Mode"
   ]
  },
  {
   "cell_type": "markdown",
   "id": "5ae213697c86a1ea",
   "metadata": {},
   "source": [
    "The value (or values) in a set of data values that appears most frequently."
   ]
  },
  {
   "cell_type": "markdown",
   "id": "dbde5bbc32ca83a1",
   "metadata": {},
   "source": [
    "> Some sets of data values have no mode because all the unique values appear the same number of times. Other sets of data values can have more than one mode, such as the get-ready times that several earlier worked-out problems used.\n",
    "\n",
    "As with the median, extreme values do not affect the mode. However, unlike with the median, the mode can vary much more from sample to sample than can the median or the mean."
   ]
  },
  {
   "cell_type": "markdown",
   "id": "d068ae901323eeb5",
   "metadata": {},
   "source": [
    "*(Synonyms: modal value, modal average)*"
   ]
  },
  {
   "cell_type": "markdown",
   "id": "67478b8eee456c7a",
   "metadata": {},
   "source": "### Examples (mode)"
  },
  {
   "cell_type": "markdown",
   "id": "6557d6410414c697",
   "metadata": {},
   "source": [
    "#### Example 1 (mode)"
   ]
  },
  {
   "cell_type": "code",
   "id": "952215860253f89e",
   "metadata": {
    "ExecuteTime": {
     "end_time": "2025-01-03T13:54:59.123313Z",
     "start_time": "2025-01-03T13:54:59.121082Z"
    }
   },
   "source": [
    "import pandas as pd\n",
    "import numpy as np\n",
    "import statistics as sts\n",
    "from scipy import stats"
   ],
   "outputs": [],
   "execution_count": 3
  },
  {
   "cell_type": "code",
   "id": "41c87100675e5ad",
   "metadata": {
    "ExecuteTime": {
     "end_time": "2025-01-03T13:54:59.619776Z",
     "start_time": "2025-01-03T13:54:59.617235Z"
    }
   },
   "source": [
    "mode_data = [1, 1, 2, 3, 7,8]"
   ],
   "outputs": [],
   "execution_count": 4
  },
  {
   "cell_type": "code",
   "id": "f67282d1529731cc",
   "metadata": {
    "ExecuteTime": {
     "end_time": "2025-01-03T13:55:00.110325Z",
     "start_time": "2025-01-03T13:55:00.099989Z"
    }
   },
   "source": [
    "df = pd.DataFrame(mode_data)\n",
    "df.mode()"
   ],
   "outputs": [
    {
     "data": {
      "text/plain": [
       "   0\n",
       "0  1"
      ],
      "text/html": [
       "<div>\n",
       "<style scoped>\n",
       "    .dataframe tbody tr th:only-of-type {\n",
       "        vertical-align: middle;\n",
       "    }\n",
       "\n",
       "    .dataframe tbody tr th {\n",
       "        vertical-align: top;\n",
       "    }\n",
       "\n",
       "    .dataframe thead th {\n",
       "        text-align: right;\n",
       "    }\n",
       "</style>\n",
       "<table border=\"1\" class=\"dataframe\">\n",
       "  <thead>\n",
       "    <tr style=\"text-align: right;\">\n",
       "      <th></th>\n",
       "      <th>0</th>\n",
       "    </tr>\n",
       "  </thead>\n",
       "  <tbody>\n",
       "    <tr>\n",
       "      <th>0</th>\n",
       "      <td>1</td>\n",
       "    </tr>\n",
       "  </tbody>\n",
       "</table>\n",
       "</div>"
      ]
     },
     "execution_count": 5,
     "metadata": {},
     "output_type": "execute_result"
    }
   ],
   "execution_count": 5
  },
  {
   "cell_type": "code",
   "id": "89dd6b5678622b8b",
   "metadata": {
    "ExecuteTime": {
     "end_time": "2025-01-03T13:55:01.579458Z",
     "start_time": "2025-01-03T13:55:01.575659Z"
    }
   },
   "source": "sts.mode(mode_data)",
   "outputs": [
    {
     "data": {
      "text/plain": [
       "1"
      ]
     },
     "execution_count": 6,
     "metadata": {},
     "output_type": "execute_result"
    }
   ],
   "execution_count": 6
  },
  {
   "cell_type": "markdown",
   "id": "93fb5900825c8bf6",
   "metadata": {},
   "source": [
    "#### Example 2 (mode)"
   ]
  },
  {
   "cell_type": "markdown",
   "id": "52911ec023b24f33",
   "metadata": {},
   "source": [
    "Bi-modal"
   ]
  },
  {
   "cell_type": "code",
   "id": "6db093db3624ffbe",
   "metadata": {
    "ExecuteTime": {
     "end_time": "2025-01-03T13:55:13.939774Z",
     "start_time": "2025-01-03T13:55:13.937090Z"
    }
   },
   "source": [
    "bimode_data = [1, 1, 2, 3, 7, 8, 8]"
   ],
   "outputs": [],
   "execution_count": 8
  },
  {
   "cell_type": "code",
   "id": "411dbbd4039ec908",
   "metadata": {
    "ExecuteTime": {
     "end_time": "2025-01-03T13:55:14.454892Z",
     "start_time": "2025-01-03T13:55:14.450012Z"
    }
   },
   "source": [
    "df = pd.DataFrame(bimode_data)\n",
    "df.mode()"
   ],
   "outputs": [
    {
     "data": {
      "text/plain": [
       "   0\n",
       "0  1\n",
       "1  8"
      ],
      "text/html": [
       "<div>\n",
       "<style scoped>\n",
       "    .dataframe tbody tr th:only-of-type {\n",
       "        vertical-align: middle;\n",
       "    }\n",
       "\n",
       "    .dataframe tbody tr th {\n",
       "        vertical-align: top;\n",
       "    }\n",
       "\n",
       "    .dataframe thead th {\n",
       "        text-align: right;\n",
       "    }\n",
       "</style>\n",
       "<table border=\"1\" class=\"dataframe\">\n",
       "  <thead>\n",
       "    <tr style=\"text-align: right;\">\n",
       "      <th></th>\n",
       "      <th>0</th>\n",
       "    </tr>\n",
       "  </thead>\n",
       "  <tbody>\n",
       "    <tr>\n",
       "      <th>0</th>\n",
       "      <td>1</td>\n",
       "    </tr>\n",
       "    <tr>\n",
       "      <th>1</th>\n",
       "      <td>8</td>\n",
       "    </tr>\n",
       "  </tbody>\n",
       "</table>\n",
       "</div>"
      ]
     },
     "execution_count": 9,
     "metadata": {},
     "output_type": "execute_result"
    }
   ],
   "execution_count": 9
  },
  {
   "cell_type": "markdown",
   "id": "7c5a589b4f52b035",
   "metadata": {},
   "source": [
    "**Note**: the statistics `mode()` function in Python will return the first mode it finds. If there are multiple modes, it will return the first one it iterates. The function `multimode()` will, instead, return a list of modes.\n",
    "Not very handy, as it is not possible to know how many modes there are in a large dataset."
   ]
  },
  {
   "metadata": {
    "ExecuteTime": {
     "end_time": "2025-01-03T13:55:15.342256Z",
     "start_time": "2025-01-03T13:55:15.338504Z"
    }
   },
   "cell_type": "code",
   "outputs": [
    {
     "data": {
      "text/plain": [
       "1"
      ]
     },
     "execution_count": 10,
     "metadata": {},
     "output_type": "execute_result"
    }
   ],
   "execution_count": 10,
   "source": "sts.mode(bimode_data)",
   "id": "6d27f2246248faca"
  },
  {
   "metadata": {
    "ExecuteTime": {
     "end_time": "2025-01-03T14:10:07.166732Z",
     "start_time": "2025-01-03T14:10:07.163071Z"
    }
   },
   "cell_type": "code",
   "source": "sts.multimode(bimode_data)",
   "id": "d84e36cd83f3c091",
   "outputs": [
    {
     "data": {
      "text/plain": [
       "[1, 8]"
      ]
     },
     "execution_count": 12,
     "metadata": {},
     "output_type": "execute_result"
    }
   ],
   "execution_count": 12
  },
  {
   "metadata": {},
   "cell_type": "markdown",
   "source": "The scipy `mode()` function has the same behavior.",
   "id": "a415bb039293ca04"
  },
  {
   "metadata": {
    "ExecuteTime": {
     "end_time": "2025-01-03T14:11:25.107165Z",
     "start_time": "2025-01-03T14:11:25.102811Z"
    }
   },
   "cell_type": "code",
   "outputs": [
    {
     "data": {
      "text/plain": [
       "ModeResult(mode=np.int64(1), count=np.int64(2))"
      ]
     },
     "execution_count": 15,
     "metadata": {},
     "output_type": "execute_result"
    }
   ],
   "execution_count": 15,
   "source": "stats.mode(bimode_data)",
   "id": "23e3db40010855fb"
  },
  {
   "cell_type": "markdown",
   "id": "d6cca7b57c3633f1",
   "metadata": {},
   "source": [
    "#### Example 3 (mode)"
   ]
  },
  {
   "cell_type": "markdown",
   "id": "7a9ebcdf87e2aeda",
   "metadata": {},
   "source": "No mode: more than two modes"
  },
  {
   "cell_type": "code",
   "execution_count": 8,
   "id": "139092220a7970e3",
   "metadata": {
    "ExecuteTime": {
     "end_time": "2024-12-24T21:17:45.282917Z",
     "start_time": "2024-12-24T21:17:45.280644Z"
    }
   },
   "outputs": [],
   "source": [
    "trimode_data = [1, 1, 2, 3, 7, 8, 8, 7]"
   ]
  },
  {
   "cell_type": "code",
   "execution_count": 9,
   "id": "666114983073dd4e",
   "metadata": {
    "ExecuteTime": {
     "end_time": "2024-12-24T21:17:46.193371Z",
     "start_time": "2024-12-24T21:17:46.191038Z"
    }
   },
   "outputs": [],
   "source": [
    "df = pd.DataFrame(trimode_data)"
   ]
  },
  {
   "cell_type": "code",
   "execution_count": 10,
   "id": "b532ffdd85afb316",
   "metadata": {
    "ExecuteTime": {
     "end_time": "2024-12-24T21:17:58.485496Z",
     "start_time": "2024-12-24T21:17:58.481264Z"
    }
   },
   "outputs": [
    {
     "data": {
      "text/html": [
       "<div>\n",
       "<style scoped>\n",
       "    .dataframe tbody tr th:only-of-type {\n",
       "        vertical-align: middle;\n",
       "    }\n",
       "\n",
       "    .dataframe tbody tr th {\n",
       "        vertical-align: top;\n",
       "    }\n",
       "\n",
       "    .dataframe thead th {\n",
       "        text-align: right;\n",
       "    }\n",
       "</style>\n",
       "<table border=\"1\" class=\"dataframe\">\n",
       "  <thead>\n",
       "    <tr style=\"text-align: right;\">\n",
       "      <th></th>\n",
       "      <th>0</th>\n",
       "    </tr>\n",
       "  </thead>\n",
       "  <tbody>\n",
       "    <tr>\n",
       "      <th>0</th>\n",
       "      <td>1</td>\n",
       "    </tr>\n",
       "    <tr>\n",
       "      <th>1</th>\n",
       "      <td>7</td>\n",
       "    </tr>\n",
       "    <tr>\n",
       "      <th>2</th>\n",
       "      <td>8</td>\n",
       "    </tr>\n",
       "  </tbody>\n",
       "</table>\n",
       "</div>"
      ],
      "text/plain": [
       "   0\n",
       "0  1\n",
       "1  7\n",
       "2  8"
      ]
     },
     "execution_count": 10,
     "metadata": {},
     "output_type": "execute_result"
    }
   ],
   "source": [
    "df.mode()"
   ]
  },
  {
   "cell_type": "markdown",
   "id": "32a05e5554a3fe99",
   "metadata": {},
   "source": [
    "<p>&#128681;</p>\n",
    "\n",
    "**Despite Pandas calculating the mode, a \"tri-mode\" (or more) is not accepted in statistics.**"
   ]
  },
  {
   "cell_type": "code",
   "id": "586dd7b4b260a4b5",
   "metadata": {
    "ExecuteTime": {
     "end_time": "2025-01-03T14:24:38.767408Z",
     "start_time": "2025-01-03T14:24:38.765104Z"
    }
   },
   "source": [
    "no_mode = [1, 2, 3, 4, 5, 6]"
   ],
   "outputs": [],
   "execution_count": 18
  },
  {
   "cell_type": "code",
   "id": "73cb10e22bb2bebb",
   "metadata": {
    "ExecuteTime": {
     "end_time": "2025-01-03T14:24:39.262160Z",
     "start_time": "2025-01-03T14:24:39.259405Z"
    }
   },
   "source": [
    "df = pd.DataFrame(no_mode)"
   ],
   "outputs": [],
   "execution_count": 19
  },
  {
   "cell_type": "code",
   "id": "14fbf01f34e025b6",
   "metadata": {
    "ExecuteTime": {
     "end_time": "2025-01-03T14:24:39.686738Z",
     "start_time": "2025-01-03T14:24:39.681949Z"
    }
   },
   "source": [
    "df.mode()"
   ],
   "outputs": [
    {
     "data": {
      "text/plain": [
       "   0\n",
       "0  1\n",
       "1  2\n",
       "2  3\n",
       "3  4\n",
       "4  5\n",
       "5  6"
      ],
      "text/html": [
       "<div>\n",
       "<style scoped>\n",
       "    .dataframe tbody tr th:only-of-type {\n",
       "        vertical-align: middle;\n",
       "    }\n",
       "\n",
       "    .dataframe tbody tr th {\n",
       "        vertical-align: top;\n",
       "    }\n",
       "\n",
       "    .dataframe thead th {\n",
       "        text-align: right;\n",
       "    }\n",
       "</style>\n",
       "<table border=\"1\" class=\"dataframe\">\n",
       "  <thead>\n",
       "    <tr style=\"text-align: right;\">\n",
       "      <th></th>\n",
       "      <th>0</th>\n",
       "    </tr>\n",
       "  </thead>\n",
       "  <tbody>\n",
       "    <tr>\n",
       "      <th>0</th>\n",
       "      <td>1</td>\n",
       "    </tr>\n",
       "    <tr>\n",
       "      <th>1</th>\n",
       "      <td>2</td>\n",
       "    </tr>\n",
       "    <tr>\n",
       "      <th>2</th>\n",
       "      <td>3</td>\n",
       "    </tr>\n",
       "    <tr>\n",
       "      <th>3</th>\n",
       "      <td>4</td>\n",
       "    </tr>\n",
       "    <tr>\n",
       "      <th>4</th>\n",
       "      <td>5</td>\n",
       "    </tr>\n",
       "    <tr>\n",
       "      <th>5</th>\n",
       "      <td>6</td>\n",
       "    </tr>\n",
       "  </tbody>\n",
       "</table>\n",
       "</div>"
      ]
     },
     "execution_count": 20,
     "metadata": {},
     "output_type": "execute_result"
    }
   ],
   "execution_count": 20
  },
  {
   "cell_type": "markdown",
   "id": "c5c7a18dc9176094",
   "metadata": {},
   "source": "<p>&#128270;</p> When there is no mode, Pandas will return <i>all values</i> in the dataset."
  },
  {
   "cell_type": "code",
   "id": "7b245973a7976248",
   "metadata": {
    "ExecuteTime": {
     "end_time": "2025-01-03T14:24:41.544728Z",
     "start_time": "2025-01-03T14:24:41.541421Z"
    }
   },
   "source": "sts.mode(no_mode)",
   "outputs": [
    {
     "data": {
      "text/plain": [
       "1"
      ]
     },
     "execution_count": 21,
     "metadata": {},
     "output_type": "execute_result"
    }
   ],
   "execution_count": 21
  },
  {
   "cell_type": "markdown",
   "id": "b9c10a9aaf9e7d3c",
   "metadata": {},
   "source": [
    "<p>&#128681;</p>\n",
    "When there is no mode, the statistics <code>mode()</code> function will return the first value in the dataset."
   ]
  },
  {
   "metadata": {},
   "cell_type": "markdown",
   "source": "#### Example 4 (mode)",
   "id": "b1215d522d674854"
  },
  {
   "metadata": {
    "ExecuteTime": {
     "end_time": "2024-12-27T18:31:25.691439Z",
     "start_time": "2024-12-27T18:31:25.687405Z"
    }
   },
   "cell_type": "code",
   "source": [
    "ages = np.random.randint(18, 90, 500)\n",
    "ages"
   ],
   "id": "4192c6686c6acb79",
   "outputs": [
    {
     "data": {
      "text/plain": [
       "array([78, 56, 52, 38, 23, 72, 33, 29, 46, 78, 73, 51, 57, 29, 29, 80, 31,\n",
       "       86, 46, 64, 68, 75, 72, 88, 87, 46, 39, 54, 63, 36, 38, 88, 40, 57,\n",
       "       34, 24, 36, 57, 29, 74, 59, 26, 41, 89, 39, 41, 29, 40, 83, 38, 44,\n",
       "       35, 31, 25, 35, 48, 73, 53, 60, 38, 18, 47, 78, 71, 82, 65, 30, 42,\n",
       "       81, 34, 66, 89, 51, 85, 84, 84, 55, 41, 37, 75, 71, 32, 19, 88, 26,\n",
       "       33, 86, 42, 67, 42, 81, 64, 77, 41, 49, 61, 60, 24, 70, 64, 27, 35,\n",
       "       26, 64, 79, 70, 68, 67, 88, 82, 27, 48, 54, 19, 58, 35, 49, 77, 29,\n",
       "       89, 61, 53, 57, 32, 72, 31, 71, 82, 62, 37, 52, 86, 44, 84, 78, 43,\n",
       "       30, 54, 74, 41, 36, 61, 47, 70, 40, 53, 77, 66, 89, 64, 80, 89, 33,\n",
       "       54, 61, 82, 61, 39, 49, 23, 31, 28, 70, 65, 66, 18, 22, 21, 85, 70,\n",
       "       25, 46, 37, 19, 23, 36, 45, 63, 67, 34, 72, 80, 34, 64, 54, 66, 42,\n",
       "       54, 86, 81, 50, 74, 36, 85, 51, 34, 67, 72, 87, 53, 51, 26, 26, 30,\n",
       "       85, 25, 20, 37, 19, 86, 25, 73, 19, 48, 71, 60, 30, 59, 44, 46, 71,\n",
       "       47, 85, 48, 56, 32, 45, 68, 33, 85, 36, 87, 84, 26, 32, 70, 39, 78,\n",
       "       51, 49, 81, 77, 28, 88, 59, 85, 56, 26, 86, 30, 56, 65, 41, 85, 48,\n",
       "       23, 59, 70, 40, 49, 64, 45, 67, 57, 28, 39, 36, 81, 82, 65, 79, 70,\n",
       "       58, 52, 18, 30, 51, 58, 78, 72, 75, 66, 72, 51, 61, 48, 67, 43, 63,\n",
       "       34, 70, 32, 57, 78, 63, 84, 76, 62, 83, 34, 20, 26, 25, 53, 88, 63,\n",
       "       44, 63, 57, 38, 47, 42, 73, 54, 40, 85, 29, 68, 26, 25, 84, 19, 81,\n",
       "       43, 80, 57, 29, 19, 48, 67, 84, 34, 30, 40, 47, 66, 79, 76, 25, 66,\n",
       "       86, 39, 24, 49, 82, 72, 70, 38, 57, 44, 66, 36, 44, 20, 18, 83, 60,\n",
       "       70, 80, 83, 21, 59, 57, 19, 24, 65, 87, 37, 41, 89, 49, 58, 75, 36,\n",
       "       84, 32, 40, 49, 88, 62, 40, 32, 25, 69, 27, 31, 25, 76, 50, 35, 84,\n",
       "       48, 88, 68, 60, 50, 25, 67, 24, 86, 30, 22, 78, 81, 57, 81, 67, 29,\n",
       "       26, 84, 52, 29, 31, 71, 70, 85, 56, 72, 61, 89, 33, 82, 67, 50, 40,\n",
       "       79, 72, 36, 50, 34, 46, 57, 48, 20, 70, 18, 74, 49, 55, 48, 26, 33,\n",
       "       18, 63, 85, 35, 50, 62, 25, 87, 25, 44, 52, 88, 61, 52, 58, 51, 24,\n",
       "       85, 87, 59, 51, 56, 75, 75, 54, 37, 88, 52, 43, 34, 51, 46, 81, 67,\n",
       "       34, 34, 38, 81, 63, 50, 36, 83, 38, 67, 76, 88, 46, 86, 28, 45, 52,\n",
       "       57, 32, 44, 55, 68, 71, 28], dtype=int32)"
      ]
     },
     "execution_count": 13,
     "metadata": {},
     "output_type": "execute_result"
    }
   ],
   "execution_count": 13
  },
  {
   "metadata": {
    "ExecuteTime": {
     "end_time": "2024-12-27T18:32:25.629305Z",
     "start_time": "2024-12-27T18:32:25.624976Z"
    }
   },
   "cell_type": "code",
   "source": "stats.mode(ages)",
   "id": "50a025a99f3a81b0",
   "outputs": [
    {
     "data": {
      "text/plain": [
       "ModeResult(mode=np.int32(57), count=np.int64(13))"
      ]
     },
     "execution_count": 15,
     "metadata": {},
     "output_type": "execute_result"
    }
   ],
   "execution_count": 15
  },
  {
   "cell_type": "markdown",
   "id": "1381e6977ff62c27",
   "metadata": {},
   "source": [
    "### Exercises (mode)"
   ]
  },
  {
   "cell_type": "markdown",
   "id": "5704d6c763c03bf3",
   "metadata": {},
   "source": [
    "##### Exercise 1 (mode)"
   ]
  },
  {
   "cell_type": "markdown",
   "id": "92d6ce00-4040-4e5b-855c-4730cfb2732e",
   "metadata": {},
   "source": [
    "The data below lists daily demand for hammers at a hardware store over the last 20 days. Identify the mode."
   ]
  },
  {
   "cell_type": "code",
   "execution_count": 16,
   "id": "c12e9b2f-8081-48ed-8c3e-e21f09bb7ac8",
   "metadata": {},
   "outputs": [],
   "source": [
    "hammers = [2, 1, 0, 2, 1, 3, 0, 2, 4, 0, 3, 2, 3, 4, 2, 2, 2, 4, 3, 0]"
   ]
  },
  {
   "cell_type": "code",
   "execution_count": 17,
   "id": "c6130472-6630-4ef3-b59d-6450cda2cd15",
   "metadata": {},
   "outputs": [],
   "source": [
    "df = pd.DataFrame(hammers)"
   ]
  },
  {
   "cell_type": "code",
   "execution_count": 18,
   "id": "91163a72-d64e-41e7-bfb0-debe69219453",
   "metadata": {},
   "outputs": [
    {
     "data": {
      "text/html": [
       "<div>\n",
       "<style scoped>\n",
       "    .dataframe tbody tr th:only-of-type {\n",
       "        vertical-align: middle;\n",
       "    }\n",
       "\n",
       "    .dataframe tbody tr th {\n",
       "        vertical-align: top;\n",
       "    }\n",
       "\n",
       "    .dataframe thead th {\n",
       "        text-align: right;\n",
       "    }\n",
       "</style>\n",
       "<table border=\"1\" class=\"dataframe\">\n",
       "  <thead>\n",
       "    <tr style=\"text-align: right;\">\n",
       "      <th></th>\n",
       "      <th>0</th>\n",
       "    </tr>\n",
       "  </thead>\n",
       "  <tbody>\n",
       "    <tr>\n",
       "      <th>0</th>\n",
       "      <td>2</td>\n",
       "    </tr>\n",
       "  </tbody>\n",
       "</table>\n",
       "</div>"
      ],
      "text/plain": [
       "   0\n",
       "0  2"
      ]
     },
     "execution_count": 18,
     "metadata": {},
     "output_type": "execute_result"
    }
   ],
   "source": [
    "df.mode()"
   ]
  },
  {
   "cell_type": "markdown",
   "id": "dc6a69c2-e588-469f-84ea-7ae497e09902",
   "metadata": {},
   "source": [
    " A grocery store records the time, in minutes, required to check out nine randomly selected customers. Identify the mode of this data set."
   ]
  },
  {
   "cell_type": "code",
   "execution_count": 19,
   "id": "5b16deaf-9bcb-424a-9dde-4336569f0a29",
   "metadata": {},
   "outputs": [],
   "source": [
    "minutes = [3, 4, 2, 5, 4, 1, 5, 5, 4]"
   ]
  },
  {
   "cell_type": "code",
   "execution_count": 20,
   "id": "47c8e483-f345-4460-b93a-8534dbc5ab5f",
   "metadata": {},
   "outputs": [],
   "source": [
    "df = pd.DataFrame(minutes)"
   ]
  },
  {
   "cell_type": "code",
   "execution_count": 21,
   "id": "90bec41e-9e52-4ffe-a1b4-12c01dacfffc",
   "metadata": {},
   "outputs": [
    {
     "data": {
      "text/html": [
       "<div>\n",
       "<style scoped>\n",
       "    .dataframe tbody tr th:only-of-type {\n",
       "        vertical-align: middle;\n",
       "    }\n",
       "\n",
       "    .dataframe tbody tr th {\n",
       "        vertical-align: top;\n",
       "    }\n",
       "\n",
       "    .dataframe thead th {\n",
       "        text-align: right;\n",
       "    }\n",
       "</style>\n",
       "<table border=\"1\" class=\"dataframe\">\n",
       "  <thead>\n",
       "    <tr style=\"text-align: right;\">\n",
       "      <th></th>\n",
       "      <th>0</th>\n",
       "    </tr>\n",
       "  </thead>\n",
       "  <tbody>\n",
       "    <tr>\n",
       "      <th>0</th>\n",
       "      <td>4</td>\n",
       "    </tr>\n",
       "    <tr>\n",
       "      <th>1</th>\n",
       "      <td>5</td>\n",
       "    </tr>\n",
       "  </tbody>\n",
       "</table>\n",
       "</div>"
      ],
      "text/plain": [
       "   0\n",
       "0  4\n",
       "1  5"
      ]
     },
     "execution_count": 21,
     "metadata": {},
     "output_type": "execute_result"
    }
   ],
   "source": [
    "df.mode()"
   ]
  }
 ],
 "metadata": {
  "kernelspec": {
   "display_name": "Python 3 (ipykernel)",
   "language": "python",
   "name": "python3"
  },
  "language_info": {
   "codemirror_mode": {
    "name": "ipython",
    "version": 3
   },
   "file_extension": ".py",
   "mimetype": "text/x-python",
   "name": "python",
   "nbconvert_exporter": "python",
   "pygments_lexer": "ipython3",
   "version": "3.13.1"
  }
 },
 "nbformat": 4,
 "nbformat_minor": 5
}
