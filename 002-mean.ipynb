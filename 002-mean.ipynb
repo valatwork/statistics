{
 "cells": [
  {
   "metadata": {},
   "cell_type": "markdown",
   "source": "# Descriptive Statistics: Measures of Central Tendency",
   "id": "d10633c717fdbde9"
  },
  {
   "metadata": {},
   "cell_type": "markdown",
   "source": "## Mean\n",
   "id": "e26a68e7cb85b058"
  },
  {
   "metadata": {},
   "cell_type": "markdown",
   "source": [
    "A number equal to the sum of the data values, divided by the number of data values that were summed.\n",
    "\n",
    "*(Synonyms: average, arithmetic mean)*"
   ],
   "id": "58d32143566bbe9c"
  },
  {
   "metadata": {},
   "cell_type": "markdown",
   "source": [
    "### Formula\n",
    "Sum of observations divided by the number of observations.\n",
    "\n",
    "Population mean: $\\mu$\n",
    "\n",
    "Sample mean:\n",
    "\n",
    "$$\n",
    "\\bar{x} = \\frac{\\sum_{i=1}^{n} x_i}{n}\n",
    "$$"
   ],
   "id": "13bc107281a66ccc"
  },
  {
   "metadata": {},
   "cell_type": "markdown",
   "source": "### Examples (mean)",
   "id": "af3f5611f4b0d391"
  },
  {
   "metadata": {},
   "cell_type": "markdown",
   "source": "#### Example 1 (mean)",
   "id": "e73595ae710d079a"
  },
  {
   "metadata": {
    "ExecuteTime": {
     "end_time": "2024-12-27T18:36:04.909338Z",
     "start_time": "2024-12-27T18:36:04.906335Z"
    }
   },
   "cell_type": "code",
   "source": [
    "import pandas as pd\n",
    "import numpy as np\n",
    "import matplotlib.pyplot as plt"
   ],
   "id": "b04057de0076cbfe",
   "outputs": [],
   "execution_count": 34
  },
  {
   "metadata": {
    "ExecuteTime": {
     "end_time": "2024-12-27T18:24:20.646195Z",
     "start_time": "2024-12-27T18:24:20.640770Z"
    }
   },
   "cell_type": "code",
   "source": [
    "data = [1, 2, 3, 4, 5, 6, 7, 8, 9, 10]\n",
    "df = pd.DataFrame(data)\n",
    "df.mean()"
   ],
   "id": "415000b10043c6b6",
   "outputs": [
    {
     "data": {
      "text/plain": [
       "0    5.5\n",
       "dtype: float64"
      ]
     },
     "execution_count": 32,
     "metadata": {},
     "output_type": "execute_result"
    }
   ],
   "execution_count": 32
  },
  {
   "metadata": {
    "ExecuteTime": {
     "end_time": "2024-12-27T18:24:20.943364Z",
     "start_time": "2024-12-27T18:24:20.939601Z"
    }
   },
   "cell_type": "code",
   "source": "np.mean(data)",
   "id": "3bca58d9b74c20af",
   "outputs": [
    {
     "data": {
      "text/plain": [
       "np.float64(5.5)"
      ]
     },
     "execution_count": 33,
     "metadata": {},
     "output_type": "execute_result"
    }
   ],
   "execution_count": 33
  },
  {
   "metadata": {},
   "cell_type": "markdown",
   "source": "#### Example 2 (mean)",
   "id": "894209ee5fc262e6"
  },
  {
   "metadata": {
    "ExecuteTime": {
     "end_time": "2024-12-27T18:06:10.910700Z",
     "start_time": "2024-12-27T18:06:10.906531Z"
    }
   },
   "cell_type": "code",
   "source": [
    "nums_list = [2,1,3,4,7]\n",
    "nums = pd.DataFrame(nums_list)\n",
    "nums.mean()"
   ],
   "id": "70968f753545f07c",
   "outputs": [
    {
     "data": {
      "text/plain": [
       "0    3.4\n",
       "dtype: float64"
      ]
     },
     "execution_count": 14,
     "metadata": {},
     "output_type": "execute_result"
    }
   ],
   "execution_count": 14
  },
  {
   "metadata": {
    "ExecuteTime": {
     "end_time": "2024-12-27T18:06:11.502945Z",
     "start_time": "2024-12-27T18:06:11.499338Z"
    }
   },
   "cell_type": "code",
   "source": "np.mean(nums_list)",
   "id": "258c4e4e9a996dd",
   "outputs": [
    {
     "data": {
      "text/plain": [
       "np.float64(3.4)"
      ]
     },
     "execution_count": 15,
     "metadata": {},
     "output_type": "execute_result"
    }
   ],
   "execution_count": 15
  },
  {
   "metadata": {},
   "cell_type": "markdown",
   "source": "#### Example 3 (mean)",
   "id": "c379ce4e8562d491"
  },
  {
   "metadata": {
    "ExecuteTime": {
     "end_time": "2024-12-27T18:10:07.308112Z",
     "start_time": "2024-12-27T18:10:07.303374Z"
    }
   },
   "cell_type": "code",
   "source": [
    "incomes = np.random.normal(27000, 15000, 10000)\n",
    "np.median(incomes)"
   ],
   "id": "cf0c49b1bcbec3be",
   "outputs": [
    {
     "data": {
      "text/plain": [
       "np.float64(27506.58184185785)"
      ]
     },
     "execution_count": 21,
     "metadata": {},
     "output_type": "execute_result"
    }
   ],
   "execution_count": 21
  },
  {
   "metadata": {
    "ExecuteTime": {
     "end_time": "2024-12-27T18:10:07.958399Z",
     "start_time": "2024-12-27T18:10:07.862118Z"
    }
   },
   "cell_type": "code",
   "source": [
    "plt.hist(incomes, 50)\n",
    "plt.show()"
   ],
   "id": "47d8482454f71ef8",
   "outputs": [
    {
     "data": {
      "text/plain": [
       "<Figure size 640x480 with 1 Axes>"
      ],
      "image/png": "[encoded data removed]"
     },
     "metadata": {},
     "output_type": "display_data"
    }
   ],
   "execution_count": 22
  },
  {
   "metadata": {},
   "cell_type": "markdown",
   "source": "### Exercises (mean)",
   "id": "c38cfa4fc9eabd9d"
  },
  {
   "metadata": {},
   "cell_type": "markdown",
   "source": [
    "##### Exercise 1 (mean)\n",
    "> A consumer group tested the gas mileage of two car models in five trials. Which model averages more miles per gallon?"
   ],
   "id": "15a4d16acad9b581"
  },
  {
   "metadata": {
    "ExecuteTime": {
     "end_time": "2024-12-24T15:42:34.297529Z",
     "start_time": "2024-12-24T15:42:34.291793Z"
    }
   },
   "cell_type": "code",
   "outputs": [
    {
     "data": {
      "text/plain": [
       "   Trial  Model A  Model B\n",
       "0      1       22       21\n",
       "1      2       24       25\n",
       "2      3       19       25\n",
       "3      4       25       23\n",
       "4      5       20       21"
      ],
      "text/html": [
       "<div>\n",
       "<style scoped>\n",
       "    .dataframe tbody tr th:only-of-type {\n",
       "        vertical-align: middle;\n",
       "    }\n",
       "\n",
       "    .dataframe tbody tr th {\n",
       "        vertical-align: top;\n",
       "    }\n",
       "\n",
       "    .dataframe thead th {\n",
       "        text-align: right;\n",
       "    }\n",
       "</style>\n",
       "<table border=\"1\" class=\"dataframe\">\n",
       "  <thead>\n",
       "    <tr style=\"text-align: right;\">\n",
       "      <th></th>\n",
       "      <th>Trial</th>\n",
       "      <th>Model A</th>\n",
       "      <th>Model B</th>\n",
       "    </tr>\n",
       "  </thead>\n",
       "  <tbody>\n",
       "    <tr>\n",
       "      <th>0</th>\n",
       "      <td>1</td>\n",
       "      <td>22</td>\n",
       "      <td>21</td>\n",
       "    </tr>\n",
       "    <tr>\n",
       "      <th>1</th>\n",
       "      <td>2</td>\n",
       "      <td>24</td>\n",
       "      <td>25</td>\n",
       "    </tr>\n",
       "    <tr>\n",
       "      <th>2</th>\n",
       "      <td>3</td>\n",
       "      <td>19</td>\n",
       "      <td>25</td>\n",
       "    </tr>\n",
       "    <tr>\n",
       "      <th>3</th>\n",
       "      <td>4</td>\n",
       "      <td>25</td>\n",
       "      <td>23</td>\n",
       "    </tr>\n",
       "    <tr>\n",
       "      <th>4</th>\n",
       "      <td>5</td>\n",
       "      <td>20</td>\n",
       "      <td>21</td>\n",
       "    </tr>\n",
       "  </tbody>\n",
       "</table>\n",
       "</div>"
      ]
     },
     "execution_count": 5,
     "metadata": {},
     "output_type": "execute_result"
    }
   ],
   "execution_count": 5,
   "source": [
    "gallons = pd.DataFrame({\n",
    "    \"Trial\" : [1, 2, 3, 4, 5],\n",
    "    \"Model A\": [22, 24, 19, 25, 20],\n",
    "    \"Model B\": [21, 25, 25, 23, 21]\n",
    "})\n",
    "gallons"
   ],
   "id": "466bf5691fc4e274"
  },
  {
   "metadata": {
    "ExecuteTime": {
     "end_time": "2024-12-24T15:43:02.912051Z",
     "start_time": "2024-12-24T15:43:02.908260Z"
    }
   },
   "cell_type": "code",
   "outputs": [
    {
     "data": {
      "text/plain": [
       "np.float64(22.0)"
      ]
     },
     "execution_count": 6,
     "metadata": {},
     "output_type": "execute_result"
    }
   ],
   "execution_count": 6,
   "source": "gallons[\"Model A\"].mean()",
   "id": "77be89194b8ee661"
  },
  {
   "metadata": {
    "ExecuteTime": {
     "end_time": "2024-12-24T15:43:10.233077Z",
     "start_time": "2024-12-24T15:43:10.228592Z"
    }
   },
   "cell_type": "code",
   "outputs": [
    {
     "data": {
      "text/plain": [
       "np.float64(23.0)"
      ]
     },
     "execution_count": 7,
     "metadata": {},
     "output_type": "execute_result"
    }
   ],
   "execution_count": 7,
   "source": "gallons[\"Model B\"].mean()",
   "id": "65f1a9eccdb073c4"
  },
  {
   "metadata": {},
   "cell_type": "markdown",
   "source": [
    "##### Exercise 2 (mean)\n",
    "> The table below reports the number of minutes eight randomly selected airline flights were either early (negative values) or late (positive values) arriving at their destinations. Calculate the sample mean."
   ],
   "id": "81e1940d77bc4bbe"
  },
  {
   "metadata": {
    "ExecuteTime": {
     "end_time": "2024-12-24T15:47:39.989007Z",
     "start_time": "2024-12-24T15:47:39.985268Z"
    }
   },
   "cell_type": "code",
   "outputs": [
    {
     "data": {
      "text/plain": [
       "np.float64(8.625)"
      ]
     },
     "execution_count": 9,
     "metadata": {},
     "output_type": "execute_result"
    }
   ],
   "execution_count": 9,
   "source": [
    "flights = pd.DataFrame({\n",
    "    \"Flight\": [1, 2, 3, 4, 5, 6, 7, 8],\n",
    "    \"Minutes\": [12, -10, 32, -4, 0, 16, 5, 18]\n",
    "})\n",
    "flights[\"Minutes\"].mean()"
   ],
   "id": "5741623b9221f4a5"
  },
  {
   "metadata": {},
   "cell_type": "markdown",
   "source": [
    "##### Exercise 3 (mean)\n",
    "\n",
    ">The following table lists the daily percent increase (or decrease) of a stock price over a five-day period. Calculate the mean daily change in the stock price."
   ],
   "id": "775efb13c5aca17a"
  },
  {
   "metadata": {
    "ExecuteTime": {
     "end_time": "2024-12-24T15:50:00.722352Z",
     "start_time": "2024-12-24T15:50:00.717677Z"
    }
   },
   "cell_type": "code",
   "outputs": [
    {
     "data": {
      "text/plain": [
       "np.float64(-0.0176)"
      ]
     },
     "execution_count": 11,
     "metadata": {},
     "output_type": "execute_result"
    }
   ],
   "execution_count": 11,
   "source": [
    "stock = pd.DataFrame({\n",
    "    \"Day\": [1, 2, 3, 4, 5],\n",
    "    \"Percent Change\": [0.018, -0.026, -0.057, -0.039, 0.016]\n",
    "})\n",
    "stock[\"Percent Change\"].mean()"
   ],
   "id": "d8cd23f1f97d2330"
  },
  {
   "metadata": {},
   "cell_type": "markdown",
   "source": [
    "##### Exercise 4 (mean)\n",
    "> The table below lists the points scored by three basketball players over six games. Identify the player with the highest average points per game."
   ],
   "id": "b500719e3d14fd42"
  },
  {
   "metadata": {
    "ExecuteTime": {
     "end_time": "2024-12-24T15:52:46.143439Z",
     "start_time": "2024-12-24T15:52:46.139315Z"
    }
   },
   "cell_type": "code",
   "outputs": [
    {
     "data": {
      "text/plain": [
       "np.float64(15.333333333333334)"
      ]
     },
     "execution_count": 12,
     "metadata": {},
     "output_type": "execute_result"
    }
   ],
   "execution_count": 12,
   "source": [
    "players = pd.DataFrame({\n",
    "    \"Game\": [1, 2, 3, 4, 5, 6],\n",
    "    \"Kevin\": [17, 16, 8, 21, 25, 18],\n",
    "    \"Paul\": [20, 18, 7, 36, 34, 15],\n",
    "    \"Ray\": [18, 9, 17, 19, 17, 12]\n",
    "})"
   ],
   "id": "cea6d7a8aa3c07f2"
  },
  {
   "metadata": {
    "ExecuteTime": {
     "end_time": "2024-12-24T15:53:01.991173Z",
     "start_time": "2024-12-24T15:53:01.987323Z"
    }
   },
   "cell_type": "code",
   "outputs": [
    {
     "data": {
      "text/plain": [
       "np.float64(17.5)"
      ]
     },
     "execution_count": 13,
     "metadata": {},
     "output_type": "execute_result"
    }
   ],
   "execution_count": 13,
   "source": "players[\"Kevin\"].mean()",
   "id": "e50e796f1c9138c4"
  },
  {
   "metadata": {
    "ExecuteTime": {
     "end_time": "2024-12-24T15:53:04.386931Z",
     "start_time": "2024-12-24T15:53:04.383206Z"
    }
   },
   "cell_type": "code",
   "outputs": [
    {
     "data": {
      "text/plain": [
       "np.float64(21.666666666666668)"
      ]
     },
     "execution_count": 14,
     "metadata": {},
     "output_type": "execute_result"
    }
   ],
   "execution_count": 14,
   "source": "players[\"Paul\"].mean()",
   "id": "ee6cbeac15c659dd"
  },
  {
   "metadata": {
    "ExecuteTime": {
     "end_time": "2024-12-24T15:53:06.919321Z",
     "start_time": "2024-12-24T15:53:06.915662Z"
    }
   },
   "cell_type": "code",
   "outputs": [
    {
     "data": {
      "text/plain": [
       "np.float64(15.333333333333334)"
      ]
     },
     "execution_count": 15,
     "metadata": {},
     "output_type": "execute_result"
    }
   ],
   "execution_count": 15,
   "source": "players[\"Ray\"].mean()",
   "id": "2cda5c5a98e82ff"
  },
  {
   "metadata": {},
   "cell_type": "markdown",
   "source": [
    "##### Exercise 5 (mean)\n",
    "> A tire store develops a demand forecast that is based on the average demand from the previous three days. In the table below, the demand for tired over a seven-day period is listed. Calculate a demand forecast for January 11."
   ],
   "id": "b1d8c459b418899c"
  },
  {
   "metadata": {
    "ExecuteTime": {
     "end_time": "2024-12-24T15:58:49.968788Z",
     "start_time": "2024-12-24T15:58:49.964334Z"
    }
   },
   "cell_type": "code",
   "outputs": [
    {
     "data": {
      "text/plain": [
       "np.float64(29.333333333333332)"
      ]
     },
     "execution_count": 18,
     "metadata": {},
     "output_type": "execute_result"
    }
   ],
   "execution_count": 18,
   "source": [
    "tires = pd.DataFrame({\n",
    "    \"Day\": [\"January 4\", \"January 5\", \"January 6\", \"January 7\", \"January 8\", \"January 9\", \"January 10\"],\n",
    "    \"Demand\": [18, 23, 14, 15, 25, 34, 29]\n",
    "})\n",
    "# calculate the mean of the last three days\n",
    "tires[\"Demand\"].tail(3).mean()"
   ],
   "id": "fbdbfd73772cc340"
  },
  {
   "metadata": {},
   "cell_type": "markdown",
   "source": "Assume that the store calculates a demand forecast every day based on the average demand from the previous three days. Based on the given data, on which days was the demand forecast the most and the least accurate?",
   "id": "b713f47f22317728"
  },
  {
   "metadata": {
    "ExecuteTime": {
     "end_time": "2024-12-24T16:00:56.518146Z",
     "start_time": "2024-12-24T16:00:56.512814Z"
    }
   },
   "cell_type": "code",
   "outputs": [
    {
     "data": {
      "text/plain": [
       "          Day  Demand\n",
       "0   January 4      18\n",
       "1   January 5      23\n",
       "2   January 6      14\n",
       "3   January 7      15\n",
       "4   January 8      25\n",
       "5   January 9      34\n",
       "6  January 10      29"
      ],
      "text/html": [
       "<div>\n",
       "<style scoped>\n",
       "    .dataframe tbody tr th:only-of-type {\n",
       "        vertical-align: middle;\n",
       "    }\n",
       "\n",
       "    .dataframe tbody tr th {\n",
       "        vertical-align: top;\n",
       "    }\n",
       "\n",
       "    .dataframe thead th {\n",
       "        text-align: right;\n",
       "    }\n",
       "</style>\n",
       "<table border=\"1\" class=\"dataframe\">\n",
       "  <thead>\n",
       "    <tr style=\"text-align: right;\">\n",
       "      <th></th>\n",
       "      <th>Day</th>\n",
       "      <th>Demand</th>\n",
       "    </tr>\n",
       "  </thead>\n",
       "  <tbody>\n",
       "    <tr>\n",
       "      <th>0</th>\n",
       "      <td>January 4</td>\n",
       "      <td>18</td>\n",
       "    </tr>\n",
       "    <tr>\n",
       "      <th>1</th>\n",
       "      <td>January 5</td>\n",
       "      <td>23</td>\n",
       "    </tr>\n",
       "    <tr>\n",
       "      <th>2</th>\n",
       "      <td>January 6</td>\n",
       "      <td>14</td>\n",
       "    </tr>\n",
       "    <tr>\n",
       "      <th>3</th>\n",
       "      <td>January 7</td>\n",
       "      <td>15</td>\n",
       "    </tr>\n",
       "    <tr>\n",
       "      <th>4</th>\n",
       "      <td>January 8</td>\n",
       "      <td>25</td>\n",
       "    </tr>\n",
       "    <tr>\n",
       "      <th>5</th>\n",
       "      <td>January 9</td>\n",
       "      <td>34</td>\n",
       "    </tr>\n",
       "    <tr>\n",
       "      <th>6</th>\n",
       "      <td>January 10</td>\n",
       "      <td>29</td>\n",
       "    </tr>\n",
       "  </tbody>\n",
       "</table>\n",
       "</div>"
      ]
     },
     "execution_count": 21,
     "metadata": {},
     "output_type": "execute_result"
    }
   ],
   "execution_count": 21,
   "source": "tires",
   "id": "125ba193b8de6ea2"
  },
  {
   "metadata": {
    "ExecuteTime": {
     "end_time": "2024-12-24T16:00:59.740912Z",
     "start_time": "2024-12-24T16:00:59.736983Z"
    }
   },
   "cell_type": "code",
   "outputs": [
    {
     "data": {
      "text/plain": [
       "0          NaN\n",
       "1          NaN\n",
       "2    18.333333\n",
       "3    17.333333\n",
       "4    18.000000\n",
       "5    24.666667\n",
       "6    29.333333\n",
       "Name: Demand, dtype: float64"
      ]
     },
     "execution_count": 22,
     "metadata": {},
     "output_type": "execute_result"
    }
   ],
   "execution_count": 22,
   "source": "tires[\"Demand\"].rolling(3).mean()",
   "id": "b6ca3d38c0365db9"
  },
  {
   "metadata": {},
   "cell_type": "markdown",
   "source": [
    "##### Exercise 6 (mean)\n",
    "> The average exam score for 10 students in a statistics class was 85. One student dropped the class, changing the average exam score of the remaining students to 90. What was the exam score of the student who dropped the class?"
   ],
   "id": "ea10793b33a07905"
  },
  {
   "metadata": {
    "ExecuteTime": {
     "end_time": "2024-12-24T16:11:57.163021Z",
     "start_time": "2024-12-24T16:11:57.159932Z"
    }
   },
   "cell_type": "code",
   "outputs": [
    {
     "data": {
      "text/plain": [
       "850"
      ]
     },
     "execution_count": 30,
     "metadata": {},
     "output_type": "execute_result"
    }
   ],
   "execution_count": 30,
   "source": [
    "# Calculate the sum of the scores of the 10 students\n",
    "10 * 85"
   ],
   "id": "791d1b53a81ec8b8"
  },
  {
   "metadata": {
    "ExecuteTime": {
     "end_time": "2024-12-24T16:12:37.879661Z",
     "start_time": "2024-12-24T16:12:37.875859Z"
    }
   },
   "cell_type": "code",
   "outputs": [
    {
     "data": {
      "text/plain": [
       "810"
      ]
     },
     "execution_count": 32,
     "metadata": {},
     "output_type": "execute_result"
    }
   ],
   "execution_count": 32,
   "source": [
    "# Calculate the sum of the scores of the 9 students\n",
    "9 * 90"
   ],
   "id": "34e6461575cef330"
  },
  {
   "metadata": {
    "ExecuteTime": {
     "end_time": "2024-12-24T16:12:57.349557Z",
     "start_time": "2024-12-24T16:12:57.346153Z"
    }
   },
   "cell_type": "code",
   "outputs": [
    {
     "data": {
      "text/plain": [
       "40"
      ]
     },
     "execution_count": 33,
     "metadata": {},
     "output_type": "execute_result"
    }
   ],
   "execution_count": 33,
   "source": "850 - 810",
   "id": "ef55d17f01f3fddc"
  },
  {
   "metadata": {},
   "cell_type": "markdown",
   "source": [
    "##### Exercise 7 (mean)\n",
    "> The table below lists the ages of the players on a basketball team."
   ],
   "id": "a174554c19b900d5"
  },
  {
   "metadata": {
    "ExecuteTime": {
     "end_time": "2024-12-24T16:08:27.553911Z",
     "start_time": "2024-12-24T16:08:27.550460Z"
    }
   },
   "cell_type": "code",
   "outputs": [],
   "execution_count": 24,
   "source": [
    "ages = pd.DataFrame({\n",
    "    \"Age\": [30, 27, 36, 24, 26, 24, 28, 25, 29, 31]\n",
    "})"
   ],
   "id": "40728717ece1d748"
  },
  {
   "metadata": {
    "ExecuteTime": {
     "end_time": "2024-12-24T16:08:35.406054Z",
     "start_time": "2024-12-24T16:08:35.401913Z"
    }
   },
   "cell_type": "code",
   "outputs": [
    {
     "data": {
      "text/plain": [
       "np.float64(28.0)"
      ]
     },
     "execution_count": 25,
     "metadata": {},
     "output_type": "execute_result"
    }
   ],
   "execution_count": 25,
   "source": "ages[\"Age\"].mean()",
   "id": "d6cab7fcfff34792"
  },
  {
   "metadata": {},
   "cell_type": "markdown",
   "source": "After the oldest player was released and replaced by a new player, the average age of the team was lowered by one year. Determine the age of the new player.",
   "id": "e35a9864e6476b83"
  },
  {
   "metadata": {
    "ExecuteTime": {
     "end_time": "2024-12-24T16:13:44.070704Z",
     "start_time": "2024-12-24T16:13:44.067258Z"
    }
   },
   "cell_type": "code",
   "outputs": [
    {
     "data": {
      "text/plain": [
       "np.int64(280)"
      ]
     },
     "execution_count": 34,
     "metadata": {},
     "output_type": "execute_result"
    }
   ],
   "execution_count": 34,
   "source": [
    "# Calculate the sum of the ages of the 10 players\n",
    "ages[\"Age\"].sum()"
   ],
   "id": "48a6d99c08d8f097"
  },
  {
   "metadata": {},
   "cell_type": "code",
   "outputs": [],
   "execution_count": null,
   "source": [
    "# Sum of the ages after the oldest player was released\n",
    "270"
   ],
   "id": "6fe9d41dab1f4078"
  },
  {
   "metadata": {
    "ExecuteTime": {
     "end_time": "2024-12-24T16:15:42.039812Z",
     "start_time": "2024-12-24T16:15:42.035966Z"
    }
   },
   "cell_type": "code",
   "outputs": [
    {
     "data": {
      "text/plain": [
       "10"
      ]
     },
     "execution_count": 35,
     "metadata": {},
     "output_type": "execute_result"
    }
   ],
   "execution_count": 35,
   "source": [
    "# Difference in the sum of the ages\n",
    "280 - 270"
   ],
   "id": "84f7b075abdea9"
  },
  {
   "metadata": {
    "ExecuteTime": {
     "end_time": "2024-12-24T16:16:48.083761Z",
     "start_time": "2024-12-24T16:16:48.078638Z"
    }
   },
   "cell_type": "code",
   "outputs": [
    {
     "data": {
      "text/plain": [
       "   Age\n",
       "2   36"
      ],
      "text/html": [
       "<div>\n",
       "<style scoped>\n",
       "    .dataframe tbody tr th:only-of-type {\n",
       "        vertical-align: middle;\n",
       "    }\n",
       "\n",
       "    .dataframe tbody tr th {\n",
       "        vertical-align: top;\n",
       "    }\n",
       "\n",
       "    .dataframe thead th {\n",
       "        text-align: right;\n",
       "    }\n",
       "</style>\n",
       "<table border=\"1\" class=\"dataframe\">\n",
       "  <thead>\n",
       "    <tr style=\"text-align: right;\">\n",
       "      <th></th>\n",
       "      <th>Age</th>\n",
       "    </tr>\n",
       "  </thead>\n",
       "  <tbody>\n",
       "    <tr>\n",
       "      <th>2</th>\n",
       "      <td>36</td>\n",
       "    </tr>\n",
       "  </tbody>\n",
       "</table>\n",
       "</div>"
      ]
     },
     "execution_count": 41,
     "metadata": {},
     "output_type": "execute_result"
    }
   ],
   "execution_count": 41,
   "source": "ages.sort_values(\"Age\", ascending=False).head(1)",
   "id": "91fdb33a5fa9179a"
  },
  {
   "metadata": {
    "ExecuteTime": {
     "end_time": "2024-12-24T16:16:56.996873Z",
     "start_time": "2024-12-24T16:16:56.993528Z"
    }
   },
   "cell_type": "code",
   "outputs": [
    {
     "data": {
      "text/plain": [
       "26"
      ]
     },
     "execution_count": 42,
     "metadata": {},
     "output_type": "execute_result"
    }
   ],
   "execution_count": 42,
   "source": "36-10",
   "id": "7eec9d4dec51df77"
  },
  {
   "metadata": {},
   "cell_type": "markdown",
   "source": "##### Exercise 8 (mean)",
   "id": "2c16e565d89f5ef9"
  },
  {
   "metadata": {
    "ExecuteTime": {
     "end_time": "2024-12-27T18:36:45.857505Z",
     "start_time": "2024-12-27T18:36:45.763059Z"
    }
   },
   "cell_type": "code",
   "source": [
    "incomes = np.random.normal(100.0, 20.0, 10000)\n",
    "plt.hist(incomes, 50)\n",
    "plt.show()"
   ],
   "id": "517055788204398a",
   "outputs": [
    {
     "data": {
      "text/plain": [
       "<Figure size 640x480 with 1 Axes>"
      ],
      "image/png": "[encoded data removed]"
     },
     "metadata": {},
     "output_type": "display_data"
    }
   ],
   "execution_count": 35
  },
  {
   "metadata": {
    "ExecuteTime": {
     "end_time": "2024-12-27T18:36:59.016709Z",
     "start_time": "2024-12-27T18:36:59.012901Z"
    }
   },
   "cell_type": "code",
   "source": "np.mean(incomes)",
   "id": "facfbfba57bbafe7",
   "outputs": [
    {
     "data": {
      "text/plain": [
       "np.float64(100.29254137812005)"
      ]
     },
     "execution_count": 36,
     "metadata": {},
     "output_type": "execute_result"
    }
   ],
   "execution_count": 36
  }
 ],
 "metadata": {
  "kernelspec": {
   "display_name": "Python 3 (ipykernel)",
   "language": "python",
   "name": "python3"
  },
  "language_info": {
   "codemirror_mode": {
    "name": "ipython",
    "version": 3
   },
   "file_extension": ".py",
   "mimetype": "text/x-python",
   "name": "python",
   "nbconvert_exporter": "python",
   "pygments_lexer": "ipython3",
   "version": "3.13.1"
  }
 },
 "nbformat": 4,
 "nbformat_minor": 5
}
