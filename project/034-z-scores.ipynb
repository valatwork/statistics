{
 "cells": [
  {
   "metadata": {},
   "cell_type": "markdown",
   "source": "## Z-Score",
   "id": "99c2289db13509be"
  },
  {
   "metadata": {},
   "cell_type": "markdown",
   "source": [
    "In measurement, we are often not so much interested in “how much” but in “how different from the average.”\n",
    "\n",
    "Standardization, also called normalization, puts all variables on similar scales by subtracting the mean and dividing by the standard deviation; in this way, we ensure that a variable does not overly influence a model simply due to the scale of its original measurement.\n",
    "\n",
    "### Definition\n",
    " The number that is the difference between a data value $x_i$ and the mean $\\mu$, divided by the standard deviation $\\sigma$:\n",
    "\n",
    "$$z = \\frac{x_i - \\mu}{\\sigma}$$\n",
    "\n",
    "The z-score is the number of standard deviations a data point is from the mean.\n",
    "\n",
    "In simpler words: how far a particular value is from the mean.\n",
    "\n",
    "*Note: if $x_i = \\mu$, the value of $\\sigma$ does not matter, in this case the z-score will always be 0.*\n"
   ],
   "id": "1dd11c8050ee8d0d"
  },
  {
   "metadata": {},
   "cell_type": "markdown",
   "source": "### Examples with Python",
   "id": "bc4b1792672780dd"
  },
  {
   "metadata": {
    "ExecuteTime": {
     "end_time": "2025-01-16T15:10:12.468989Z",
     "start_time": "2025-01-16T15:10:12.466250Z"
    }
   },
   "cell_type": "code",
   "source": [
    "import numpy as np\n",
    "import scipy.stats as st\n",
    "import pandas as pd\n",
    "import seaborn as sns\n",
    "import matplotlib.pyplot as plt"
   ],
   "id": "2e13dd102b16720",
   "outputs": [],
   "execution_count": 2
  },
  {
   "metadata": {},
   "cell_type": "markdown",
   "source": "#### Example 1 (z-score)",
   "id": "2dcc69df75f39b67"
  },
  {
   "metadata": {
    "ExecuteTime": {
     "end_time": "2025-01-16T15:10:13.262232Z",
     "start_time": "2025-01-16T15:10:13.255683Z"
    }
   },
   "cell_type": "code",
   "source": [
    "pop_data = np.array([90, 78, 110, 110, 99, 115, 130, 100, 95, 93])\n",
    "# mean and standard deviation of the population\n",
    "pop_mean = np.mean(pop_data)\n",
    "pop_std = np.std(pop_data)\n",
    "# z-scores of some data points\n",
    "(78 - pop_mean) / pop_std, (110 - pop_mean) / pop_std, (130 - pop_mean) / pop_std"
   ],
   "id": "15cbcf83a58c8f95",
   "outputs": [
    {
     "data": {
      "text/plain": [
       "(np.float64(-1.7213259316477407),\n",
       " np.float64(0.5737753105492469),\n",
       " np.float64(2.008213586922364))"
      ]
     },
     "execution_count": 3,
     "metadata": {},
     "output_type": "execute_result"
    }
   ],
   "execution_count": 3
  },
  {
   "metadata": {
    "ExecuteTime": {
     "end_time": "2025-01-16T15:10:13.716224Z",
     "start_time": "2025-01-16T15:10:13.707714Z"
    }
   },
   "cell_type": "code",
   "source": [
    "# visualizing the z-scores using pandas\n",
    "z_score = st.zscore(pop_data)\n",
    "zscore_df = pd.DataFrame({'Value': pop_data, 'Z-Score': z_score})\n",
    "zscore_df"
   ],
   "id": "5ab54e2c64494d7b",
   "outputs": [
    {
     "data": {
      "text/plain": [
       "   Value   Z-Score\n",
       "0     90 -0.860663\n",
       "1     78 -1.721326\n",
       "2    110  0.573775\n",
       "3    110  0.573775\n",
       "4     99 -0.215166\n",
       "5    115  0.932385\n",
       "6    130  2.008214\n",
       "7    100 -0.143444\n",
       "8     95 -0.502053\n",
       "9     93 -0.645497"
      ],
      "text/html": [
       "<div>\n",
       "<style scoped>\n",
       "    .dataframe tbody tr th:only-of-type {\n",
       "        vertical-align: middle;\n",
       "    }\n",
       "\n",
       "    .dataframe tbody tr th {\n",
       "        vertical-align: top;\n",
       "    }\n",
       "\n",
       "    .dataframe thead th {\n",
       "        text-align: right;\n",
       "    }\n",
       "</style>\n",
       "<table border=\"1\" class=\"dataframe\">\n",
       "  <thead>\n",
       "    <tr style=\"text-align: right;\">\n",
       "      <th></th>\n",
       "      <th>Value</th>\n",
       "      <th>Z-Score</th>\n",
       "    </tr>\n",
       "  </thead>\n",
       "  <tbody>\n",
       "    <tr>\n",
       "      <th>0</th>\n",
       "      <td>90</td>\n",
       "      <td>-0.860663</td>\n",
       "    </tr>\n",
       "    <tr>\n",
       "      <th>1</th>\n",
       "      <td>78</td>\n",
       "      <td>-1.721326</td>\n",
       "    </tr>\n",
       "    <tr>\n",
       "      <th>2</th>\n",
       "      <td>110</td>\n",
       "      <td>0.573775</td>\n",
       "    </tr>\n",
       "    <tr>\n",
       "      <th>3</th>\n",
       "      <td>110</td>\n",
       "      <td>0.573775</td>\n",
       "    </tr>\n",
       "    <tr>\n",
       "      <th>4</th>\n",
       "      <td>99</td>\n",
       "      <td>-0.215166</td>\n",
       "    </tr>\n",
       "    <tr>\n",
       "      <th>5</th>\n",
       "      <td>115</td>\n",
       "      <td>0.932385</td>\n",
       "    </tr>\n",
       "    <tr>\n",
       "      <th>6</th>\n",
       "      <td>130</td>\n",
       "      <td>2.008214</td>\n",
       "    </tr>\n",
       "    <tr>\n",
       "      <th>7</th>\n",
       "      <td>100</td>\n",
       "      <td>-0.143444</td>\n",
       "    </tr>\n",
       "    <tr>\n",
       "      <th>8</th>\n",
       "      <td>95</td>\n",
       "      <td>-0.502053</td>\n",
       "    </tr>\n",
       "    <tr>\n",
       "      <th>9</th>\n",
       "      <td>93</td>\n",
       "      <td>-0.645497</td>\n",
       "    </tr>\n",
       "  </tbody>\n",
       "</table>\n",
       "</div>"
      ]
     },
     "execution_count": 4,
     "metadata": {},
     "output_type": "execute_result"
    }
   ],
   "execution_count": 4
  },
  {
   "metadata": {},
   "cell_type": "markdown",
   "source": "#### Example 2 (z-score)",
   "id": "5d5a0f8f877b28f7"
  },
  {
   "metadata": {},
   "cell_type": "markdown",
   "source": "A student's score on a test is 90. The mean score is 60, and the standard deviation is 15.",
   "id": "bd2b5963fc8913f2"
  },
  {
   "metadata": {
    "ExecuteTime": {
     "end_time": "2025-01-16T15:10:15.703605Z",
     "start_time": "2025-01-16T15:10:15.700551Z"
    }
   },
   "cell_type": "code",
   "source": [
    "x_i = 90\n",
    "mu = 60\n",
    "sigma = 15\n",
    "rng = np.random.default_rng()\n",
    "x = rng.normal(mu, sigma, 10000)"
   ],
   "id": "5c1a057a70217bc1",
   "outputs": [],
   "execution_count": 5
  },
  {
   "metadata": {
    "ExecuteTime": {
     "end_time": "2025-01-16T15:10:16.412309Z",
     "start_time": "2025-01-16T15:10:16.229657Z"
    }
   },
   "cell_type": "code",
   "source": [
    "sns.displot(x, color = 'grey')\n",
    "plt.xlim(0, 100)\n",
    "plt.axvline(mu, color='orangered', lw=2)\n",
    "for v in [-3, -2, -1, 1, 2, 3]:\n",
    "    plt.axvline(mu + v*sigma, color='yellow')\n",
    "plt.grid(True)\n",
    "_ = plt.axvline(x_i, color='purple', lw=2)"
   ],
   "id": "ac6014e9fb522c45",
   "outputs": [
    {
     "data": {
      "text/plain": [
       "<Figure size 500x500 with 1 Axes>"
      ],
      "image/png": "[encoded data removed]"
     },
     "metadata": {},
     "output_type": "display_data"
    }
   ],
   "execution_count": 6
  },
  {
   "metadata": {
    "ExecuteTime": {
     "end_time": "2025-01-16T15:10:17.842004Z",
     "start_time": "2025-01-16T15:10:17.838211Z"
    }
   },
   "cell_type": "code",
   "source": [
    "# standard deviation of the student's score\n",
    "z = (x_i - mu) / sigma\n",
    "z"
   ],
   "id": "23d352bc65ccea3e",
   "outputs": [
    {
     "data": {
      "text/plain": [
       "2.0"
      ]
     },
     "execution_count": 7,
     "metadata": {},
     "output_type": "execute_result"
    }
   ],
   "execution_count": 7
  },
  {
   "metadata": {
    "ExecuteTime": {
     "end_time": "2025-01-16T15:10:18.057642Z",
     "start_time": "2025-01-16T15:10:18.054063Z"
    }
   },
   "cell_type": "code",
   "source": [
    "# number of students who scored less than 90\n",
    "len(np.where(x < x_i)[0])"
   ],
   "id": "4a3fd35abfe77f70",
   "outputs": [
    {
     "data": {
      "text/plain": [
       "9784"
      ]
     },
     "execution_count": 8,
     "metadata": {},
     "output_type": "execute_result"
    }
   ],
   "execution_count": 8
  },
  {
   "metadata": {
    "ExecuteTime": {
     "end_time": "2025-01-16T15:10:18.213144Z",
     "start_time": "2025-01-16T15:10:18.209004Z"
    }
   },
   "cell_type": "code",
   "source": [
    "# percentage of students who scored less than 90\n",
    "100*len(np.where(x < x_i)[0])/10000"
   ],
   "id": "720e7665cc6acb05",
   "outputs": [
    {
     "data": {
      "text/plain": [
       "97.84"
      ]
     },
     "execution_count": 9,
     "metadata": {},
     "output_type": "execute_result"
    }
   ],
   "execution_count": 9
  },
  {
   "metadata": {
    "ExecuteTime": {
     "end_time": "2025-01-16T15:10:18.352141Z",
     "start_time": "2025-01-16T15:10:18.348342Z"
    }
   },
   "cell_type": "code",
   "source": [
    "# number of students who scored more than 90\n",
    "len(np.where(x > x_i)[0])"
   ],
   "id": "5c2c924484416769",
   "outputs": [
    {
     "data": {
      "text/plain": [
       "216"
      ]
     },
     "execution_count": 10,
     "metadata": {},
     "output_type": "execute_result"
    }
   ],
   "execution_count": 10
  },
  {
   "metadata": {
    "ExecuteTime": {
     "end_time": "2025-01-16T15:10:18.491143Z",
     "start_time": "2025-01-16T15:10:18.487439Z"
    }
   },
   "cell_type": "code",
   "source": [
    "# percentage of students who scored more than 90\n",
    "100*len(np.where(x > x_i)[0])/10000"
   ],
   "id": "2c32199b4a57d60e",
   "outputs": [
    {
     "data": {
      "text/plain": [
       "2.16"
      ]
     },
     "execution_count": 11,
     "metadata": {},
     "output_type": "execute_result"
    }
   ],
   "execution_count": 11
  },
  {
   "metadata": {
    "ExecuteTime": {
     "end_time": "2025-01-16T15:10:18.646643Z",
     "start_time": "2025-01-16T15:10:18.642563Z"
    }
   },
   "cell_type": "code",
   "source": [
    "# percentile rank of the student's score\n",
    "np.percentile(x, 90)"
   ],
   "id": "ade6ca9f900fcd8b",
   "outputs": [
    {
     "data": {
      "text/plain": [
       "np.float64(78.97574464603538)"
      ]
     },
     "execution_count": 12,
     "metadata": {},
     "output_type": "execute_result"
    }
   ],
   "execution_count": 12
  }
 ],
 "metadata": {
  "kernelspec": {
   "display_name": "Python 3",
   "language": "python",
   "name": "python3"
  },
  "language_info": {
   "codemirror_mode": {
    "name": "ipython",
    "version": 2
   },
   "file_extension": ".py",
   "mimetype": "text/x-python",
   "name": "python",
   "nbconvert_exporter": "python",
   "pygments_lexer": "ipython2",
   "version": "2.7.6"
  }
 },
 "nbformat": 4,
 "nbformat_minor": 5
}
