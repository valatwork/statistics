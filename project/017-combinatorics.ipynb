{
 "cells": [
  {
   "metadata": {},
   "cell_type": "markdown",
   "source": "## Combinatorics",
   "id": "41ec976543f53957"
  },
  {
   "metadata": {},
   "cell_type": "markdown",
   "source": "Combinatorics is a field of mathematics that studies the enumeration, combination, and permutation of sets of elements.",
   "id": "af112071628df300"
  },
  {
   "metadata": {},
   "cell_type": "markdown",
   "source": "#### Factorials",
   "id": "479b6395684a6632"
  },
  {
   "metadata": {},
   "cell_type": "markdown",
   "source": "The factorial is of non-negative integer $n$, denoted by $n!$, is the product of all positive integers less than or equal to $n$.",
   "id": "d0675694f193d0a7"
  },
  {
   "metadata": {},
   "cell_type": "markdown",
   "source": "### Permutations",
   "id": "d61c444b1cb5e023"
  },
  {
   "metadata": {},
   "cell_type": "markdown",
   "source": "Permutations represent the number of different possible ways we can *arrange* a number of elements.",
   "id": "c024c9bbb68fe463"
  },
  {
   "metadata": {},
   "cell_type": "markdown",
   "source": "#### Permutations *without* repetition",
   "id": "8db9a61e268227f1"
  },
  {
   "metadata": {},
   "cell_type": "markdown",
   "source": [
    "An ordered arrangement of $k$ elements selected from a set of $n$ elements, $0 \\leq k \\leq n$, where no two elements of the arrangement are the same, is called a permutation of $n$ elements taken $k$ at a time. The total number of such permutations is denoted by $P(n, k)$\n",
    "\n",
    "$$P(n, k) = \\frac{n!}{(n-k)!}$$"
   ],
   "id": "3aa6fa5ebd02055b"
  },
  {
   "metadata": {},
   "cell_type": "markdown",
   "source": "#### Permutations *with* repetition",
   "id": "219ff9a4758be06b"
  },
  {
   "metadata": {},
   "cell_type": "markdown",
   "source": [
    "- The number of permutations of $n$ objects with $n_1$ *identical* objects of type 1, $n_2$ identical objects of type 2, ..., and $n_k$ identical objects of type $k$ is\n",
    "\n",
    "$$P(n, n_1, n_2, \\ldots, n_r) = \\frac{n!}{n_1!n_2!\\ldots n_k!}$$\n",
    "\n",
    "- In case all the objects are *distinct*, the number of permutations is simply $n!$"
   ],
   "id": "a943a7a97ad57594"
  },
  {
   "metadata": {},
   "cell_type": "markdown",
   "source": "### Combinations",
   "id": "41d42152673c412a"
  },
  {
   "metadata": {},
   "cell_type": "markdown",
   "source": [
    "Factorials can be used to calculate the number of outcomes of an event using the \"number of combinations\" equation:\n",
    "\n",
    "$$\\binom{n}{k}=\\frac{n!}{k!(n-k)!}$$\n",
    "\n",
    "The left-hand side of the equation is read \"$n$ choose $k$\". This provides the numerator for:\n",
    "\n",
    "$$P(A) = \\frac{number \\ of \\ outcomes \\ of \\ A}{number \\ of \\ outcomes \\ in \\ \\Omega}$$\n"
   ],
   "id": "ab8264abcdf96448"
  },
  {
   "metadata": {},
   "cell_type": "markdown",
   "source": "#### Examples (combinations)",
   "id": "e62ad8d95dcb57de"
  },
  {
   "metadata": {
    "ExecuteTime": {
     "end_time": "2025-01-09T08:35:52.623400Z",
     "start_time": "2025-01-09T08:35:52.620682Z"
    }
   },
   "cell_type": "code",
   "outputs": [],
   "execution_count": 6,
   "source": "from math import factorial",
   "id": "98c53f9366e8dc18"
  },
  {
   "metadata": {},
   "cell_type": "markdown",
   "source": "##### Example 1 - Combinations",
   "id": "b36d673656ccb093"
  },
  {
   "metadata": {},
   "cell_type": "markdown",
   "source": [
    "In practice: if we have three coin flips $n=3$, and if we're interested in the number of ways to get two heads $k=2$, we can calculate the number of combinations as follows:\n",
    "\n",
    "$$\\binom{3}{2}=\\frac{3!}{2!(3-2)!}= \\frac{3!}{(2!)(1!)} = \\frac{3 \\times 2 \\times 1}{(2 \\times 1) (1)}= \\frac{6}{(2)(1)} = \\frac{6}{2} =3$$\n",
    "\n",
    "In the case of coin-flipping, the denominator can be calculated with $2^n$ where $n$ is the number of coin flips. In this case:\n",
    "\n",
    "$$P(A) = \\frac{number \\ of \\ outcomes \\ of \\ A}{number \\ of \\ outcomes \\ in \\ \\Omega} = \\frac{3}{2^n} = \\frac{3}{8} \\approx 0.375$$"
   ],
   "id": "ecaa9053378e0da9"
  },
  {
   "metadata": {},
   "cell_type": "markdown",
   "source": "##### Example 2 - Combinations",
   "id": "f30b467ddd4adc69"
  },
  {
   "metadata": {},
   "cell_type": "markdown",
   "source": "Calculate the probability of throwing three heads in five coin tosses.",
   "id": "b57aaf4e59828b6e"
  },
  {
   "metadata": {
    "ExecuteTime": {
     "end_time": "2025-01-09T08:05:43.467572Z",
     "start_time": "2025-01-09T08:05:43.461763Z"
    }
   },
   "cell_type": "code",
   "outputs": [
    {
     "data": {
      "text/plain": [
       "0.3125"
      ]
     },
     "execution_count": 3,
     "metadata": {},
     "output_type": "execute_result"
    }
   ],
   "execution_count": 3,
   "source": [
    "n = 5\n",
    "k = 3\n",
    "num = factorial(n) / (factorial(k) * factorial(n-k))\n",
    "den = 2**n\n",
    "p = num / den\n",
    "p"
   ],
   "id": "fab63ff184046b23"
  },
  {
   "metadata": {
    "ExecuteTime": {
     "end_time": "2025-01-09T08:05:43.849178Z",
     "start_time": "2025-01-09T08:05:43.845646Z"
    }
   },
   "cell_type": "code",
   "outputs": [
    {
     "data": {
      "text/plain": [
       "0.3125"
      ]
     },
     "execution_count": 4,
     "metadata": {},
     "output_type": "execute_result"
    }
   ],
   "execution_count": 4,
   "source": [
    "def coinflip_prob(n, k):\n",
    "    n_choose_k = factorial(n) / (factorial(k) * factorial(n-k))\n",
    "    return n_choose_k / 2**n\n",
    "coinflip_prob(5, 3)"
   ],
   "id": "fb3d420be35de48d"
  },
  {
   "metadata": {},
   "cell_type": "markdown",
   "source": "Using the method `coinflip_prob` to calculate the probability of - in five tosses - throwing each of zero, one, two, three, four, and five heads",
   "id": "fc285448839604a2"
  },
  {
   "metadata": {
    "ExecuteTime": {
     "end_time": "2025-01-09T08:05:45.797529Z",
     "start_time": "2025-01-09T08:05:45.793005Z"
    }
   },
   "cell_type": "code",
   "outputs": [
    {
     "data": {
      "text/plain": [
       "[0.03125, 0.15625, 0.3125, 0.3125, 0.15625, 0.03125]"
      ]
     },
     "execution_count": 5,
     "metadata": {},
     "output_type": "execute_result"
    }
   ],
   "execution_count": 5,
   "source": "[coinflip_prob(5, h) for h in range(6)]",
   "id": "26b846a72dff8355"
  }
 ],
 "metadata": {
  "kernelspec": {
   "display_name": "Python 3",
   "language": "python",
   "name": "python3"
  },
  "language_info": {
   "codemirror_mode": {
    "name": "ipython",
    "version": 2
   },
   "file_extension": ".py",
   "mimetype": "text/x-python",
   "name": "python",
   "nbconvert_exporter": "python",
   "pygments_lexer": "ipython2",
   "version": "2.7.6"
  }
 },
 "nbformat": 4,
 "nbformat_minor": 5
}
