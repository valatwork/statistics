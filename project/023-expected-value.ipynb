{
 "cells": [
  {
   "metadata": {},
   "cell_type": "markdown",
   "source": "# Expected value",
   "id": "77df616977c1c41f"
  },
  {
   "metadata": {},
   "cell_type": "markdown",
   "source": [
    "The sum of the products formed by multiplying each possible event in a discrete probability distribution by its corresponding probability.\n",
    "\n",
    "The expected value tells you the value of the variable that you could expect in the “long run”—that is, after many experimental trials.\n",
    "\n",
    " The expected value of a variable is also the mean ($\\mu$) of a variable."
   ],
   "id": "c882ef2d02f1498b"
  },
  {
   "metadata": {},
   "cell_type": "markdown",
   "source": [
    "- If $x$ is *discrete*: $$ \\mathbb{E} = \\sum_x xP(x) $$\n",
    "\n",
    "The expected value is the sum of all the possible values of $x$, multiplied by what those values are and the probability of having a particular value.\n",
    "\n",
    "- If $x$ is *continuous*: $$\\mathbb{E} = \\int_x p(x)dx$$\n",
    "\n",
    "The expected value is the integral of all the possible values of $x$, multiplied by what those values are and the probability of having a particular value."
   ],
   "id": "43002eea05505186"
  },
  {
   "metadata": {},
   "cell_type": "markdown",
   "source": "### Example",
   "id": "67db94c1ac99ee5f"
  },
  {
   "metadata": {},
   "cell_type": "markdown",
   "source": "",
   "id": "bdfd01508c5390da"
  },
  {
   "metadata": {
    "ExecuteTime": {
     "end_time": "2025-01-09T18:53:55.911411Z",
     "start_time": "2025-01-09T18:53:55.908613Z"
    }
   },
   "cell_type": "code",
   "outputs": [],
   "execution_count": 10,
   "source": [
    "import numpy as np\n",
    "import matplotlib.pyplot as plt\n",
    "from math import factorial"
   ],
   "id": "e88e1621573aba91"
  },
  {
   "metadata": {
    "ExecuteTime": {
     "end_time": "2025-01-09T18:58:57.550008Z",
     "start_time": "2025-01-09T18:58:57.475797Z"
    }
   },
   "cell_type": "code",
   "outputs": [
    {
     "data": {
      "text/plain": [
       "<Figure size 640x480 with 1 Axes>"
      ],
      "image/png": "[encoded data removed]"
     },
     "metadata": {},
     "output_type": "display_data"
    }
   ],
   "execution_count": 14,
   "source": [
    "n_experiments = 1000\n",
    "heads_count = np.random.binomial(5, 0.5, n_experiments)\n",
    "heads, event_count = np.unique(heads_count, return_counts=True)\n",
    "event_proba = event_count/n_experiments\n",
    "plt.bar(heads, event_proba, color='skyblue')\n",
    "plt.xlabel('X')\n",
    "_ = plt.ylabel('Event probability')"
   ],
   "id": "f30a7e330333ea00"
  },
  {
   "metadata": {},
   "cell_type": "markdown",
   "source": [
    "$\\it{P}$$({0})=$$\\it{P}$$({5})$$=\\frac{1}{32} \\approx0.031$\n",
    "\n",
    "$\\it{P}$$({1})=$$\\it{P}$$({4})$$=\\frac{5}{32} \\approx0.16$\n",
    "\n",
    "$\\it{P}$$({2})=$$\\it{P}$$({3})$$=\\frac{10}{32} \\approx0.31$\n",
    "\n",
    "$\\mathbb{E} = (\\frac{1}{32})0 + (\\frac{5}{32})1 + (\\frac{10}{32})2 + (\\frac{10}{32})3 + (\\frac{5}{32})4 + (\\frac{1}{32})5 = 2.5$"
   ],
   "id": "1476b5a8abb7850c"
  },
  {
   "metadata": {
    "ExecuteTime": {
     "end_time": "2025-01-09T19:06:24.259308Z",
     "start_time": "2025-01-09T19:06:24.254946Z"
    }
   },
   "cell_type": "code",
   "outputs": [
    {
     "data": {
      "text/plain": [
       "[0.03125, 0.15625, 0.3125, 0.3125, 0.15625, 0.03125]"
      ]
     },
     "execution_count": 15,
     "metadata": {},
     "output_type": "execute_result"
    }
   ],
   "execution_count": 15,
   "source": [
    "def coinflip_prob(n, k):\n",
    "    n_choose_k = factorial(n)/(factorial(k)*factorial(n-k))\n",
    "    return n_choose_k/2**n\n",
    "\n",
    "\n",
    "P = [coinflip_prob(5, x) for x in range(6)]\n",
    "P"
   ],
   "id": "26c7dcbc19ed6232"
  }
 ],
 "metadata": {
  "kernelspec": {
   "display_name": "Python 3",
   "language": "python",
   "name": "python3"
  },
  "language_info": {
   "codemirror_mode": {
    "name": "ipython",
    "version": 2
   },
   "file_extension": ".py",
   "mimetype": "text/x-python",
   "name": "python",
   "nbconvert_exporter": "python",
   "pygments_lexer": "ipython2",
   "version": "2.7.6"
  }
 },
 "nbformat": 4,
 "nbformat_minor": 5
}
