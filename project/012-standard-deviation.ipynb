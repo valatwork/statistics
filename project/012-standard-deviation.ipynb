{
 "cells": [
  {
   "metadata": {},
   "cell_type": "markdown",
   "source": "# Descriptive Statistics: Measures of Dispersion (Absolute)",
   "id": "f72f630f68377ff0"
  },
  {
   "metadata": {},
   "cell_type": "markdown",
   "source": "## Standard Deviation",
   "id": "c2e0b8737ae666a0"
  },
  {
   "metadata": {},
   "cell_type": "markdown",
   "source": [
    "This is usually used as a way to identify outliers. Data points that lie more than\n",
    "one standard deviation from the mean can be considered unusual.\n",
    "\n",
    "The standard deviation is the square root of the variance."
   ],
   "id": "45fe5ebf198fe875"
  },
  {
   "metadata": {},
   "cell_type": "markdown",
   "source": "### Formula (standard deviation)",
   "id": "f365feae7f100818"
  },
  {
   "metadata": {},
   "cell_type": "markdown",
   "source": "$$ \\sigma = \\sqrt{\\frac{\\sum_{i=1}^{N} (x_i - \\mu)^2}{N}} $$",
   "id": "da2f50d626226a35"
  },
  {
   "metadata": {},
   "cell_type": "markdown",
   "source": [
    "$$\n",
    "s^2 = \\sqrt{\\frac{\\sum_{i=1}^{n} (x_i - \\bar{x})^2}{n-1}}\n",
    "$$"
   ],
   "id": "186dc4f1f3a0135b"
  },
  {
   "metadata": {},
   "cell_type": "markdown",
   "source": "### Examples (standard deviation)",
   "id": "208b625bdf1b03a"
  },
  {
   "metadata": {
    "ExecuteTime": {
     "end_time": "2025-01-04T15:46:27.615204Z",
     "start_time": "2025-01-04T15:46:27.184640Z"
    }
   },
   "cell_type": "code",
   "source": [
    "import numpy as np\n",
    "import pandas as pd\n",
    "from scipy import stats\n",
    "import statistics as sts"
   ],
   "id": "2b27e5320f6a7fb3",
   "outputs": [],
   "execution_count": 24
  },
  {
   "metadata": {},
   "cell_type": "markdown",
   "source": "#### Example 1 (standard deviation)",
   "id": "4b9b339f4e967d0c"
  },
  {
   "metadata": {
    "ExecuteTime": {
     "end_time": "2025-01-04T15:44:21.612407Z",
     "start_time": "2025-01-04T15:44:21.609460Z"
    }
   },
   "cell_type": "code",
   "source": [
    "day = [1, 2, 3, 4, 5, 6, 7, 8, 9, 10]\n",
    "time= [39, 29, 43, 52, 39, 44, 40, 31, 44, 35]"
   ],
   "id": "e9c09bf7c04a3ff",
   "outputs": [],
   "execution_count": 2
  },
  {
   "metadata": {
    "ExecuteTime": {
     "end_time": "2025-01-04T15:44:21.638415Z",
     "start_time": "2025-01-04T15:44:21.626047Z"
    }
   },
   "cell_type": "code",
   "source": [
    "df = pd.DataFrame(columns=[\"Day\", \"Time\"])\n",
    "df[\"Day\"] = day\n",
    "df[\"Time\"] = time\n",
    "df"
   ],
   "id": "bf0639e18c55b249",
   "outputs": [
    {
     "data": {
      "text/plain": [
       "   Day  Time\n",
       "0    1    39\n",
       "1    2    29\n",
       "2    3    43\n",
       "3    4    52\n",
       "4    5    39\n",
       "5    6    44\n",
       "6    7    40\n",
       "7    8    31\n",
       "8    9    44\n",
       "9   10    35"
      ],
      "text/html": [
       "<div>\n",
       "<style scoped>\n",
       "    .dataframe tbody tr th:only-of-type {\n",
       "        vertical-align: middle;\n",
       "    }\n",
       "\n",
       "    .dataframe tbody tr th {\n",
       "        vertical-align: top;\n",
       "    }\n",
       "\n",
       "    .dataframe thead th {\n",
       "        text-align: right;\n",
       "    }\n",
       "</style>\n",
       "<table border=\"1\" class=\"dataframe\">\n",
       "  <thead>\n",
       "    <tr style=\"text-align: right;\">\n",
       "      <th></th>\n",
       "      <th>Day</th>\n",
       "      <th>Time</th>\n",
       "    </tr>\n",
       "  </thead>\n",
       "  <tbody>\n",
       "    <tr>\n",
       "      <th>0</th>\n",
       "      <td>1</td>\n",
       "      <td>39</td>\n",
       "    </tr>\n",
       "    <tr>\n",
       "      <th>1</th>\n",
       "      <td>2</td>\n",
       "      <td>29</td>\n",
       "    </tr>\n",
       "    <tr>\n",
       "      <th>2</th>\n",
       "      <td>3</td>\n",
       "      <td>43</td>\n",
       "    </tr>\n",
       "    <tr>\n",
       "      <th>3</th>\n",
       "      <td>4</td>\n",
       "      <td>52</td>\n",
       "    </tr>\n",
       "    <tr>\n",
       "      <th>4</th>\n",
       "      <td>5</td>\n",
       "      <td>39</td>\n",
       "    </tr>\n",
       "    <tr>\n",
       "      <th>5</th>\n",
       "      <td>6</td>\n",
       "      <td>44</td>\n",
       "    </tr>\n",
       "    <tr>\n",
       "      <th>6</th>\n",
       "      <td>7</td>\n",
       "      <td>40</td>\n",
       "    </tr>\n",
       "    <tr>\n",
       "      <th>7</th>\n",
       "      <td>8</td>\n",
       "      <td>31</td>\n",
       "    </tr>\n",
       "    <tr>\n",
       "      <th>8</th>\n",
       "      <td>9</td>\n",
       "      <td>44</td>\n",
       "    </tr>\n",
       "    <tr>\n",
       "      <th>9</th>\n",
       "      <td>10</td>\n",
       "      <td>35</td>\n",
       "    </tr>\n",
       "  </tbody>\n",
       "</table>\n",
       "</div>"
      ]
     },
     "execution_count": 3,
     "metadata": {},
     "output_type": "execute_result"
    }
   ],
   "execution_count": 3
  },
  {
   "metadata": {
    "ExecuteTime": {
     "end_time": "2025-01-04T15:44:21.834406Z",
     "start_time": "2025-01-04T15:44:21.824908Z"
    }
   },
   "cell_type": "code",
   "source": "df.describe()",
   "id": "c70bd84ac10c0208",
   "outputs": [
    {
     "data": {
      "text/plain": [
       "            Day       Time\n",
       "count  10.00000  10.000000\n",
       "mean    5.50000  39.600000\n",
       "std     3.02765   6.769211\n",
       "min     1.00000  29.000000\n",
       "25%     3.25000  36.000000\n",
       "50%     5.50000  39.500000\n",
       "75%     7.75000  43.750000\n",
       "max    10.00000  52.000000"
      ],
      "text/html": [
       "<div>\n",
       "<style scoped>\n",
       "    .dataframe tbody tr th:only-of-type {\n",
       "        vertical-align: middle;\n",
       "    }\n",
       "\n",
       "    .dataframe tbody tr th {\n",
       "        vertical-align: top;\n",
       "    }\n",
       "\n",
       "    .dataframe thead th {\n",
       "        text-align: right;\n",
       "    }\n",
       "</style>\n",
       "<table border=\"1\" class=\"dataframe\">\n",
       "  <thead>\n",
       "    <tr style=\"text-align: right;\">\n",
       "      <th></th>\n",
       "      <th>Day</th>\n",
       "      <th>Time</th>\n",
       "    </tr>\n",
       "  </thead>\n",
       "  <tbody>\n",
       "    <tr>\n",
       "      <th>count</th>\n",
       "      <td>10.00000</td>\n",
       "      <td>10.000000</td>\n",
       "    </tr>\n",
       "    <tr>\n",
       "      <th>mean</th>\n",
       "      <td>5.50000</td>\n",
       "      <td>39.600000</td>\n",
       "    </tr>\n",
       "    <tr>\n",
       "      <th>std</th>\n",
       "      <td>3.02765</td>\n",
       "      <td>6.769211</td>\n",
       "    </tr>\n",
       "    <tr>\n",
       "      <th>min</th>\n",
       "      <td>1.00000</td>\n",
       "      <td>29.000000</td>\n",
       "    </tr>\n",
       "    <tr>\n",
       "      <th>25%</th>\n",
       "      <td>3.25000</td>\n",
       "      <td>36.000000</td>\n",
       "    </tr>\n",
       "    <tr>\n",
       "      <th>50%</th>\n",
       "      <td>5.50000</td>\n",
       "      <td>39.500000</td>\n",
       "    </tr>\n",
       "    <tr>\n",
       "      <th>75%</th>\n",
       "      <td>7.75000</td>\n",
       "      <td>43.750000</td>\n",
       "    </tr>\n",
       "    <tr>\n",
       "      <th>max</th>\n",
       "      <td>10.00000</td>\n",
       "      <td>52.000000</td>\n",
       "    </tr>\n",
       "  </tbody>\n",
       "</table>\n",
       "</div>"
      ]
     },
     "execution_count": 4,
     "metadata": {},
     "output_type": "execute_result"
    }
   ],
   "execution_count": 4
  },
  {
   "metadata": {
    "ExecuteTime": {
     "end_time": "2025-01-04T15:44:22.011914Z",
     "start_time": "2025-01-04T15:44:22.007588Z"
    }
   },
   "cell_type": "code",
   "source": "np.var(time)",
   "id": "84f9d493d6249708",
   "outputs": [
    {
     "data": {
      "text/plain": [
       "np.float64(41.24)"
      ]
     },
     "execution_count": 5,
     "metadata": {},
     "output_type": "execute_result"
    }
   ],
   "execution_count": 5
  },
  {
   "metadata": {
    "ExecuteTime": {
     "end_time": "2025-01-04T15:44:22.214913Z",
     "start_time": "2025-01-04T15:44:22.193218Z"
    }
   },
   "cell_type": "code",
   "source": "sts.pvariance(time)",
   "id": "1cb6b14fef885e03",
   "outputs": [
    {
     "data": {
      "text/plain": [
       "41.24"
      ]
     },
     "execution_count": 6,
     "metadata": {},
     "output_type": "execute_result"
    }
   ],
   "execution_count": 6
  },
  {
   "metadata": {
    "ExecuteTime": {
     "end_time": "2025-01-04T15:44:22.314942Z",
     "start_time": "2025-01-04T15:44:22.310805Z"
    }
   },
   "cell_type": "code",
   "source": "sts.variance(time)",
   "id": "df3903942640fd10",
   "outputs": [
    {
     "data": {
      "text/plain": [
       "45.82222222222222"
      ]
     },
     "execution_count": 7,
     "metadata": {},
     "output_type": "execute_result"
    }
   ],
   "execution_count": 7
  },
  {
   "metadata": {
    "ExecuteTime": {
     "end_time": "2025-01-04T15:44:22.395908Z",
     "start_time": "2025-01-04T15:44:22.391549Z"
    }
   },
   "cell_type": "code",
   "source": "float(f\"{stats.tstd(time):.2f}\")",
   "id": "106ed48b0cc3f94e",
   "outputs": [
    {
     "data": {
      "text/plain": [
       "6.77"
      ]
     },
     "execution_count": 8,
     "metadata": {},
     "output_type": "execute_result"
    }
   ],
   "execution_count": 8
  },
  {
   "metadata": {},
   "cell_type": "markdown",
   "source": "#### Example 2 (standard deviation)",
   "id": "7ffce49c5f80c8d0"
  },
  {
   "metadata": {
    "ExecuteTime": {
     "end_time": "2025-01-04T15:44:22.454916Z",
     "start_time": "2025-01-04T15:44:22.452164Z"
    }
   },
   "cell_type": "code",
   "source": "hurricanes = [18, 21, 13, 19, 24, 17, 14, 12, 15, 14]",
   "id": "a0751141f9a1e56b",
   "outputs": [],
   "execution_count": 9
  },
  {
   "metadata": {
    "ExecuteTime": {
     "end_time": "2025-01-04T15:44:22.503529Z",
     "start_time": "2025-01-04T15:44:22.499407Z"
    }
   },
   "cell_type": "code",
   "source": "float(f\"{sts.pstdev(hurricanes):.2f}\") # population standard deviation",
   "id": "8cde0a4c80c27134",
   "outputs": [
    {
     "data": {
      "text/plain": [
       "3.63"
      ]
     },
     "execution_count": 10,
     "metadata": {},
     "output_type": "execute_result"
    }
   ],
   "execution_count": 10
  },
  {
   "metadata": {
    "ExecuteTime": {
     "end_time": "2025-01-04T15:44:22.542406Z",
     "start_time": "2025-01-04T15:44:22.538485Z"
    }
   },
   "cell_type": "code",
   "source": "float(f\"{np.std(hurricanes):.2f}\") # population standard deviation",
   "id": "2ca6c39049d63b6a",
   "outputs": [
    {
     "data": {
      "text/plain": [
       "3.63"
      ]
     },
     "execution_count": 11,
     "metadata": {},
     "output_type": "execute_result"
    }
   ],
   "execution_count": 11
  },
  {
   "metadata": {
    "ExecuteTime": {
     "end_time": "2025-01-04T15:44:22.656422Z",
     "start_time": "2025-01-04T15:44:22.651741Z"
    }
   },
   "cell_type": "code",
   "source": "float(f\"{stats.tstd(hurricanes):.2f}\") # sample standard deviation",
   "id": "9159c814050fec24",
   "outputs": [
    {
     "data": {
      "text/plain": [
       "3.83"
      ]
     },
     "execution_count": 12,
     "metadata": {},
     "output_type": "execute_result"
    }
   ],
   "execution_count": 12
  },
  {
   "metadata": {
    "ExecuteTime": {
     "end_time": "2025-01-04T15:44:22.761410Z",
     "start_time": "2025-01-04T15:44:22.757372Z"
    }
   },
   "cell_type": "code",
   "source": "float(f\"{sts.stdev(hurricanes):.2f}\")  # sample standard deviation",
   "id": "aa51ba88fc8f3b06",
   "outputs": [
    {
     "data": {
      "text/plain": [
       "3.83"
      ]
     },
     "execution_count": 13,
     "metadata": {},
     "output_type": "execute_result"
    }
   ],
   "execution_count": 13
  },
  {
   "metadata": {},
   "cell_type": "markdown",
   "source": "#### Example 3 (standard deviation)",
   "id": "971377f7e547e7d8"
  },
  {
   "metadata": {
    "ExecuteTime": {
     "end_time": "2025-01-04T15:44:22.860418Z",
     "start_time": "2025-01-04T15:44:22.857706Z"
    }
   },
   "cell_type": "code",
   "source": "students = [18, 22, 25, 26, 15]",
   "id": "b57157f793847294",
   "outputs": [],
   "execution_count": 14
  },
  {
   "metadata": {
    "ExecuteTime": {
     "end_time": "2025-01-04T15:44:22.885917Z",
     "start_time": "2025-01-04T15:44:22.881741Z"
    }
   },
   "cell_type": "code",
   "outputs": [
    {
     "data": {
      "text/plain": [
       "np.float64(4.166533331199932)"
      ]
     },
     "execution_count": 15,
     "metadata": {},
     "output_type": "execute_result"
    }
   ],
   "execution_count": 15,
   "source": [
    "stud_mean = np.mean(students)\n",
    "stud_sub = np.subtract(students, stud_mean)\n",
    "stud_var = np.sum(np.square(stud_sub)) / 5\n",
    "np.sqrt(stud_var)"
   ],
   "id": "fec360c7d64350b3"
  },
  {
   "metadata": {
    "ExecuteTime": {
     "end_time": "2025-01-04T15:44:22.947907Z",
     "start_time": "2025-01-04T15:44:22.943871Z"
    }
   },
   "cell_type": "code",
   "source": "sts.pstdev(students)",
   "id": "80e4134ab9e5d68f",
   "outputs": [
    {
     "data": {
      "text/plain": [
       "4.166533331199932"
      ]
     },
     "execution_count": 16,
     "metadata": {},
     "output_type": "execute_result"
    }
   ],
   "execution_count": 16
  },
  {
   "metadata": {
    "ExecuteTime": {
     "end_time": "2025-01-04T15:44:23.033912Z",
     "start_time": "2025-01-04T15:44:23.029457Z"
    }
   },
   "cell_type": "code",
   "source": "np.std(students)",
   "id": "2beb8cd0af408b93",
   "outputs": [
    {
     "data": {
      "text/plain": [
       "np.float64(4.166533331199932)"
      ]
     },
     "execution_count": 17,
     "metadata": {},
     "output_type": "execute_result"
    }
   ],
   "execution_count": 17
  },
  {
   "metadata": {},
   "cell_type": "markdown",
   "source": "### Extra: Coefficient of Variation",
   "id": "8667adaf0d9d8af4"
  },
  {
   "metadata": {},
   "cell_type": "markdown",
   "source": "#### Formula (coefficient of variation)",
   "id": "da9a3e5cf467e6c4"
  },
  {
   "metadata": {},
   "cell_type": "markdown",
   "source": "$$ CV = \\frac{\\sigma}{\\mu} $$",
   "id": "3307178ec12e49a7"
  },
  {
   "metadata": {},
   "cell_type": "markdown",
   "source": "##### Estimation",
   "id": "12f79f5f5fc64f98"
  },
  {
   "metadata": {},
   "cell_type": "markdown",
   "source": [
    "When only a sample of data from a population is available, the population CV can be estimated using the ratio of the sample standard deviation $s$ to the sample mean $\\bar{x}$:\n",
    "$$\n",
    "\\widehat{c_{\\rm{v}}}={\\frac {s}{\\bar{x}}}\n",
    "$$"
   ],
   "id": "c4740ff1bb818e8e"
  },
  {
   "metadata": {},
   "cell_type": "markdown",
   "source": [
    "Use the `variation()` function from `scipy` to calculate the coefficient of variation.\n",
    "This function is equivalent to:\n",
    "```Python\n",
    "np.std(x, axis=axis, ddof=ddof) / np.mean(x)\n",
    "```\n",
    "The `ddof` parameter is the Delta Degrees of Freedom."
   ],
   "id": "86a360fabe9c577c"
  },
  {
   "metadata": {},
   "cell_type": "markdown",
   "source": "#### Example 1 (coefficient of variation)",
   "id": "6b331c1fed468884"
  },
  {
   "metadata": {
    "ExecuteTime": {
     "end_time": "2025-01-04T15:44:28.944702Z",
     "start_time": "2025-01-04T15:44:28.940448Z"
    }
   },
   "cell_type": "code",
   "outputs": [
    {
     "data": {
      "text/plain": [
       "np.float64(0.21763810593276947)"
      ]
     },
     "execution_count": 19,
     "metadata": {},
     "output_type": "execute_result"
    }
   ],
   "execution_count": 19,
   "source": [
    "hurricanes = [18, 21, 13, 19, 24, 17, 14, 12, 15, 14]\n",
    "hurr_mean = np.mean(hurricanes)\n",
    "hurr_sub = np.subtract(hurricanes, hurr_mean)\n",
    "hurr_var = np.sum(np.square(hurr_sub)) / 10\n",
    "hurr_std = np.sqrt(hurr_var)\n",
    "hurr_cv = hurr_std / hurr_mean\n",
    "hurr_cv\n"
   ],
   "id": "247cd2f675b21b7b"
  },
  {
   "metadata": {
    "ExecuteTime": {
     "end_time": "2025-01-04T15:44:29.732789Z",
     "start_time": "2025-01-04T15:44:29.729327Z"
    }
   },
   "cell_type": "code",
   "outputs": [
    {
     "data": {
      "text/plain": [
       "np.float64(21.763810593276947)"
      ]
     },
     "execution_count": 20,
     "metadata": {},
     "output_type": "execute_result"
    }
   ],
   "execution_count": 20,
   "source": "hurr_cv * 100",
   "id": "54d2846442bc68c7"
  },
  {
   "metadata": {},
   "cell_type": "markdown",
   "source": "#### Example 2 (coefficient of variation)",
   "id": "ff8b4ebd21399b35"
  },
  {
   "metadata": {
    "ExecuteTime": {
     "end_time": "2025-01-04T15:44:30.457238Z",
     "start_time": "2025-01-04T15:44:30.454325Z"
    }
   },
   "cell_type": "code",
   "outputs": [],
   "execution_count": 21,
   "source": "students = [18, 22, 25, 26, 15]",
   "id": "a7f5cd02445a79ce"
  },
  {
   "metadata": {
    "ExecuteTime": {
     "end_time": "2025-01-04T15:44:30.632234Z",
     "start_time": "2025-01-04T15:44:30.627686Z"
    }
   },
   "cell_type": "code",
   "outputs": [
    {
     "data": {
      "text/plain": [
       "np.float64(0.1965345910943364)"
      ]
     },
     "execution_count": 22,
     "metadata": {},
     "output_type": "execute_result"
    }
   ],
   "execution_count": 22,
   "source": [
    "stud_mean = np.mean(students)\n",
    "stud_sub = np.subtract(students, stud_mean)\n",
    "stud_variance = np.sum(np.square(stud_sub)) / 5\n",
    "stud_std = np.sqrt(stud_var)\n",
    "stud_cv = stud_std / stud_mean\n",
    "stud_cv"
   ],
   "id": "d9e64aa9358121d5"
  },
  {
   "metadata": {
    "ExecuteTime": {
     "end_time": "2025-01-04T15:44:30.833237Z",
     "start_time": "2025-01-04T15:44:30.829466Z"
    }
   },
   "cell_type": "code",
   "outputs": [
    {
     "data": {
      "text/plain": [
       "np.float64(19.65345910943364)"
      ]
     },
     "execution_count": 23,
     "metadata": {},
     "output_type": "execute_result"
    }
   ],
   "execution_count": 23,
   "source": "stud_cv * 100",
   "id": "40a53d3e0c98504e"
  }
 ],
 "metadata": {
  "kernelspec": {
   "display_name": "Python 3",
   "language": "python",
   "name": "python3"
  },
  "language_info": {
   "codemirror_mode": {
    "name": "ipython",
    "version": 2
   },
   "file_extension": ".py",
   "mimetype": "text/x-python",
   "name": "python",
   "nbconvert_exporter": "python",
   "pygments_lexer": "ipython2",
   "version": "2.7.6"
  }
 },
 "nbformat": 4,
 "nbformat_minor": 5
}
