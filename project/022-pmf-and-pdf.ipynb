{
 "cells": [
  {
   "metadata": {},
   "cell_type": "markdown",
   "source": "# Probability Mass Function (PMF) and Probability Density Function (PDF)",
   "id": "2376861b436a94a6"
  },
  {
   "metadata": {},
   "cell_type": "markdown",
   "source": "## Probability Mass Function (PMF)",
   "id": "28fc62668b7f70b8"
  },
  {
   "metadata": {},
   "cell_type": "markdown",
   "source": "### Single discrete random variable",
   "id": "35fc996660d69437"
  },
  {
   "metadata": {},
   "cell_type": "markdown",
   "source": [
    "Function describing the probability distribution of a *discrete* random variable.\n",
    "\n",
    "In case the outcomes are *equally likely*, the PMF aligns with simple probability.\n",
    "\n",
    "When the outcomes are *not equally likely*, the PMF helps to determine the probability of each outcome."
   ],
   "id": "8c5a532582b56177"
  },
  {
   "metadata": {},
   "cell_type": "markdown",
   "source": "#### Notation",
   "id": "fe0f1cffa8bdc54c"
  },
  {
   "metadata": {},
   "cell_type": "markdown",
   "source": [
    "- Capitalized, italicized P ($\\it{P}$)\n",
    "- PMF are distinguished by the random variable they represent, e.g. $P(x)$, $P(y)$\n",
    "\n",
    "The probability of a particular state $x$ is $P({\\mathrm{x}})$ or $P({\\mathrm{x}}=x)$ or $x \\sim P({\\mathrm{x}})$"
   ],
   "id": "d7ddf3a03e9d8b2d"
  },
  {
   "metadata": {},
   "cell_type": "markdown",
   "source": "#### Essential properties of $\\it{P}$$({x})$",
   "id": "3e81c55b95ad0c35"
  },
  {
   "metadata": {},
   "cell_type": "markdown",
   "source": [
    "- it covers every possible value of $x$ within the domain that it is covered\n",
    "- Each $\\it{P}$$({x})$ can only range from 0 to 1\n",
    "- The sum of all $\\it{P}$$({x})$ equal 1 (*normalization*)"
   ],
   "id": "cc8239e90cf0583e"
  },
  {
   "metadata": {},
   "cell_type": "markdown",
   "source": "##### Example (marginal PMF)",
   "id": "e869570a3b666bce"
  },
  {
   "metadata": {},
   "cell_type": "markdown",
   "source": [
    "Using a loaded (biased) die, such as the probability of rolling a 6 is higher than the other numbers.\n",
    "\n",
    "Suppose the probabilities are:\n",
    "   - $\\it{P}$$({X=1}), \\it{P}$$({X=2}), \\it{P}$$({X=3}), \\it{P}$$({X=4}), \\it{P}$$({X=5}) = \\frac{1}{10}$\n",
    "   - $\\it{P}$$({X=6}) = \\frac{1}{2}$\n",
    "\n",
    "To calculate the probability of the event $A$ (rolling a 1 or a 6), we sum the probabilities of the individual events:\n",
    "\n",
    "$\\it{P}$$({A}) = \\it{P}$$({X=1}) + \\it{P}$$({X=6}) = \\frac{1}{10} + \\frac{1}{2} = \\frac{3}{5} = 0.6$"
   ],
   "id": "ab09e471070f5c4c"
  },
  {
   "metadata": {},
   "cell_type": "markdown",
   "source": "### Joint PMF (multiple discrete random variables)",
   "id": "4362c3a8160b8c9b"
  },
  {
   "metadata": {},
   "cell_type": "markdown",
   "source": [
    "The joint PMF describes the probability of two or more discrete random variables occurring simultaneously.\n",
    "\n",
    "$\\it{P}_{XY}$$({x,y}) =$$\\it{P}$$(X = x, Y = y)$"
   ],
   "id": "435c26dc4e402b78"
  },
  {
   "metadata": {},
   "cell_type": "markdown",
   "source": "#### Example (joint PMF)",
   "id": "ad177c1f261712ad"
  },
  {
   "metadata": {},
   "cell_type": "markdown",
   "source": [
    "Rolling two fair six-sided dice, $X$ and $Y$.\n",
    "\n",
    "- What is the number of possible outcomes?\n",
    "$6 \\times 6 = 36$\n",
    "\n",
    "- What is the probability of each combination (using joint PMF?):\n",
    "\n",
    "$\\it{P}_{XY}$$({x,y}) =$$\\it{P}$$(X = x, Y = y) = $$\\it{P}$$(X = x) \\times $$\\it{P}$$(Y = y)= \\frac{1}{6} \\times \\frac{1}{6} = \\frac{1}{36} \\approx 0.028$\n",
    "\n",
    "- What is the probability of that the first die shows a 3 and the second die shows a 5?\n",
    "\n",
    "$\\it{P}_{XY}$$({3,5}) = \\frac{1}{36} \\approx 0.028$\n",
    "\n",
    "- What is the probability that both dice show the same number?\n",
    "    - Favorable outcomes: (1,1), (2,2), (3,3), (4,4), (5,5), (6,6)\n",
    "    - Number of favorable outcomes: 6\n",
    "\n",
    "$\\it{P}_{XY}$$({X,Y}) = 6 \\times \\frac{1}{36} = \\frac{6}{36} = \\frac{1}{6} \\approx 0.167$\n",
    "\n",
    "- What is the probability that the sum of the two dice is 9?\n",
    "    - Favorable outcomes: (3,6), (4,5), (5,4), (6,3)\n",
    "    - Number of favorable outcomes: 4\n",
    "\n",
    "$\\it{P}_{XY}$$({X,Y}) = 4 \\times \\frac{1}{36} = \\frac{4}{36} = \\frac{1}{9} \\approx 0.111$"
   ],
   "id": "6cd84f75b6bb7398"
  },
  {
   "metadata": {},
   "cell_type": "markdown",
   "source": "## Probability Density Function (PDF)",
   "id": "e6453a9a1535bfd9"
  },
  {
   "metadata": {},
   "cell_type": "markdown",
   "source": [
    "It's the PMF analogue for a *continuous* random variable.\n",
    "\n",
    "When we’re talking about continuous distributions, it’s not meaningful to talk about the probability of a specific value. However, what we can talk about is the probability that the value lies within a particular range of values."
   ],
   "id": "f6bd3216c7b7d336"
  },
  {
   "metadata": {},
   "cell_type": "markdown",
   "source": "#### Notation",
   "id": "7f7831dedf918822"
  },
  {
   "metadata": {},
   "cell_type": "markdown",
   "source": [
    "- Lower-case, italicized p ($\\it{p}$)\n",
    "- Distinguished by $p$$\\mathrm{(x)}$, $p$$\\mathrm{(y)}$, etc."
   ],
   "id": "b4048fec5993aee9"
  },
  {
   "metadata": {},
   "cell_type": "markdown",
   "source": "#### Essential properties of $p{\\mathrm{(x)}}$",
   "id": "9da92ed6b28a1260"
  },
  {
   "metadata": {},
   "cell_type": "markdown",
   "source": [
    "- Every possible value of $x$ within the domain is covered\n",
    "- Every $p(x)$ must be $\\ge 0$\n",
    "- $\\int{\\it{p}}$$({x})dx = 1$"
   ],
   "id": "ebf2a40c45e0b054"
  },
  {
   "metadata": {},
   "cell_type": "markdown",
   "source": "The probability that $\\it{x}$ is between points $a$ and $b$: $\\int_{[a,b]}$$\\it{p}$$({x})dx$",
   "id": "fcbdd58c8b1261c8"
  },
  {
   "metadata": {},
   "cell_type": "markdown",
   "source": "### PDF with Python",
   "id": "c8dcc22efae9f756"
  },
  {
   "metadata": {},
   "cell_type": "markdown",
   "source": "The probability that $\\mathrm{x}=1$, for a normally distributed variable with $\\mu=1$ and $\\sigma=0.1$:",
   "id": "4fba3f1429d3eaa7"
  },
  {
   "metadata": {
    "ExecuteTime": {
     "end_time": "2025-01-12T12:51:40.215056Z",
     "start_time": "2025-01-12T12:51:40.211155Z"
    }
   },
   "cell_type": "code",
   "source": [
    "from scipy.stats import norm\n",
    "norm.pdf(1,1,0.1)"
   ],
   "id": "4fdf0f179ad54aa5",
   "outputs": [
    {
     "data": {
      "text/plain": [
       "np.float64(3.989422804014327)"
      ]
     },
     "execution_count": 17,
     "metadata": {},
     "output_type": "execute_result"
    }
   ],
   "execution_count": 17
  },
  {
   "metadata": {},
   "cell_type": "markdown",
   "source": "#### Example (PDF) plot",
   "id": "341185495d0e6737"
  },
  {
   "metadata": {
    "ExecuteTime": {
     "end_time": "2025-01-12T12:56:46.942099Z",
     "start_time": "2025-01-12T12:56:46.862137Z"
    }
   },
   "cell_type": "code",
   "source": [
    "import numpy as np\n",
    "import matplotlib.pyplot as plt\n",
    "\n",
    "fig, ax = plt.subplots(1, 1)\n",
    "\n",
    "x = np.linspace(norm.ppf(0.01),\n",
    "                norm.ppf(0.99), 100)\n",
    "ax.plot(x, norm.pdf(x),\n",
    "       'r-', lw=5, alpha=0.6, label='norm pdf')\n",
    "rv = norm()\n",
    "ax.plot(x, rv.pdf(x), 'k-', lw=2, label='frozen pdf')\n",
    "\n",
    "r = norm.rvs(size=1000)\n",
    "\n",
    "ax.hist(r, density=True, bins='auto', histtype='stepfilled', alpha=0.2)\n",
    "ax.set_xlim([x[0], x[-1]])\n",
    "ax.legend(loc='best', frameon=False)\n",
    "plt.show()"
   ],
   "id": "3111f081d930a97a",
   "outputs": [
    {
     "data": {
      "text/plain": [
       "<Figure size 640x480 with 1 Axes>"
      ],
      "image/png": "[encoded data removed]"
     },
     "metadata": {},
     "output_type": "display_data"
    }
   ],
   "execution_count": 18
  },
  {
   "metadata": {
    "ExecuteTime": {
     "end_time": "2025-01-12T12:51:01.004854Z",
     "start_time": "2025-01-12T12:51:01.001984Z"
    }
   },
   "cell_type": "code",
   "outputs": [],
   "execution_count": 15,
   "source": "",
   "id": "1ace43cbcba11097"
  },
  {
   "metadata": {},
   "cell_type": "code",
   "outputs": [],
   "execution_count": null,
   "source": "",
   "id": "44b2ad08e021f7e2"
  }
 ],
 "metadata": {
  "kernelspec": {
   "display_name": "Python 3",
   "language": "python",
   "name": "python3"
  },
  "language_info": {
   "codemirror_mode": {
    "name": "ipython",
    "version": 2
   },
   "file_extension": ".py",
   "mimetype": "text/x-python",
   "name": "python",
   "nbconvert_exporter": "python",
   "pygments_lexer": "ipython2",
   "version": "2.7.6"
  }
 },
 "nbformat": 4,
 "nbformat_minor": 5
}
