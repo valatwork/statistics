{
 "cells": [
  {
   "metadata": {},
   "cell_type": "markdown",
   "source": "## P-value",
   "id": "525f6cb13defd769"
  },
  {
   "metadata": {},
   "cell_type": "markdown",
   "source": "The probability that a given observation would occur by chance alone.",
   "id": "8ce12add1d3461a9"
  },
  {
   "metadata": {},
   "cell_type": "markdown",
   "source": "#### Alpha",
   "id": "688d9021d917f785"
  },
  {
   "metadata": {},
   "cell_type": "markdown",
   "source": [
    "How do we determine if a result is \"too unusual\"?\n",
    "The frequentist convention is that if a p-value is less than .05, we can say that it is a \"statistically significant\" observation. We typically denote this significance threshold with $\\alpha$, e.g., $\\alpha = .05$\n",
    "\n",
    "Any chosen level is an arbitrary decision—there is nothing about the process that will guarantee correct decisions x% of the time. This is because the probability question being answered is not “What is the probability that this happened by chance?” rather “Given a chance model, what is the probability of a result this extreme?”\n",
    "\n",
    "\n",
    "- If the p-value is greater than or equal to α, do not reject the null hypothesis.\n",
    "\n",
    "- If the p-value is less than α, reject the null hypothesis\n",
    "\n",
    "The p-value can be calculated using the *cumulative distribution function (CDF)* of the distribution.\n",
    "\n",
    "The z-scores corresponding to $\\alpha = .05$ can be obtained from the normal distribution *percent point function (PPF)*."
   ],
   "id": "e61d4ee1a6cd00"
  },
  {
   "metadata": {},
   "cell_type": "markdown",
   "source": "#### Example (p-value)",
   "id": "d1a6147274c24fda"
  },
  {
   "metadata": {},
   "cell_type": "markdown",
   "source": [
    "Given 10000 students, where 69 attained a z-score above 2.5 and only 67 attained a z-score below -2.5, if we were to sample one student at random, the probability of selecting a student with a z-score above 2.5 or below -2.5 would be:\n",
    "\n",
    "$$\\frac{69 - 67}{10000} = 0.00136 = 1.36\\% $$"
   ],
   "id": "c98d084d669a25ca"
  },
  {
   "metadata": {
    "ExecuteTime": {
     "end_time": "2025-01-16T15:11:34.256963Z",
     "start_time": "2025-01-16T15:11:34.254784Z"
    }
   },
   "cell_type": "code",
   "source": [
    "import numpy as np\n",
    "import scipy.stats as st\n",
    "import seaborn as sns\n",
    "import matplotlib.pyplot as plt"
   ],
   "id": "15d99c819c307e49",
   "outputs": [],
   "execution_count": 1
  },
  {
   "metadata": {
    "ExecuteTime": {
     "end_time": "2025-01-16T15:11:34.263954Z",
     "start_time": "2025-01-16T15:11:34.261418Z"
    }
   },
   "cell_type": "code",
   "source": [
    "x_i = 90\n",
    "mu = 90\n",
    "sigma = 2"
   ],
   "id": "fbc889dd0d34e126",
   "outputs": [],
   "execution_count": 2
  },
  {
   "metadata": {
    "ExecuteTime": {
     "end_time": "2025-01-16T15:11:34.406959Z",
     "start_time": "2025-01-16T15:11:34.403828Z"
    }
   },
   "cell_type": "code",
   "source": [
    "rng = np.random.default_rng()\n",
    "y = rng.normal(mu, sigma, 10000)"
   ],
   "id": "dc485965e9d24d14",
   "outputs": [],
   "execution_count": 3
  },
  {
   "metadata": {
    "ExecuteTime": {
     "end_time": "2025-01-16T15:11:34.417454Z",
     "start_time": "2025-01-16T15:11:34.414678Z"
    }
   },
   "cell_type": "code",
   "source": [
    "p_below = st.norm.cdf(-2.5)\n",
    "p_above = 1-st.norm.cdf(2.5)"
   ],
   "id": "4c9e36c899d14134",
   "outputs": [],
   "execution_count": 4
  },
  {
   "metadata": {},
   "cell_type": "markdown",
   "source": "To calculate the number of students who scored below 90 (z-score -2.5), we can use the CDF function from the `scipy.stats` module:",
   "id": "f5fb4ff46459162a"
  },
  {
   "metadata": {
    "ExecuteTime": {
     "end_time": "2025-01-16T15:11:35.672346Z",
     "start_time": "2025-01-16T15:11:35.667680Z"
    }
   },
   "cell_type": "code",
   "source": "p_below*10000",
   "id": "2273850b35374121",
   "outputs": [
    {
     "data": {
      "text/plain": [
       "np.float64(62.096653257761325)"
      ]
     },
     "execution_count": 5,
     "metadata": {},
     "output_type": "execute_result"
    }
   ],
   "execution_count": 5
  },
  {
   "metadata": {
    "ExecuteTime": {
     "end_time": "2025-01-16T15:11:37.153911Z",
     "start_time": "2025-01-16T15:11:36.948288Z"
    }
   },
   "cell_type": "code",
   "source": [
    "sns.displot(y, color='gray')\n",
    "_ = plt.axvline(mu-2.5*sigma, color='blue')"
   ],
   "id": "93dbb752ae7cfe26",
   "outputs": [
    {
     "data": {
      "text/plain": [
       "<Figure size 500x500 with 1 Axes>"
      ],
      "image/png": "[encoded data removed]"
     },
     "metadata": {},
     "output_type": "display_data"
    }
   ],
   "execution_count": 6
  },
  {
   "metadata": {},
   "cell_type": "markdown",
   "source": "To calculate the number of students who scored above 90 (z-score 2.5):",
   "id": "d8d992e17154d9be"
  },
  {
   "metadata": {
    "ExecuteTime": {
     "end_time": "2025-01-16T15:11:38.146739Z",
     "start_time": "2025-01-16T15:11:38.142815Z"
    }
   },
   "cell_type": "code",
   "source": "p_above",
   "id": "bbbdf0414a9f9a1",
   "outputs": [
    {
     "data": {
      "text/plain": [
       "np.float64(0.006209665325776159)"
      ]
     },
     "execution_count": 7,
     "metadata": {},
     "output_type": "execute_result"
    }
   ],
   "execution_count": 7
  },
  {
   "metadata": {
    "ExecuteTime": {
     "end_time": "2025-01-16T15:11:38.639936Z",
     "start_time": "2025-01-16T15:11:38.636264Z"
    }
   },
   "cell_type": "code",
   "source": "p_above*10000",
   "id": "c1be8a3955219974",
   "outputs": [
    {
     "data": {
      "text/plain": [
       "np.float64(62.09665325776159)"
      ]
     },
     "execution_count": 8,
     "metadata": {},
     "output_type": "execute_result"
    }
   ],
   "execution_count": 8
  },
  {
   "metadata": {
    "ExecuteTime": {
     "end_time": "2025-01-16T15:11:39.022950Z",
     "start_time": "2025-01-16T15:11:38.822245Z"
    }
   },
   "cell_type": "code",
   "source": [
    "sns.displot(y, color='gray')\n",
    "_ = plt.axvline(mu+2.5*sigma, color='blue')"
   ],
   "id": "514dad47f4f33069",
   "outputs": [
    {
     "data": {
      "text/plain": [
       "<Figure size 500x500 with 1 Axes>"
      ],
      "image/png": "[encoded data removed]"
     },
     "metadata": {},
     "output_type": "display_data"
    }
   ],
   "execution_count": 9
  },
  {
   "metadata": {},
   "cell_type": "markdown",
   "source": "The probability of a student scoring below 90 (z-score -2.5) or above 90 (z-score 2.5) is:",
   "id": "a8cb1708f65b782c"
  },
  {
   "metadata": {
    "ExecuteTime": {
     "end_time": "2025-01-16T15:11:39.106441Z",
     "start_time": "2025-01-16T15:11:39.102462Z"
    }
   },
   "cell_type": "code",
   "source": [
    "p_outside = p_below + p_above\n",
    "p_outside"
   ],
   "id": "7b5496da3e9e5502",
   "outputs": [
    {
     "data": {
      "text/plain": [
       "np.float64(0.01241933065155229)"
      ]
     },
     "execution_count": 10,
     "metadata": {},
     "output_type": "execute_result"
    }
   ],
   "execution_count": 10
  },
  {
   "metadata": {},
   "cell_type": "markdown",
   "source": "The number of students who scored below 90 (z-score -2.5) or above 90 (z-score 2.5) is:",
   "id": "3a20337153897fce"
  },
  {
   "metadata": {
    "ExecuteTime": {
     "end_time": "2025-01-16T15:11:39.400436Z",
     "start_time": "2025-01-16T15:11:39.396656Z"
    }
   },
   "cell_type": "code",
   "source": "p_outside*10000",
   "id": "cc820f6031d46a27",
   "outputs": [
    {
     "data": {
      "text/plain": [
       "np.float64(124.1933065155229)"
      ]
     },
     "execution_count": 11,
     "metadata": {},
     "output_type": "execute_result"
    }
   ],
   "execution_count": 11
  },
  {
   "metadata": {
    "ExecuteTime": {
     "end_time": "2025-01-16T15:11:39.741937Z",
     "start_time": "2025-01-16T15:11:39.550686Z"
    }
   },
   "cell_type": "code",
   "source": [
    "sns.displot(y, color='gray')\n",
    "plt.axvline(mu+2.5*sigma, color='blue')\n",
    "_ = plt.axvline(mu-2.5*sigma, color='blue')"
   ],
   "id": "4d1036f88115a869",
   "outputs": [
    {
     "data": {
      "text/plain": [
       "<Figure size 500x500 with 1 Axes>"
      ],
      "image/png": "[encoded data removed]"
     },
     "metadata": {},
     "output_type": "display_data"
    }
   ],
   "execution_count": 12
  },
  {
   "metadata": {},
   "cell_type": "markdown",
   "source": "#### Example (z-scores)",
   "id": "6b84962a3cfdd94"
  },
  {
   "metadata": {},
   "cell_type": "markdown",
   "source": "To capture 95% of the values around the mean, we leave 2.5% at the bottom of the distribution and 2.5% at the top:",
   "id": "3d8065a74d9eb3f3"
  },
  {
   "metadata": {
    "ExecuteTime": {
     "end_time": "2025-01-16T15:11:39.991936Z",
     "start_time": "2025-01-16T15:11:39.988229Z"
    }
   },
   "cell_type": "code",
   "source": "st.norm.ppf(.025)",
   "id": "96e2e2a0324c8dec",
   "outputs": [
    {
     "data": {
      "text/plain": [
       "np.float64(-1.9599639845400545)"
      ]
     },
     "execution_count": 13,
     "metadata": {},
     "output_type": "execute_result"
    }
   ],
   "execution_count": 13
  },
  {
   "metadata": {},
   "cell_type": "markdown",
   "source": "To capture 99% of the values around the mean, we leave 0.5% at the bottom of the distribution and 0.5% at the top:",
   "id": "55c511983325eacd"
  },
  {
   "metadata": {
    "ExecuteTime": {
     "end_time": "2025-01-16T15:11:40.305765Z",
     "start_time": "2025-01-16T15:11:40.301425Z"
    }
   },
   "cell_type": "code",
   "source": "st.norm.ppf(.975)",
   "id": "3e7ca23130498b66",
   "outputs": [
    {
     "data": {
      "text/plain": [
       "np.float64(1.959963984540054)"
      ]
     },
     "execution_count": 14,
     "metadata": {},
     "output_type": "execute_result"
    }
   ],
   "execution_count": 14
  },
  {
   "metadata": {},
   "cell_type": "markdown",
   "source": "At the traditional significance level of $\\alpha = .05$, a sampled value with a z-score less than -1.96 or greater than 1.96 would be considered statistically significant.",
   "id": "341896f7efaecc33"
  },
  {
   "metadata": {
    "ExecuteTime": {
     "end_time": "2025-01-16T15:11:40.785862Z",
     "start_time": "2025-01-16T15:11:40.615711Z"
    }
   },
   "cell_type": "code",
   "source": [
    "sns.displot(y, color='gray')\n",
    "plt.axvline(mu+1.96*sigma, color='red')\n",
    "_ = plt.axvline(mu-1.96*sigma, color='red')"
   ],
   "id": "25c4303bf35953b2",
   "outputs": [
    {
     "data": {
      "text/plain": [
       "<Figure size 500x500 with 1 Axes>"
      ],
      "image/png": "[encoded data removed]"
     },
     "metadata": {},
     "output_type": "display_data"
    }
   ],
   "execution_count": 15
  },
  {
   "metadata": {},
   "cell_type": "markdown",
   "source": "Changing the threshold to a stricter $\\alpha = .01$:",
   "id": "533150ae25cb727"
  },
  {
   "metadata": {
    "ExecuteTime": {
     "end_time": "2025-01-16T15:11:40.965855Z",
     "start_time": "2025-01-16T15:11:40.961745Z"
    }
   },
   "cell_type": "code",
   "source": "st.norm.ppf(.005), st.norm.ppf(.995)",
   "id": "e50d4bd222c7ad5d",
   "outputs": [
    {
     "data": {
      "text/plain": [
       "(np.float64(-2.575829303548901), np.float64(2.5758293035489004))"
      ]
     },
     "execution_count": 16,
     "metadata": {},
     "output_type": "execute_result"
    }
   ],
   "execution_count": 16
  },
  {
   "metadata": {
    "ExecuteTime": {
     "end_time": "2025-01-16T15:11:41.317361Z",
     "start_time": "2025-01-16T15:11:41.131654Z"
    }
   },
   "cell_type": "code",
   "source": [
    "sns.displot(y, color='gray')\n",
    "\n",
    "plt.axvline(mu+1.96*sigma, color='red')\n",
    "plt.axvline(mu-1.96*sigma, color='red')\n",
    "\n",
    "plt.axvline(mu+2.56*sigma, color='blue')\n",
    "_ = plt.axvline(mu-2.56*sigma, color='blue')"
   ],
   "id": "6f50bd899193fb1c",
   "outputs": [
    {
     "data": {
      "text/plain": [
       "<Figure size 500x500 with 1 Axes>"
      ],
      "image/png": "[encoded data removed]"
     },
     "metadata": {},
     "output_type": "display_data"
    }
   ],
   "execution_count": 17
  }
 ],
 "metadata": {
  "kernelspec": {
   "display_name": "Python 3",
   "language": "python",
   "name": "python3"
  },
  "language_info": {
   "codemirror_mode": {
    "name": "ipython",
    "version": 2
   },
   "file_extension": ".py",
   "mimetype": "text/x-python",
   "name": "python",
   "nbconvert_exporter": "python",
   "pygments_lexer": "ipython2",
   "version": "2.7.6"
  }
 },
 "nbformat": 4,
 "nbformat_minor": 5
}
