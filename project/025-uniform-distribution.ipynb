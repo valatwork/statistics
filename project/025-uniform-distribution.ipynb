{
 "cells": [
  {
   "metadata": {},
   "cell_type": "markdown",
   "source": "# Uniform Distribution",
   "id": "c72bbdc84c4880bb"
  },
  {
   "metadata": {},
   "cell_type": "markdown",
   "source": "The uniform probability distribution models situations where there is a constant probability over a range of possible values in its domain.",
   "id": "bf98b75f779b2aaa"
  },
  {
   "metadata": {},
   "cell_type": "markdown",
   "source": [
    "Real-world examples include:\n",
    "\n",
    "- Dice rolling (PMF)\n",
    "- Card drawing (PMF)\n",
    "- Model hyperparameters\n",
    "- Emission of radioactive particles\n",
    "- Economic demand\n",
    "- Analog-to-digital signal quantization errors\n",
    "\n",
    "Also, Uniform distribution is used in any situation when a value is picked “at random”\n",
    "from a given interval; that is, without any preference to lower, higher, or medium values.\n",
    "For example, locations of errors in a program, birthdays throughout a year, and many\n",
    "continuous random variables modulo 1, modulo 0.1, 0.01, etc., are uniformly distributed\n",
    "over their corresponding intervals."
   ],
   "id": "64f5104ff1803a1b"
  },
  {
   "metadata": {},
   "cell_type": "markdown",
   "source": "#### Example",
   "id": "706033b73847338a"
  },
  {
   "metadata": {
    "ExecuteTime": {
     "end_time": "2025-01-12T12:23:03.407311Z",
     "start_time": "2025-01-12T12:23:03.405097Z"
    }
   },
   "cell_type": "code",
   "source": [
    "import numpy as np\n",
    "import seaborn as sns"
   ],
   "id": "4bfa947e2f4d4ce2",
   "outputs": [],
   "execution_count": 1
  },
  {
   "metadata": {
    "ExecuteTime": {
     "end_time": "2025-01-12T12:23:04.072171Z",
     "start_time": "2025-01-12T12:23:04.068736Z"
    }
   },
   "cell_type": "code",
   "source": [
    "rng = np.random.default_rng()\n",
    "u = rng.uniform(size=10000)"
   ],
   "id": "7edb6ba2a6ad4159",
   "outputs": [],
   "execution_count": 2
  },
  {
   "metadata": {
    "ExecuteTime": {
     "end_time": "2025-01-12T12:23:05.849366Z",
     "start_time": "2025-01-12T12:23:05.705300Z"
    }
   },
   "cell_type": "code",
   "source": [
    "sns.set_style('ticks')\n",
    "_ = sns.displot(u)"
   ],
   "id": "e861e10a7f6e7b05",
   "outputs": [
    {
     "data": {
      "text/plain": [
       "<Figure size 500x500 with 1 Axes>"
      ],
      "image/png": "[encoded data removed]"
     },
     "metadata": {},
     "output_type": "display_data"
    }
   ],
   "execution_count": 3
  },
  {
   "metadata": {},
   "cell_type": "markdown",
   "source": [
    "Density function for the uniform distribution:\n",
    "\n",
    "```\n",
    "def uniform_pdf(x: float) -> float:\n",
    "    return 1 if 0 <= x < 1 else 0\n",
    "```"
   ],
   "id": "7a9e503bf7008fbc"
  },
  {
   "metadata": {},
   "cell_type": "markdown",
   "source": "#### Uniform distribution CDF",
   "id": "ef6c5731a865e63"
  },
  {
   "metadata": {},
   "cell_type": "markdown",
   "source": [
    "```\n",
    "def uniform_cdf(x: float) -> float:\n",
    "    \"\"\"Returns the probability that a uniform random variable is <= x\"\"\"\n",
    "    if x < 0:   return 0    # uniform random is never less than 0\n",
    "    elif x < 1: return x    # e.g. P(X <= 0.4) = 0.4\n",
    "    else:       return 1    # uniform random is always less than 1\n",
    "```"
   ],
   "id": "77ae844db64deab3"
  }
 ],
 "metadata": {
  "kernelspec": {
   "display_name": "Python 3",
   "language": "python",
   "name": "python3"
  },
  "language_info": {
   "codemirror_mode": {
    "name": "ipython",
    "version": 2
   },
   "file_extension": ".py",
   "mimetype": "text/x-python",
   "name": "python",
   "nbconvert_exporter": "python",
   "pygments_lexer": "ipython2",
   "version": "2.7.6"
  }
 },
 "nbformat": 4,
 "nbformat_minor": 5
}
