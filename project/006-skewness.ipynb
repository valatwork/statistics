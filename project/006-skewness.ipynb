{
 "cells": [
  {
   "metadata": {},
   "cell_type": "markdown",
   "source": "# Descriptive Statistics: Shape of a distribution (Skewness)",
   "id": "561fd2cafdbeced0"
  },
  {
   "metadata": {},
   "cell_type": "markdown",
   "source": "## Skewness",
   "id": "967a97ece83078fd"
  },
  {
   "metadata": {},
   "cell_type": "markdown",
   "source": [
    "Skewness refers to a distortion or asymmetry that deviates from the symmetrical bell curve, or normal distribution, in a set of data. The skewness value can be positive, negative, or undefined.\n",
    "\n",
    "- Normally distributed data has a skewness of zero.\n",
    "- **Positively skewed** data indicates a right-skewed distribution: more of extremely large values and fewer small ones.\n",
    "\n",
    "If the mean is greater than the median, the data is positively skewed (Mode < Median < Mean). The outliers are on the right side of the distribution.\n",
    "\n",
    "*(Synonyms: right-skewed)*\n",
    "\n",
    "- **Negatively skewed** data: lots of small values and a few extremely large ones.\n",
    "If the mean is smaller than the median, the data is negatively skewed (Mean < Median < Mode). The outliers are on the left side of the distribution.\n",
    "\n",
    "*(Synonyms: left-skewed*"
   ],
   "id": "62362ac16aeb10df"
  },
  {
   "metadata": {},
   "cell_type": "markdown",
   "source": "#### Skewness formula",
   "id": "fd3767b306d169ef"
  },
  {
   "metadata": {},
   "cell_type": "markdown",
   "source": [
    "$$\n",
    "\\gamma_m = \\frac{\\frac{1}{n}\\sum_{i=1}^{n}{(x_{i} - \\bar{x})^{3}}} {\\sigma^{3}}\n",
    "$$\n",
    "\n",
    "##### Explanation:\n",
    "- $\\gamma_m$: Population skewness symbol\n",
    "- $(x_i - \\bar{x})$ this is the so-called *mean centering*: subtract the mean ($\\bar{x}$) from each value in the dataset ($x_i$). Cubing the difference emphasizes larger deviations and preserves the sign (positive or negative).\n",
    "- $n$: This represents the number of observations or data points in the dataset.\n",
    "- $\\frac{1}{n}\\sum_{i=1}^{n}{(x_{i} - \\bar{x})^{3}}$: This calculates the average of the cubed differences. It gives us a measure of the asymmetry of the data.\n",
    "- $\\sigma$: standard deviation symbol\n",
    "- $\\sigma^{3}$: This is the standard deviation of the dataset, raised to the power of 3. The standard deviation measures the spread or dispersion of the data points. Raising it to the power of 3 scales it to match the cubed differences.\n",
    "\n",
    "##### Order of operations:\n",
    "1. Subtract the mean from each value in the dataset.\n",
    "2. Cube each difference.\n",
    "3. Sum the cubed differences.\n",
    "4. Divide by the number of observations.\n",
    "\n"
   ],
   "id": "a63da509031f5a6b"
  },
  {
   "metadata": {},
   "cell_type": "markdown",
   "source": "##### Standard deviation value formula",
   "id": "e6a518dadab10e61"
  },
  {
   "metadata": {},
   "cell_type": "markdown",
   "source": [
    "$$\n",
    "\\sigma = \\frac{\\frac{1}{n} \\sum_{i=1}^n (x_i - \\bar{x})^3}{\\left(\\sqrt{\\frac{1}{n} \\sum_{i=1}^n (x_i - \\bar{x})^2}\\right)^3} \\\n",
    "$$"
   ],
   "id": "21bfb1fe94b57d14"
  },
  {
   "metadata": {},
   "cell_type": "markdown",
   "source": [
    "- $\\gamma_m > 0$: **positive** skewed (**right**-skewed)\n",
    "- $\\gamma_m < 0$: **negative** skewed (**left**-skewed)\n",
    "- $\\gamma_m = 0$: no skewness (symmetrical distribution)"
   ],
   "id": "4ed76db8adc2a4b5"
  },
  {
   "metadata": {
    "ExecuteTime": {
     "end_time": "2025-01-10T10:50:09.203766Z",
     "start_time": "2025-01-10T10:50:08.226587Z"
    }
   },
   "cell_type": "code",
   "source": [
    "import pandas as pd\n",
    "import seaborn as sns\n",
    "import matplotlib.pyplot as plt\n",
    "import statsmodels.api as sm\n",
    "import numpy as np\n",
    "from scipy import stats\n",
    "\n",
    "plt.style.use('fivethirtyeight')"
   ],
   "id": "c944013460009e2c",
   "outputs": [],
   "execution_count": 1
  },
  {
   "metadata": {
    "ExecuteTime": {
     "end_time": "2024-12-30T13:20:05.381052Z",
     "start_time": "2024-12-30T13:20:04.821437Z"
    }
   },
   "cell_type": "code",
   "source": [
    "skewness = pd.read_csv('data/skewdata.csv')\n",
    "fig, axes = plt.subplots(1, 3, figsize=(15, 5))\n",
    "\n",
    "ax1 = sns.histplot(data = skewness.loc[skewness['Skew'] == 'NegSkew'], x = 'Values', binwidth = 0.02, ax=axes[0])\n",
    "ax2 = sns.histplot(data = skewness.loc[skewness['Skew'] == 'NoSkew'], x = 'Values', binwidth = 0.02, ax=axes[1])\n",
    "ax3 = sns.histplot(data = skewness.loc[skewness['Skew'] == 'PosSkew'], x = 'Values', binwidth = 0.02, ax=axes[2])\n",
    "\n",
    "axes[0].set_title(\"Negative Skew\")\n",
    "axes[1].set_title(\"No Skew\")\n",
    "axes[2].set_title(\"Positive Skew\")\n",
    "\n",
    "for ax in axes:\n",
    "    ax.set(xticklabels=[])\n",
    "    ax.set(yticklabels=[])\n",
    "    ax.set(xlabel=None)\n",
    "    ax.set(ylabel=None)\n",
    "    ax.tick_params(bottom=False)\n",
    "    ax.tick_params(left=False)\n",
    "\n",
    "sns.despine()"
   ],
   "id": "16b41d081d624807",
   "outputs": [
    {
     "data": {
      "text/plain": [
       "<Figure size 1500x500 with 3 Axes>"
      ],
      "image/png": "[encoded data removed]"
     },
     "metadata": {},
     "output_type": "display_data"
    }
   ],
   "execution_count": 4
  },
  {
   "metadata": {},
   "cell_type": "markdown",
   "source": "### Examples (skewness)",
   "id": "99c28b744052943a"
  },
  {
   "metadata": {},
   "cell_type": "markdown",
   "source": "#### Example 1 (skewness)",
   "id": "8dfaa8ebe92cf19c"
  },
  {
   "metadata": {
    "ExecuteTime": {
     "end_time": "2024-12-30T13:20:05.453053Z",
     "start_time": "2024-12-30T13:20:05.449632Z"
    }
   },
   "cell_type": "code",
   "source": [
    "incomes = np.random.normal(27000, 15000, 10000)\n",
    "incomes = np.append(incomes, [1000000000])"
   ],
   "id": "fd2898c095063735",
   "outputs": [],
   "execution_count": 5
  },
  {
   "metadata": {
    "ExecuteTime": {
     "end_time": "2024-12-30T13:20:05.660049Z",
     "start_time": "2024-12-30T13:20:05.656049Z"
    }
   },
   "cell_type": "code",
   "source": "np.median(incomes), np.mean(incomes)",
   "id": "ee8009fdf5ebf26b",
   "outputs": [
    {
     "data": {
      "text/plain": [
       "(np.float64(27005.30853891188), np.float64(127127.7141868306))"
      ]
     },
     "execution_count": 6,
     "metadata": {},
     "output_type": "execute_result"
    }
   ],
   "execution_count": 6
  },
  {
   "metadata": {
    "ExecuteTime": {
     "end_time": "2024-12-30T13:20:05.844042Z",
     "start_time": "2024-12-30T13:20:05.838543Z"
    }
   },
   "cell_type": "code",
   "source": [
    "df = pd.DataFrame(incomes)\n",
    "df.skew()"
   ],
   "id": "a7a91894dffe04af",
   "outputs": [
    {
     "data": {
      "text/plain": [
       "0    100.00467\n",
       "dtype: float64"
      ]
     },
     "execution_count": 7,
     "metadata": {},
     "output_type": "execute_result"
    }
   ],
   "execution_count": 7
  },
  {
   "metadata": {},
   "cell_type": "markdown",
   "source": "#### Calculate skewness using statsmodels",
   "id": "cd540c6387dcf47e"
  },
  {
   "metadata": {},
   "cell_type": "markdown",
   "source": [
    "statsmodels will return:\n",
    "- The standard skewness estimator.\n",
    "- The skewness estimator based on quartiles.\n",
    "- The skewness estimator based on mean-median difference, standardized by absolute deviation.\n",
    "- The skewness estimator based on the mean-median difference, standardized by standard deviation.\n"
   ],
   "id": "400b38ac587e951a"
  },
  {
   "metadata": {
    "ExecuteTime": {
     "end_time": "2024-12-30T13:20:06.390541Z",
     "start_time": "2024-12-30T13:20:06.385649Z"
    }
   },
   "cell_type": "code",
   "source": "sm.stats.stattools.robust_skewness(incomes)",
   "id": "f4326a6ac3a647e6",
   "outputs": [
    {
     "data": {
      "text/plain": [
       "(np.float64(99.98967042267313),\n",
       " np.float64(0.008310879516554865),\n",
       " np.float64(0.8953172451917037),\n",
       " np.float64(0.010013502560209437))"
      ]
     },
     "execution_count": 8,
     "metadata": {},
     "output_type": "execute_result"
    }
   ],
   "execution_count": 8
  },
  {
   "metadata": {},
   "cell_type": "markdown",
   "source": "#### Example 2 (skewness)",
   "id": "cb451869df427c70"
  },
  {
   "metadata": {
    "ExecuteTime": {
     "end_time": "2024-12-30T13:20:06.791545Z",
     "start_time": "2024-12-30T13:20:06.782275Z"
    }
   },
   "cell_type": "code",
   "source": [
    "sp_data = pd.read_csv(\"data/SP_500_1987.csv\", parse_dates=[\"Date\"])\n",
    "sp_data['Volume'] = sp_data['Volume'].str.replace(',', '').astype(int)\n",
    "sp_data['Returns'] = sp_data['Close'].pct_change()\n",
    "sp_data.dropna(inplace=True)\n",
    "sp_data['Returns'].skew()"
   ],
   "id": "4ec44830e5632e2a",
   "outputs": [
    {
     "data": {
      "text/plain": [
       "np.float64(-4.063006900553241)"
      ]
     },
     "execution_count": 9,
     "metadata": {},
     "output_type": "execute_result"
    }
   ],
   "execution_count": 9
  },
  {
   "metadata": {
    "ExecuteTime": {
     "end_time": "2024-12-30T13:20:07.005048Z",
     "start_time": "2024-12-30T13:20:07.000560Z"
    }
   },
   "cell_type": "code",
   "source": "sm.stats.stattools.robust_skewness(sp_data['Returns'])",
   "id": "b1d5d50e64ee020",
   "outputs": [
    {
     "data": {
      "text/plain": [
       "(np.float64(-4.038782236530137),\n",
       " np.float64(0.033689707286255054),\n",
       " np.float64(-0.11690104948849872),\n",
       " np.float64(-0.06460582304845877))"
      ]
     },
     "execution_count": 10,
     "metadata": {},
     "output_type": "execute_result"
    }
   ],
   "execution_count": 10
  },
  {
   "metadata": {},
   "cell_type": "markdown",
   "source": "### Example 3 (skewness)",
   "id": "f841ad35ec0492b"
  },
  {
   "metadata": {
    "ExecuteTime": {
     "end_time": "2024-12-30T13:26:38.571279Z",
     "start_time": "2024-12-30T13:26:38.562590Z"
    }
   },
   "cell_type": "code",
   "source": [
    "num_people = [1, 2, 2, 1, 3, 4, 3, 2, 5, 1, 2, 7, 3, 4, 5, 6, 2, 1]\n",
    "df = pd.DataFrame(num_people)\n",
    "df.describe()"
   ],
   "id": "be6fd83d7d5e4e8c",
   "outputs": [
    {
     "data": {
      "text/plain": [
       "              0\n",
       "count  18.00000\n",
       "mean    3.00000\n",
       "std     1.81497\n",
       "min     1.00000\n",
       "25%     2.00000\n",
       "50%     2.50000\n",
       "75%     4.00000\n",
       "max     7.00000"
      ],
      "text/html": [
       "<div>\n",
       "<style scoped>\n",
       "    .dataframe tbody tr th:only-of-type {\n",
       "        vertical-align: middle;\n",
       "    }\n",
       "\n",
       "    .dataframe tbody tr th {\n",
       "        vertical-align: top;\n",
       "    }\n",
       "\n",
       "    .dataframe thead th {\n",
       "        text-align: right;\n",
       "    }\n",
       "</style>\n",
       "<table border=\"1\" class=\"dataframe\">\n",
       "  <thead>\n",
       "    <tr style=\"text-align: right;\">\n",
       "      <th></th>\n",
       "      <th>0</th>\n",
       "    </tr>\n",
       "  </thead>\n",
       "  <tbody>\n",
       "    <tr>\n",
       "      <th>count</th>\n",
       "      <td>18.00000</td>\n",
       "    </tr>\n",
       "    <tr>\n",
       "      <th>mean</th>\n",
       "      <td>3.00000</td>\n",
       "    </tr>\n",
       "    <tr>\n",
       "      <th>std</th>\n",
       "      <td>1.81497</td>\n",
       "    </tr>\n",
       "    <tr>\n",
       "      <th>min</th>\n",
       "      <td>1.00000</td>\n",
       "    </tr>\n",
       "    <tr>\n",
       "      <th>25%</th>\n",
       "      <td>2.00000</td>\n",
       "    </tr>\n",
       "    <tr>\n",
       "      <th>50%</th>\n",
       "      <td>2.50000</td>\n",
       "    </tr>\n",
       "    <tr>\n",
       "      <th>75%</th>\n",
       "      <td>4.00000</td>\n",
       "    </tr>\n",
       "    <tr>\n",
       "      <th>max</th>\n",
       "      <td>7.00000</td>\n",
       "    </tr>\n",
       "  </tbody>\n",
       "</table>\n",
       "</div>"
      ]
     },
     "execution_count": 23,
     "metadata": {},
     "output_type": "execute_result"
    }
   ],
   "execution_count": 23
  },
  {
   "metadata": {
    "ExecuteTime": {
     "end_time": "2024-12-28T18:40:48.295634Z",
     "start_time": "2024-12-28T18:40:48.290545Z"
    }
   },
   "cell_type": "code",
   "source": [
    "frequency = df[0].value_counts()\n",
    "frequency"
   ],
   "id": "d84bc0abae18abf5",
   "outputs": [
    {
     "data": {
      "text/plain": [
       "0\n",
       "2    5\n",
       "1    4\n",
       "3    3\n",
       "4    2\n",
       "5    2\n",
       "7    1\n",
       "6    1\n",
       "Name: count, dtype: int64"
      ]
     },
     "execution_count": 225,
     "metadata": {},
     "output_type": "execute_result"
    }
   ],
   "execution_count": 225
  },
  {
   "metadata": {
    "ExecuteTime": {
     "end_time": "2024-12-28T18:40:49.035451Z",
     "start_time": "2024-12-28T18:40:48.939193Z"
    }
   },
   "cell_type": "code",
   "source": "plt.bar(frequency.index, frequency.values, width=0.5)",
   "id": "8a7c98b54c7d488f",
   "outputs": [
    {
     "data": {
      "text/plain": [
       "<BarContainer object of 7 artists>"
      ]
     },
     "execution_count": 226,
     "metadata": {},
     "output_type": "execute_result"
    },
    {
     "data": {
      "text/plain": [
       "<Figure size 640x480 with 1 Axes>"
      ],
      "image/png": "[encoded data removed]"
     },
     "metadata": {},
     "output_type": "display_data"
    }
   ],
   "execution_count": 226
  },
  {
   "metadata": {
    "ExecuteTime": {
     "end_time": "2024-12-28T18:45:59.713102Z",
     "start_time": "2024-12-28T18:45:59.707391Z"
    }
   },
   "cell_type": "code",
   "source": [
    "mean = np.mean(num_people)\n",
    "median = np.median(num_people)\n",
    "skewness = pd.DataFrame(num_people).skew()\n",
    "mode = stats.mode(num_people)\n",
    "skewness"
   ],
   "id": "92f7441543a577fe",
   "outputs": [
    {
     "data": {
      "text/plain": [
       "0    0.796943\n",
       "dtype: float64"
      ]
     },
     "execution_count": 239,
     "metadata": {},
     "output_type": "execute_result"
    }
   ],
   "execution_count": 239
  },
  {
   "metadata": {
    "ExecuteTime": {
     "end_time": "2024-12-28T18:41:42.669678Z",
     "start_time": "2024-12-28T18:41:42.597867Z"
    }
   },
   "cell_type": "code",
   "source": [
    "plt.bar(frequency.index, frequency.values, width=0.5)\n",
    "plt.axvline(x=mean, color='blue', linestyle='--', linewidth=2.5, label=f'Mean: {mean:.2f}')\n",
    "plt.axvline(x=median, color='yellow', linestyle='--', linewidth=2.5, label=f'Median: {median:.2f}')\n",
    "plt.legend()\n",
    "plt.show()"
   ],
   "id": "c7e13ba36f8b7095",
   "outputs": [
    {
     "data": {
      "text/plain": [
       "<Figure size 640x480 with 1 Axes>"
      ],
      "image/png": "[encoded data removed]"
     },
     "metadata": {},
     "output_type": "display_data"
    }
   ],
   "execution_count": 236
  },
  {
   "metadata": {
    "ExecuteTime": {
     "end_time": "2024-12-28T18:41:53.159384Z",
     "start_time": "2024-12-28T18:41:53.154934Z"
    }
   },
   "cell_type": "code",
   "source": [
    "def skewness_type(mean, median):\n",
    "    if mean > median:\n",
    "        print(\"Positively skewed: Mean > Median\")\n",
    "    elif mean < median:\n",
    "        print(\"Negatively skewed: Mean < Median\")\n",
    "    else:\n",
    "        print(\"No skew: Mean = Median\")\n",
    "skewness_type(mean, median)\n",
    "print(\"Mean: \", mean)\n",
    "print(\"Median: \" , median)\n",
    "print(\"Skewness: \", skewness)"
   ],
   "id": "a8569e56660e80c4",
   "outputs": [
    {
     "name": "stdout",
     "output_type": "stream",
     "text": [
      "Positively skewed: Mean > Median\n",
      "Mean:  3.0\n",
      "Median:  2.5\n",
      "Skewness:  0    0.796943\n",
      "dtype: float64\n"
     ]
    }
   ],
   "execution_count": 238
  }
 ],
 "metadata": {
  "kernelspec": {
   "display_name": "Python 3",
   "language": "python",
   "name": "python3"
  },
  "language_info": {
   "codemirror_mode": {
    "name": "ipython",
    "version": 2
   },
   "file_extension": ".py",
   "mimetype": "text/x-python",
   "name": "python",
   "nbconvert_exporter": "python",
   "pygments_lexer": "ipython2",
   "version": "2.7.6"
  }
 },
 "nbformat": 4,
 "nbformat_minor": 5
}
