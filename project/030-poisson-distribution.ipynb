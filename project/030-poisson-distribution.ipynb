{
 "cells": [
  {
   "metadata": {},
   "cell_type": "markdown",
   "source": "# Poisson distribution",
   "id": "4bd238341de2c8b4"
  },
  {
   "metadata": {},
   "cell_type": "markdown",
   "source": [
    "The Poisson distribution is popular for modelling the number of times an event occurs in an interval of time or space. It is a *discrete* probability distribution that expresses the probability of a given number of events occurring in a fixed interval of time and/or space if these events occur with a known average rate and independently of the time since the last event.\n",
    "\n",
    "In short, it is"
   ],
   "id": "145fc121d96012a1"
  },
  {
   "metadata": {},
   "cell_type": "markdown",
   "source": "### Characteristics",
   "id": "2c57c3bddcd4cab7"
  },
  {
   "metadata": {},
   "cell_type": "markdown",
   "source": [
    "- You are counting the number of times a particular event occurs in a unit.\n",
    "- The probability that an event occurs in a particular unit is the same for all other units.\n",
    "- The number of events that occur in a unit is independent of the number of events that occur in other units.\n",
    "- As the unit gets smaller, the probability that two or more events will occur in that unit approaches zero."
   ],
   "id": "73a9d42a310a86da"
  },
  {
   "metadata": {},
   "cell_type": "markdown",
   "source": [
    "\n",
    "A random variable is said to have a Poisson distribution, which is denoted as:\n",
    "$$X \\sim Poisson(\\lambda)$$\n",
    "where $\\lambda$ is the average number of events in a unit.\n",
    "\n",
    "The probability mass function (PMF) of a Poisson distribution is:\n",
    "\n",
    "$$p(x;\\lambda) = \\frac{e^{-\\lambda} \\lambda^x}{x!}$$\n",
    "\n",
    "Where $x$ is the number of events that occur in a unit, and $x$ can take values $0, 1, 2, 3, \\ldots$."
   ],
   "id": "b640eadde422d4c"
  },
  {
   "metadata": {},
   "cell_type": "markdown",
   "source": [
    "- Number of cars that drive by in a minute;\n",
    "- Number of emails received in an hour;\n",
    "- Number of guests at a party in an evening;\n",
    "- Number of new users on a website in a month"
   ],
   "id": "68d3f52df3bcef44"
  },
  {
   "metadata": {},
   "cell_type": "markdown",
   "source": "",
   "id": "fb029b47e0d23fe1"
  },
  {
   "metadata": {},
   "cell_type": "markdown",
   "source": [
    "First argument to NumPy `poisson()` method is $\\lambda$, which must be greater than zero and guides peak of probability distribution.\n",
    "\n",
    "E.g., sampling from Poisson with $\\lambda = 5$ will tend to draw samples near 5."
   ],
   "id": "d6e9c19aba4eee75"
  },
  {
   "metadata": {
    "ExecuteTime": {
     "end_time": "2025-01-12T16:04:48.550038Z",
     "start_time": "2025-01-12T16:04:48.547452Z"
    }
   },
   "cell_type": "code",
   "source": [
    "import numpy as np\n",
    "import matplotlib.pyplot as plt"
   ],
   "id": "66ca37d1335104df",
   "outputs": [],
   "execution_count": 1
  },
  {
   "metadata": {
    "ExecuteTime": {
     "end_time": "2025-01-12T16:11:00.154420Z",
     "start_time": "2025-01-12T16:11:00.149077Z"
    }
   },
   "cell_type": "code",
   "source": [
    "rng = np.random.default_rng()\n",
    "lam = 5\n",
    "n = 1000\n",
    "samples = rng.poisson(lam, n)\n",
    "samples"
   ],
   "id": "94d5b387e86dea80",
   "outputs": [
    {
     "data": {
      "text/plain": [
       "array([ 5, 11,  4,  6,  7,  3,  9, 13,  6,  7,  7,  4,  5,  6,  5,  6,  3,\n",
       "        6,  4,  9,  5,  5,  6,  3,  8,  5,  5,  2,  2,  6,  6,  8,  2,  2,\n",
       "        6,  4,  2,  7,  6,  5,  6,  2,  5,  3, 10,  5, 12,  7,  9,  7,  6,\n",
       "        5,  6,  2,  3,  0,  8,  2,  4,  4,  1,  4, 11,  5,  7,  5, 12,  2,\n",
       "        8,  3,  2,  3,  6,  1,  6,  3,  6,  3,  5,  5,  5,  5,  8,  1,  8,\n",
       "        2,  5,  7,  3,  6,  4,  5,  4,  6,  3,  4,  5,  1,  5,  6,  8,  6,\n",
       "        5,  4,  4,  7,  3,  4,  7,  6,  7,  7, 11,  4,  4,  6,  5,  3,  5,\n",
       "        6,  6,  4, 10,  6,  4,  8,  6,  3,  6,  4,  5,  5,  3,  3,  5,  5,\n",
       "       12,  9,  9,  5,  3,  5,  4,  4,  3,  5,  4,  6,  5,  7,  1,  4,  2,\n",
       "        5,  4,  6,  5,  2,  2,  5,  5,  3,  7,  7,  3,  3,  2,  4,  3,  5,\n",
       "        5,  3,  2,  8,  2,  7,  1,  2,  5,  6,  6,  6,  8,  7,  6,  5,  3,\n",
       "        1,  4,  7,  2,  3,  1,  2,  5,  4,  9,  5,  2,  6,  6,  6,  2,  3,\n",
       "        8,  7,  8,  4,  6,  7,  5,  4,  5,  6,  2,  6,  7,  1,  7,  2,  2,\n",
       "        7,  5,  6,  6,  5,  2,  4,  8, 11,  4,  6,  7,  5,  4,  4,  5,  5,\n",
       "        5, 11,  8,  6,  5,  3,  4,  3,  5,  4,  4,  3,  4,  7,  7,  7,  2,\n",
       "        6,  3,  4,  8,  9,  6,  6,  4,  8,  3,  6,  3,  2,  3,  4,  9,  4,\n",
       "        3,  2,  2,  4,  5, 11,  8,  7,  9, 11,  1,  5,  4,  9,  5,  4,  5,\n",
       "        7,  1,  2,  8, 10,  3,  6,  5,  4,  8,  7,  9,  6,  4,  4, 10,  2,\n",
       "        2,  6,  5,  6,  5,  2,  4,  1,  7,  2,  5,  4,  1,  8,  4,  3,  5,\n",
       "        4,  2,  7,  1,  4,  3,  4,  6,  8,  0,  5,  3,  6,  4,  4,  4,  4,\n",
       "        3,  2,  6,  4,  4,  7,  6,  4,  5,  5,  5,  8,  5,  6,  4,  1,  9,\n",
       "        7,  6,  5,  5,  6,  3,  3,  7,  4,  5,  5,  2,  5,  8,  4,  3,  5,\n",
       "        9,  5, 10,  5,  3,  5,  8,  4,  3,  4, 10, 11,  3,  4,  3,  1,  3,\n",
       "        4,  4,  3,  3,  5,  5,  1,  6,  8,  6,  7, 11,  2,  2,  4,  5,  1,\n",
       "        8,  5,  5,  3,  3,  1,  7,  5,  7,  4,  4,  5,  4,  4,  2,  9,  5,\n",
       "        7,  6,  5,  6,  3,  3,  6,  4,  7,  6,  4,  1,  7,  7, 11,  4,  1,\n",
       "        6,  4,  2,  4,  3,  5,  5,  4,  4,  8,  4,  3,  6, 10,  2,  3,  2,\n",
       "        8,  8,  4,  3,  3,  4,  6,  8,  6,  5,  7,  7,  3,  4,  5,  7,  5,\n",
       "        6,  6,  9,  4,  7,  2,  4,  4,  5,  6,  3,  7,  4,  8,  3,  2,  3,\n",
       "        2,  4,  2,  6,  3,  5,  3,  2,  6,  4,  3,  2,  6,  6,  6,  6,  7,\n",
       "        6,  4, 12,  2,  2,  8,  5,  5,  9,  4,  7,  7,  3,  8,  4,  2,  7,\n",
       "        7,  0,  6,  2,  3,  3,  6,  1,  5,  5,  4,  3,  3,  3,  4,  6, 10,\n",
       "        5,  6,  4,  3,  4,  5,  8,  1,  6,  5,  1,  3,  1, 11,  4,  3,  7,\n",
       "        7,  5,  3,  4,  9,  2,  9,  3,  4,  4,  6,  2,  5,  2,  5,  6,  7,\n",
       "        7,  4,  2, 12,  4,  3,  3,  7,  2,  2,  9, 13,  5,  3,  1,  1,  6,\n",
       "        5,  8,  7,  3,  1,  5,  4,  4,  3,  5,  6,  4,  7,  6,  3,  6, 11,\n",
       "        2,  3,  6,  4,  8,  7, 10,  1,  4,  2,  4,  4,  4,  9,  4,  7,  4,\n",
       "        5,  7,  3,  6,  5,  6,  3,  9,  4,  6, 10,  4,  4,  4,  5,  6,  4,\n",
       "        3,  6,  3,  9,  5,  5,  6,  6,  7,  4,  8,  7,  4,  7,  6,  8,  4,\n",
       "        5,  8,  6, 10,  4,  3,  5,  2,  3,  1,  1,  9,  7,  4,  9,  3,  8,\n",
       "        4,  3,  5,  3,  4,  5,  4,  8,  6,  2,  7,  7,  6,  6,  5,  6,  6,\n",
       "        6,  5,  4,  7,  5,  7,  3,  6,  5,  5,  5,  7,  4, 13,  5,  6,  3,\n",
       "        5,  3,  4,  3,  6,  3,  5,  6,  4,  2,  3,  4,  4, 10,  3,  5,  4,\n",
       "        7,  6,  7,  7,  4,  4,  3,  7,  9,  7,  8,  4,  5,  4,  4,  9,  4,\n",
       "       10,  5, 10,  4,  9,  3,  4,  4,  4,  3,  3,  6,  3,  7,  7,  6,  7,\n",
       "        5,  5,  8,  4,  8,  6,  3,  5,  4,  1,  5,  9,  2,  5,  5,  2,  3,\n",
       "        7,  7,  4,  7,  3,  3,  7,  4,  9,  6,  4,  7,  2,  7,  3,  4,  8,\n",
       "        2,  5,  4,  6, 10,  7,  2, 13,  5,  1,  4,  5,  2,  3,  8,  7,  2,\n",
       "        2,  4,  7,  8,  3,  4,  6,  6,  4,  4,  6,  2,  5,  7,  5,  5,  3,\n",
       "        7,  5,  5,  5,  9,  2,  6,  5,  5,  5,  5,  4,  7,  9,  7,  5,  6,\n",
       "       11,  5, 10,  3,  7,  4, 10,  6,  5,  5,  8,  5,  2,  5,  4,  4,  1,\n",
       "        8,  3,  5,  7,  3,  7,  8,  2,  4,  5,  2,  2,  6,  5,  6,  1,  4,\n",
       "        1,  2,  9,  2,  4,  2,  2,  6,  6,  2,  9,  5,  3,  1,  3,  8,  6,\n",
       "        4, 11,  6, 11,  4,  5,  5,  9,  3,  4,  6,  6,  4,  5,  3,  5,  2,\n",
       "        4,  4,  7,  4,  8,  5,  5,  2,  8,  7,  7,  7,  3,  1,  6,  4, 10,\n",
       "        4,  5,  4,  5,  6,  8,  3,  8,  6,  3, 10,  4,  2,  3,  6,  8,  6,\n",
       "        6,  6,  3,  2,  2,  5,  6,  3,  5,  3,  8,  2,  9,  9,  5,  3,  4,\n",
       "        6,  6,  8,  6,  5,  2,  9,  6,  6,  8,  7,  2,  8,  3,  3,  5,  6,\n",
       "        6,  3,  4, 10,  5,  7,  6, 11,  5,  3,  4,  5,  7, 10])"
      ]
     },
     "execution_count": 15,
     "metadata": {},
     "output_type": "execute_result"
    }
   ],
   "execution_count": 15
  },
  {
   "metadata": {
    "ExecuteTime": {
     "end_time": "2025-01-12T16:11:00.972328Z",
     "start_time": "2025-01-12T16:11:00.968553Z"
    }
   },
   "cell_type": "code",
   "source": "samples[:20]",
   "id": "8035e75792f05e3f",
   "outputs": [
    {
     "data": {
      "text/plain": [
       "array([ 5, 11,  4,  6,  7,  3,  9, 13,  6,  7,  7,  4,  5,  6,  5,  6,  3,\n",
       "        6,  4,  9])"
      ]
     },
     "execution_count": 16,
     "metadata": {},
     "output_type": "execute_result"
    }
   ],
   "execution_count": 16
  },
  {
   "metadata": {
    "ExecuteTime": {
     "end_time": "2025-01-12T16:11:15.514690Z",
     "start_time": "2025-01-12T16:11:15.511648Z"
    }
   },
   "cell_type": "code",
   "source": "x, x_count = np.unique(samples, return_counts=True)",
   "id": "c90e4ac0dc4f98d4",
   "outputs": [],
   "execution_count": 17
  },
  {
   "metadata": {
    "ExecuteTime": {
     "end_time": "2025-01-12T16:11:15.927198Z",
     "start_time": "2025-01-12T16:11:15.923681Z"
    }
   },
   "cell_type": "code",
   "source": "x",
   "id": "d2fb2051702fe126",
   "outputs": [
    {
     "data": {
      "text/plain": [
       "array([ 0,  1,  2,  3,  4,  5,  6,  7,  8,  9, 10, 11, 12, 13])"
      ]
     },
     "execution_count": 18,
     "metadata": {},
     "output_type": "execute_result"
    }
   ],
   "execution_count": 18
  },
  {
   "metadata": {
    "ExecuteTime": {
     "end_time": "2025-01-12T16:11:16.761344Z",
     "start_time": "2025-01-12T16:11:16.758050Z"
    }
   },
   "cell_type": "code",
   "source": "x_count",
   "id": "2a38fe75b2e7a092",
   "outputs": [
    {
     "data": {
      "text/plain": [
       "array([  3,  38,  92, 131, 175, 171, 145, 102,  60,  37,  21,  16,   5,\n",
       "         4])"
      ]
     },
     "execution_count": 19,
     "metadata": {},
     "output_type": "execute_result"
    }
   ],
   "execution_count": 19
  },
  {
   "metadata": {
    "ExecuteTime": {
     "end_time": "2025-01-12T16:08:10.635Z",
     "start_time": "2025-01-12T16:08:10.632515Z"
    }
   },
   "cell_type": "code",
   "source": "Px = x_count/n",
   "id": "d1b6d271356bd2b",
   "outputs": [],
   "execution_count": 11
  },
  {
   "metadata": {
    "ExecuteTime": {
     "end_time": "2025-01-12T16:08:40.018240Z",
     "start_time": "2025-01-12T16:08:39.904161Z"
    }
   },
   "cell_type": "code",
   "source": [
    "plt.bar(x, Px)\n",
    "plt.title('PMF of Poisson with lambda = {}'.format(lam))\n",
    "plt.xlabel('x')\n",
    "_ = plt.ylabel('P(x)')"
   ],
   "id": "cb486db59770554e",
   "outputs": [
    {
     "data": {
      "text/plain": [
       "<Figure size 640x480 with 1 Axes>"
      ],
      "image/png": "[encoded data removed]"
     },
     "metadata": {},
     "output_type": "display_data"
    }
   ],
   "execution_count": 13
  }
 ],
 "metadata": {
  "kernelspec": {
   "display_name": "Python 3",
   "language": "python",
   "name": "python3"
  },
  "language_info": {
   "codemirror_mode": {
    "name": "ipython",
    "version": 2
   },
   "file_extension": ".py",
   "mimetype": "text/x-python",
   "name": "python",
   "nbconvert_exporter": "python",
   "pygments_lexer": "ipython2",
   "version": "2.7.6"
  }
 },
 "nbformat": 4,
 "nbformat_minor": 5
}
