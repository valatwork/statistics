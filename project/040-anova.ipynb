{
 "cells": [
  {
   "metadata": {},
   "cell_type": "markdown",
   "source": "# Analysis of Variance (ANOVA)",
   "id": "76eabd3aad22639f"
  },
  {
   "metadata": {},
   "cell_type": "markdown",
   "source": [
    "Analysis of variance is, despite the name, used to compare means of two or more samples.\n",
    "\n",
    "It is one of the most commonly used statistical methods in data analysis.\n",
    "\n",
    "The null hypothesis is there is no difference in means, and the alternative hypothesis is the means are not all equal.\n",
    "\n",
    "To apply ANOVA, we must make three assumptions:\n",
    "\n",
    "1. Independent samples\n",
    "2. Normally-distributed populations\n",
    "3. Homoscedasticity: the populations standard deviations are equal"
   ],
   "id": "76118a1b597baaf2"
  },
  {
   "metadata": {},
   "cell_type": "markdown",
   "source": "#### Examples (ANOVA)",
   "id": "1789ba180b5ff273"
  },
  {
   "metadata": {
    "ExecuteTime": {
     "end_time": "2025-01-16T10:51:28.369170Z",
     "start_time": "2025-01-16T10:51:28.366275Z"
    }
   },
   "cell_type": "code",
   "source": [
    "import seaborn as sns\n",
    "import scipy.stats as st"
   ],
   "id": "a1eeb7a890555154",
   "outputs": [],
   "execution_count": 12
  },
  {
   "metadata": {},
   "cell_type": "markdown",
   "source": "##### Example 1 (ANOVA)",
   "id": "5d8d142d05785113"
  },
  {
   "metadata": {
    "ExecuteTime": {
     "end_time": "2025-01-16T10:52:47.457569Z",
     "start_time": "2025-01-16T10:52:47.449092Z"
    }
   },
   "cell_type": "code",
   "source": [
    "def cierr_calc(z, s, n):\n",
    "    return z*(s/n**(1/2))\n",
    "\n",
    "penguins = sns.load_dataset('penguins').dropna()\n",
    "adelie = penguins[penguins.species == 'Adelie']\n",
    "t = adelie[(adelie.sex == 'Female') & (adelie.island == 'Torgersen')]['body_mass_g'].to_numpy()/1000\n",
    "b = adelie[(adelie.sex == 'Female') & (adelie.island == 'Biscoe')]['body_mass_g'].to_numpy()/1000\n",
    "d = adelie[(adelie.sex == 'Female') & (adelie.island == 'Dream')]['body_mass_g'].to_numpy()/1000"
   ],
   "id": "bd4370c6de1de19d",
   "outputs": [],
   "execution_count": 14
  },
  {
   "metadata": {
    "ExecuteTime": {
     "end_time": "2025-01-16T10:52:48.042582Z",
     "start_time": "2025-01-16T10:52:48.038080Z"
    }
   },
   "cell_type": "code",
   "source": "st.f_oneway(t, b, d)",
   "id": "c52e68ebd8db8618",
   "outputs": [
    {
     "data": {
      "text/plain": [
       "F_onewayResult(statistic=np.float64(0.22627752438542714), pvalue=np.float64(0.7980777848719287))"
      ]
     },
     "execution_count": 15,
     "metadata": {},
     "output_type": "execute_result"
    }
   ],
   "execution_count": 15
  }
 ],
 "metadata": {
  "kernelspec": {
   "display_name": "Python 3",
   "language": "python",
   "name": "python3"
  },
  "language_info": {
   "codemirror_mode": {
    "name": "ipython",
    "version": 2
   },
   "file_extension": ".py",
   "mimetype": "text/x-python",
   "name": "python",
   "nbconvert_exporter": "python",
   "pygments_lexer": "ipython2",
   "version": "2.7.6"
  }
 },
 "nbformat": 4,
 "nbformat_minor": 5
}
