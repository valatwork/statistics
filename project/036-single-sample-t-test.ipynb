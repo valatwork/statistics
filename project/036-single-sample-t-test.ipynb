{
 "cells": [
  {
   "metadata": {},
   "cell_type": "markdown",
   "source": "# t-tests",
   "id": "a2cd6e3a2074ec45"
  },
  {
   "metadata": {},
   "cell_type": "markdown",
   "source": [
    " In the real world, it is not easy (or virtually impossible) to obtain the population standard deviation.\n",
    "\n",
    "The t-test is used when the population standard deviations are unknown."
   ],
   "id": "fe9b947cbdb42b10"
  },
  {
   "metadata": {},
   "cell_type": "markdown",
   "source": "## Single Sample t-test",
   "id": "2056ce014bc402"
  },
  {
   "metadata": {},
   "cell_type": "markdown",
   "source": [
    "$$t = \\frac{\\bar{x} - \\mu_0}{s_{\\bar{x}}}$$\n",
    "\n",
    "\n",
    "Where:\n",
    "\n",
    "- $\\bar{x}$ is the sample mean\n",
    "- $\\mu_0$ is a reference mean (for instance the known population mean or the null hypothesis mean)\n",
    "- $s_{\\bar{x}}$ is the sample standard error"
   ],
   "id": "e7696ae6fc9ce8cc"
  },
  {
   "metadata": {},
   "cell_type": "markdown",
   "source": "#### Examples (single sample t-test)",
   "id": "55a1167c35ba99ce"
  },
  {
   "metadata": {
    "ExecuteTime": {
     "end_time": "2025-01-16T15:12:28.826880Z",
     "start_time": "2025-01-16T15:12:28.824063Z"
    }
   },
   "cell_type": "code",
   "source": [
    "import numpy as np\n",
    "import scipy.stats as st"
   ],
   "id": "2436e8b4168c67ff",
   "outputs": [],
   "execution_count": 2
  },
  {
   "metadata": {},
   "cell_type": "markdown",
   "source": "#### Example 1 (single sample t-test)",
   "id": "2f72a5196641f494"
  },
  {
   "metadata": {},
   "cell_type": "markdown",
   "source": "Let's say you're the head brewer at Guinness. Your baseline brewing process yields 50L of stout. Using a new genetically-modified yeast, you obtain the following yields (all in liters) in four separate experiments:",
   "id": "258a7b9f6bb5aff9"
  },
  {
   "metadata": {
    "ExecuteTime": {
     "end_time": "2025-01-16T15:12:31.005767Z",
     "start_time": "2025-01-16T15:12:30.998837Z"
    }
   },
   "cell_type": "code",
   "source": [
    "x = [48, 50, 54, 60]\n",
    "# sample mean\n",
    "xbar = np.mean(x)\n",
    "# reference mean - 50L\n",
    "mu0 = 50\n",
    "# sample standard error\n",
    "sx = st.sem(x)\n",
    "# t-value\n",
    "t = (xbar - mu0) / sx\n",
    "# p-value from t value using CDF, multiplied by 2 for two-tailed test\n",
    "2 * st.t.cdf(-abs(t), len(x)-1)"
   ],
   "id": "40517d332b148fa0",
   "outputs": [
    {
     "data": {
      "text/plain": [
       "np.float64(0.3392540508564543)"
      ]
     },
     "execution_count": 3,
     "metadata": {},
     "output_type": "execute_result"
    }
   ],
   "execution_count": 3
  },
  {
   "metadata": {},
   "cell_type": "markdown",
   "source": "As the p-value is greater than 0.05, we fail to reject the null hypothesis (there is no statistically significant evidence that the new yeast has an effect on the yield).",
   "id": "37dee2ea3a168f6e"
  },
  {
   "metadata": {},
   "cell_type": "markdown",
   "source": [
    "There is a SciPy method that can be used to perform a t-test:\n",
    "\n",
    "`scipy.stats.ttest_1samp()`"
   ],
   "id": "6d3d692665ad9fe"
  },
  {
   "metadata": {
    "ExecuteTime": {
     "end_time": "2025-01-15T10:22:13.596380Z",
     "start_time": "2025-01-15T10:22:13.590868Z"
    }
   },
   "cell_type": "code",
   "source": "st.ttest_1samp(x, mu0)",
   "id": "edd98496a07f6b2a",
   "outputs": [
    {
     "data": {
      "text/plain": [
       "TtestResult(statistic=np.float64(1.1338934190276817), pvalue=np.float64(0.3392540508564543), df=np.int64(3))"
      ]
     },
     "execution_count": 28,
     "metadata": {},
     "output_type": "execute_result"
    }
   ],
   "execution_count": 28
  }
 ],
 "metadata": {
  "kernelspec": {
   "display_name": "Python 3",
   "language": "python",
   "name": "python3"
  },
  "language_info": {
   "codemirror_mode": {
    "name": "ipython",
    "version": 2
   },
   "file_extension": ".py",
   "mimetype": "text/x-python",
   "name": "python",
   "nbconvert_exporter": "python",
   "pygments_lexer": "ipython2",
   "version": "2.7.6"
  }
 },
 "nbformat": 4,
 "nbformat_minor": 5
}
