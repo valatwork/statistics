{
 "cells": [
  {
   "metadata": {},
   "cell_type": "markdown",
   "source": "## Paired t-tests",
   "id": "d5b63cb3f220c2de"
  },
  {
   "metadata": {},
   "cell_type": "markdown",
   "source": [
    "We have a number of pairs of data values. The two data values in a pair belong to two different groups. We are interested in whether there is a difference between the two groups.\n",
    "\n",
    "The most common application of this technique is in statistical analysis of data from planned experiments.\n",
    "\n",
    "The situation could be the following: we have n individuals, each of whom has been subjected to two “treatments”. We want to examine whether there is a difference between the two treatments and possibly find the average difference.\n",
    "\n",
    "This situation is referred to as *matched pairs*.\n",
    "\n",
    "The hypothesis is that the mean difference between the two groups is 0.\n",
    "\n",
    "$$t = \\frac{\\bar{d} - \\mu_0}{s_d}$$\n",
    "\n",
    "Where:\n",
    "- $d$ is a vector of the differences between paired sample $x$ and $y$\n",
    "- $\\bar{d}$ is the mean of the differences\n",
    "- $\\mu_0$ will typically be zero, meaning the null hypothesis is that there is no difference between\n",
    " $x$ and $y$\n",
    " - $s_d$ is the standard deviation of the differences\n",
    "\n",
    "If all differences are 0, we get $t = 0$. Values of t close to $0$ are “good” for our hypothesis.\n",
    "Values of $t$ far from 0 are “bad” for the hypothesis. If $t$ is far from $0$, we therefore reject the hypothesis. This corresponds to an average difference far from $0$."
   ],
   "id": "a746314d920916c8"
  },
  {
   "metadata": {},
   "cell_type": "markdown",
   "source": "### Examples (Paired t-tests)",
   "id": "be8661f18a01393f"
  },
  {
   "metadata": {
    "ExecuteTime": {
     "end_time": "2025-01-15T18:48:09.424497Z",
     "start_time": "2025-01-15T18:48:09.421712Z"
    }
   },
   "cell_type": "code",
   "source": [
    "import numpy as np\n",
    "import scipy.stats as st\n",
    "import seaborn as sns\n",
    "import matplotlib.pyplot as plt"
   ],
   "id": "7900cc8ced16d7ca",
   "outputs": [],
   "execution_count": 15
  },
  {
   "metadata": {
    "ExecuteTime": {
     "end_time": "2025-01-15T18:40:38.897915Z",
     "start_time": "2025-01-15T18:40:38.884865Z"
    }
   },
   "cell_type": "code",
   "source": [
    "exercise = sns.load_dataset('exercise')\n",
    "exercise"
   ],
   "id": "debd8a4a6ffb008b",
   "outputs": [
    {
     "data": {
      "text/plain": [
       "    Unnamed: 0  id     diet  pulse    time     kind\n",
       "0            0   1  low fat     85   1 min     rest\n",
       "1            1   1  low fat     85  15 min     rest\n",
       "2            2   1  low fat     88  30 min     rest\n",
       "3            3   2  low fat     90   1 min     rest\n",
       "4            4   2  low fat     92  15 min     rest\n",
       "..         ...  ..      ...    ...     ...      ...\n",
       "85          85  29   no fat    135  15 min  running\n",
       "86          86  29   no fat    130  30 min  running\n",
       "87          87  30   no fat     99   1 min  running\n",
       "88          88  30   no fat    111  15 min  running\n",
       "89          89  30   no fat    150  30 min  running\n",
       "\n",
       "[90 rows x 6 columns]"
      ],
      "text/html": [
       "<div>\n",
       "<style scoped>\n",
       "    .dataframe tbody tr th:only-of-type {\n",
       "        vertical-align: middle;\n",
       "    }\n",
       "\n",
       "    .dataframe tbody tr th {\n",
       "        vertical-align: top;\n",
       "    }\n",
       "\n",
       "    .dataframe thead th {\n",
       "        text-align: right;\n",
       "    }\n",
       "</style>\n",
       "<table border=\"1\" class=\"dataframe\">\n",
       "  <thead>\n",
       "    <tr style=\"text-align: right;\">\n",
       "      <th></th>\n",
       "      <th>Unnamed: 0</th>\n",
       "      <th>id</th>\n",
       "      <th>diet</th>\n",
       "      <th>pulse</th>\n",
       "      <th>time</th>\n",
       "      <th>kind</th>\n",
       "    </tr>\n",
       "  </thead>\n",
       "  <tbody>\n",
       "    <tr>\n",
       "      <th>0</th>\n",
       "      <td>0</td>\n",
       "      <td>1</td>\n",
       "      <td>low fat</td>\n",
       "      <td>85</td>\n",
       "      <td>1 min</td>\n",
       "      <td>rest</td>\n",
       "    </tr>\n",
       "    <tr>\n",
       "      <th>1</th>\n",
       "      <td>1</td>\n",
       "      <td>1</td>\n",
       "      <td>low fat</td>\n",
       "      <td>85</td>\n",
       "      <td>15 min</td>\n",
       "      <td>rest</td>\n",
       "    </tr>\n",
       "    <tr>\n",
       "      <th>2</th>\n",
       "      <td>2</td>\n",
       "      <td>1</td>\n",
       "      <td>low fat</td>\n",
       "      <td>88</td>\n",
       "      <td>30 min</td>\n",
       "      <td>rest</td>\n",
       "    </tr>\n",
       "    <tr>\n",
       "      <th>3</th>\n",
       "      <td>3</td>\n",
       "      <td>2</td>\n",
       "      <td>low fat</td>\n",
       "      <td>90</td>\n",
       "      <td>1 min</td>\n",
       "      <td>rest</td>\n",
       "    </tr>\n",
       "    <tr>\n",
       "      <th>4</th>\n",
       "      <td>4</td>\n",
       "      <td>2</td>\n",
       "      <td>low fat</td>\n",
       "      <td>92</td>\n",
       "      <td>15 min</td>\n",
       "      <td>rest</td>\n",
       "    </tr>\n",
       "    <tr>\n",
       "      <th>...</th>\n",
       "      <td>...</td>\n",
       "      <td>...</td>\n",
       "      <td>...</td>\n",
       "      <td>...</td>\n",
       "      <td>...</td>\n",
       "      <td>...</td>\n",
       "    </tr>\n",
       "    <tr>\n",
       "      <th>85</th>\n",
       "      <td>85</td>\n",
       "      <td>29</td>\n",
       "      <td>no fat</td>\n",
       "      <td>135</td>\n",
       "      <td>15 min</td>\n",
       "      <td>running</td>\n",
       "    </tr>\n",
       "    <tr>\n",
       "      <th>86</th>\n",
       "      <td>86</td>\n",
       "      <td>29</td>\n",
       "      <td>no fat</td>\n",
       "      <td>130</td>\n",
       "      <td>30 min</td>\n",
       "      <td>running</td>\n",
       "    </tr>\n",
       "    <tr>\n",
       "      <th>87</th>\n",
       "      <td>87</td>\n",
       "      <td>30</td>\n",
       "      <td>no fat</td>\n",
       "      <td>99</td>\n",
       "      <td>1 min</td>\n",
       "      <td>running</td>\n",
       "    </tr>\n",
       "    <tr>\n",
       "      <th>88</th>\n",
       "      <td>88</td>\n",
       "      <td>30</td>\n",
       "      <td>no fat</td>\n",
       "      <td>111</td>\n",
       "      <td>15 min</td>\n",
       "      <td>running</td>\n",
       "    </tr>\n",
       "    <tr>\n",
       "      <th>89</th>\n",
       "      <td>89</td>\n",
       "      <td>30</td>\n",
       "      <td>no fat</td>\n",
       "      <td>150</td>\n",
       "      <td>30 min</td>\n",
       "      <td>running</td>\n",
       "    </tr>\n",
       "  </tbody>\n",
       "</table>\n",
       "<p>90 rows × 6 columns</p>\n",
       "</div>"
      ]
     },
     "execution_count": 3,
     "metadata": {},
     "output_type": "execute_result"
    }
   ],
   "execution_count": 3
  },
  {
   "metadata": {},
   "cell_type": "markdown",
   "source": "There are 30 people in the dataset, with their pulse taken at three different time points in an experiment (i.e, after one, 15, and 30 minutes). Ten people were assigned to each of three activity groups:",
   "id": "ec9bcae2448451f"
  },
  {
   "metadata": {
    "ExecuteTime": {
     "end_time": "2025-01-15T18:41:16.970165Z",
     "start_time": "2025-01-15T18:41:16.965870Z"
    }
   },
   "cell_type": "code",
   "source": "np.unique(exercise['kind'], return_counts=True)",
   "id": "c0fcc90f21b5fc26",
   "outputs": [
    {
     "data": {
      "text/plain": [
       "(array(['rest', 'running', 'walking'], dtype=object), array([30, 30, 30]))"
      ]
     },
     "execution_count": 4,
     "metadata": {},
     "output_type": "execute_result"
    }
   ],
   "execution_count": 4
  },
  {
   "metadata": {},
   "cell_type": "markdown",
   "source": "Within each of those activity groups, half of the participants are on a low-fat diet while the other half are on a no-fat diet:",
   "id": "166fb8e04fafa702"
  },
  {
   "metadata": {
    "ExecuteTime": {
     "end_time": "2025-01-15T18:41:36.166497Z",
     "start_time": "2025-01-15T18:41:36.162164Z"
    }
   },
   "cell_type": "code",
   "source": "np.unique(exercise['diet'], return_counts=True)",
   "id": "757fd98939e817c3",
   "outputs": [
    {
     "data": {
      "text/plain": [
       "(array(['low fat', 'no fat'], dtype=object), array([45, 45]))"
      ]
     },
     "execution_count": 5,
     "metadata": {},
     "output_type": "execute_result"
    }
   ],
   "execution_count": 5
  },
  {
   "metadata": {},
   "cell_type": "markdown",
   "source": "Let's only consider one of the six experimental groups, say the walking, no-fat dieters:",
   "id": "27c8c09432550bf7"
  },
  {
   "metadata": {
    "ExecuteTime": {
     "end_time": "2025-01-15T18:42:00.693617Z",
     "start_time": "2025-01-15T18:42:00.685273Z"
    }
   },
   "cell_type": "code",
   "source": [
    "walk_no = exercise[(exercise.diet == 'no fat') & (exercise.kind == 'walking')]\n",
    "walk_no"
   ],
   "id": "6720773ab50fe23c",
   "outputs": [
    {
     "data": {
      "text/plain": [
       "    Unnamed: 0  id    diet  pulse    time     kind\n",
       "45          45  16  no fat     84   1 min  walking\n",
       "46          46  16  no fat     86  15 min  walking\n",
       "47          47  16  no fat     89  30 min  walking\n",
       "48          48  17  no fat    103   1 min  walking\n",
       "49          49  17  no fat    109  15 min  walking\n",
       "50          50  17  no fat     90  30 min  walking\n",
       "51          51  18  no fat     92   1 min  walking\n",
       "52          52  18  no fat     96  15 min  walking\n",
       "53          53  18  no fat    101  30 min  walking\n",
       "54          54  19  no fat     97   1 min  walking\n",
       "55          55  19  no fat     98  15 min  walking\n",
       "56          56  19  no fat    100  30 min  walking\n",
       "57          57  20  no fat    102   1 min  walking\n",
       "58          58  20  no fat    104  15 min  walking\n",
       "59          59  20  no fat    103  30 min  walking"
      ],
      "text/html": [
       "<div>\n",
       "<style scoped>\n",
       "    .dataframe tbody tr th:only-of-type {\n",
       "        vertical-align: middle;\n",
       "    }\n",
       "\n",
       "    .dataframe tbody tr th {\n",
       "        vertical-align: top;\n",
       "    }\n",
       "\n",
       "    .dataframe thead th {\n",
       "        text-align: right;\n",
       "    }\n",
       "</style>\n",
       "<table border=\"1\" class=\"dataframe\">\n",
       "  <thead>\n",
       "    <tr style=\"text-align: right;\">\n",
       "      <th></th>\n",
       "      <th>Unnamed: 0</th>\n",
       "      <th>id</th>\n",
       "      <th>diet</th>\n",
       "      <th>pulse</th>\n",
       "      <th>time</th>\n",
       "      <th>kind</th>\n",
       "    </tr>\n",
       "  </thead>\n",
       "  <tbody>\n",
       "    <tr>\n",
       "      <th>45</th>\n",
       "      <td>45</td>\n",
       "      <td>16</td>\n",
       "      <td>no fat</td>\n",
       "      <td>84</td>\n",
       "      <td>1 min</td>\n",
       "      <td>walking</td>\n",
       "    </tr>\n",
       "    <tr>\n",
       "      <th>46</th>\n",
       "      <td>46</td>\n",
       "      <td>16</td>\n",
       "      <td>no fat</td>\n",
       "      <td>86</td>\n",
       "      <td>15 min</td>\n",
       "      <td>walking</td>\n",
       "    </tr>\n",
       "    <tr>\n",
       "      <th>47</th>\n",
       "      <td>47</td>\n",
       "      <td>16</td>\n",
       "      <td>no fat</td>\n",
       "      <td>89</td>\n",
       "      <td>30 min</td>\n",
       "      <td>walking</td>\n",
       "    </tr>\n",
       "    <tr>\n",
       "      <th>48</th>\n",
       "      <td>48</td>\n",
       "      <td>17</td>\n",
       "      <td>no fat</td>\n",
       "      <td>103</td>\n",
       "      <td>1 min</td>\n",
       "      <td>walking</td>\n",
       "    </tr>\n",
       "    <tr>\n",
       "      <th>49</th>\n",
       "      <td>49</td>\n",
       "      <td>17</td>\n",
       "      <td>no fat</td>\n",
       "      <td>109</td>\n",
       "      <td>15 min</td>\n",
       "      <td>walking</td>\n",
       "    </tr>\n",
       "    <tr>\n",
       "      <th>50</th>\n",
       "      <td>50</td>\n",
       "      <td>17</td>\n",
       "      <td>no fat</td>\n",
       "      <td>90</td>\n",
       "      <td>30 min</td>\n",
       "      <td>walking</td>\n",
       "    </tr>\n",
       "    <tr>\n",
       "      <th>51</th>\n",
       "      <td>51</td>\n",
       "      <td>18</td>\n",
       "      <td>no fat</td>\n",
       "      <td>92</td>\n",
       "      <td>1 min</td>\n",
       "      <td>walking</td>\n",
       "    </tr>\n",
       "    <tr>\n",
       "      <th>52</th>\n",
       "      <td>52</td>\n",
       "      <td>18</td>\n",
       "      <td>no fat</td>\n",
       "      <td>96</td>\n",
       "      <td>15 min</td>\n",
       "      <td>walking</td>\n",
       "    </tr>\n",
       "    <tr>\n",
       "      <th>53</th>\n",
       "      <td>53</td>\n",
       "      <td>18</td>\n",
       "      <td>no fat</td>\n",
       "      <td>101</td>\n",
       "      <td>30 min</td>\n",
       "      <td>walking</td>\n",
       "    </tr>\n",
       "    <tr>\n",
       "      <th>54</th>\n",
       "      <td>54</td>\n",
       "      <td>19</td>\n",
       "      <td>no fat</td>\n",
       "      <td>97</td>\n",
       "      <td>1 min</td>\n",
       "      <td>walking</td>\n",
       "    </tr>\n",
       "    <tr>\n",
       "      <th>55</th>\n",
       "      <td>55</td>\n",
       "      <td>19</td>\n",
       "      <td>no fat</td>\n",
       "      <td>98</td>\n",
       "      <td>15 min</td>\n",
       "      <td>walking</td>\n",
       "    </tr>\n",
       "    <tr>\n",
       "      <th>56</th>\n",
       "      <td>56</td>\n",
       "      <td>19</td>\n",
       "      <td>no fat</td>\n",
       "      <td>100</td>\n",
       "      <td>30 min</td>\n",
       "      <td>walking</td>\n",
       "    </tr>\n",
       "    <tr>\n",
       "      <th>57</th>\n",
       "      <td>57</td>\n",
       "      <td>20</td>\n",
       "      <td>no fat</td>\n",
       "      <td>102</td>\n",
       "      <td>1 min</td>\n",
       "      <td>walking</td>\n",
       "    </tr>\n",
       "    <tr>\n",
       "      <th>58</th>\n",
       "      <td>58</td>\n",
       "      <td>20</td>\n",
       "      <td>no fat</td>\n",
       "      <td>104</td>\n",
       "      <td>15 min</td>\n",
       "      <td>walking</td>\n",
       "    </tr>\n",
       "    <tr>\n",
       "      <th>59</th>\n",
       "      <td>59</td>\n",
       "      <td>20</td>\n",
       "      <td>no fat</td>\n",
       "      <td>103</td>\n",
       "      <td>30 min</td>\n",
       "      <td>walking</td>\n",
       "    </tr>\n",
       "  </tbody>\n",
       "</table>\n",
       "</div>"
      ]
     },
     "execution_count": 6,
     "metadata": {},
     "output_type": "execute_result"
    }
   ],
   "execution_count": 6
  },
  {
   "metadata": {},
   "cell_type": "markdown",
   "source": "Note how participant 16 has a relatively low heart rate at all three timepoints, whereas participant 20 has a relatively high heart rate at all three timepoints.",
   "id": "29983e98a5a67eb"
  },
  {
   "metadata": {
    "ExecuteTime": {
     "end_time": "2025-01-15T18:42:31.892534Z",
     "start_time": "2025-01-15T18:42:31.750413Z"
    }
   },
   "cell_type": "code",
   "source": "_ = sns.boxplot(x='time', y='pulse', data=walk_no)",
   "id": "9d3b0022b08886c6",
   "outputs": [
    {
     "data": {
      "text/plain": [
       "<Figure size 640x480 with 1 Axes>"
      ],
      "image/png": "[encoded data removed]"
     },
     "metadata": {},
     "output_type": "display_data"
    }
   ],
   "execution_count": 7
  },
  {
   "metadata": {
    "ExecuteTime": {
     "end_time": "2025-01-15T18:47:00.279697Z",
     "start_time": "2025-01-15T18:47:00.274758Z"
    }
   },
   "cell_type": "code",
   "source": [
    "min1 = walk_no[walk_no.time == '1 min']['pulse'].to_numpy()\n",
    "min1"
   ],
   "id": "7f8b1d72def3eaab",
   "outputs": [
    {
     "data": {
      "text/plain": [
       "array([ 84, 103,  92,  97, 102])"
      ]
     },
     "execution_count": 8,
     "metadata": {},
     "output_type": "execute_result"
    }
   ],
   "execution_count": 8
  },
  {
   "metadata": {
    "ExecuteTime": {
     "end_time": "2025-01-15T18:47:06.259488Z",
     "start_time": "2025-01-15T18:47:06.255169Z"
    }
   },
   "cell_type": "code",
   "source": "min1.mean()",
   "id": "d68417983e3c5990",
   "outputs": [
    {
     "data": {
      "text/plain": [
       "np.float64(95.6)"
      ]
     },
     "execution_count": 9,
     "metadata": {},
     "output_type": "execute_result"
    }
   ],
   "execution_count": 9
  },
  {
   "metadata": {
    "ExecuteTime": {
     "end_time": "2025-01-15T18:47:12.085121Z",
     "start_time": "2025-01-15T18:47:12.080843Z"
    }
   },
   "cell_type": "code",
   "source": [
    "min15 = walk_no[walk_no.time == '15 min']['pulse'].to_numpy()\n",
    "min15"
   ],
   "id": "bf2610492f688a89",
   "outputs": [
    {
     "data": {
      "text/plain": [
       "array([ 86, 109,  96,  98, 104])"
      ]
     },
     "execution_count": 10,
     "metadata": {},
     "output_type": "execute_result"
    }
   ],
   "execution_count": 10
  },
  {
   "metadata": {
    "ExecuteTime": {
     "end_time": "2025-01-15T18:47:18.520016Z",
     "start_time": "2025-01-15T18:47:18.516129Z"
    }
   },
   "cell_type": "code",
   "source": "min15.mean()",
   "id": "5a4fed302b11af22",
   "outputs": [
    {
     "data": {
      "text/plain": [
       "np.float64(98.6)"
      ]
     },
     "execution_count": 11,
     "metadata": {},
     "output_type": "execute_result"
    }
   ],
   "execution_count": 11
  },
  {
   "metadata": {
    "ExecuteTime": {
     "end_time": "2025-01-15T18:47:29.246937Z",
     "start_time": "2025-01-15T18:47:29.243007Z"
    }
   },
   "cell_type": "code",
   "source": [
    "min30 = walk_no[walk_no.time == '30 min']['pulse'].to_numpy()\n",
    "min30"
   ],
   "id": "af16390f31a45c85",
   "outputs": [
    {
     "data": {
      "text/plain": [
       "array([ 89,  90, 101, 100, 103])"
      ]
     },
     "execution_count": 12,
     "metadata": {},
     "output_type": "execute_result"
    }
   ],
   "execution_count": 12
  },
  {
   "metadata": {
    "ExecuteTime": {
     "end_time": "2025-01-15T18:47:34.182491Z",
     "start_time": "2025-01-15T18:47:34.178673Z"
    }
   },
   "cell_type": "code",
   "source": "min30.mean()",
   "id": "aa28c46558148659",
   "outputs": [
    {
     "data": {
      "text/plain": [
       "np.float64(96.6)"
      ]
     },
     "execution_count": 13,
     "metadata": {},
     "output_type": "execute_result"
    }
   ],
   "execution_count": 13
  },
  {
   "metadata": {},
   "cell_type": "markdown",
   "source": "With paired samples, we can plot the values in a scatterplot, which wouldn't make any sense for independent samples",
   "id": "f9a8f2cb1e0891d9"
  },
  {
   "metadata": {
    "ExecuteTime": {
     "end_time": "2025-01-15T18:48:13.116797Z",
     "start_time": "2025-01-15T18:48:12.998184Z"
    }
   },
   "cell_type": "code",
   "source": [
    "sns.scatterplot(x=min1, y=min15)\n",
    "plt.title('Heart rate of no-fat dieters (beats per minute)')\n",
    "plt.xlabel('After 1 minute walking')\n",
    "_ = plt.ylabel('After 15 minutes walking')"
   ],
   "id": "d776bd2fc5cb5ba6",
   "outputs": [
    {
     "data": {
      "text/plain": [
       "<Figure size 640x480 with 1 Axes>"
      ],
      "image/png": "[encoded data removed]"
     },
     "metadata": {},
     "output_type": "display_data"
    }
   ],
   "execution_count": 16
  },
  {
   "metadata": {
    "ExecuteTime": {
     "end_time": "2025-01-15T18:50:26.950306Z",
     "start_time": "2025-01-15T18:50:26.946927Z"
    }
   },
   "cell_type": "code",
   "source": [
    "d = min15 - min1\n",
    "d"
   ],
   "id": "7b8cb67e7e9f30d5",
   "outputs": [
    {
     "data": {
      "text/plain": [
       "array([2, 6, 4, 1, 2])"
      ]
     },
     "execution_count": 17,
     "metadata": {},
     "output_type": "execute_result"
    }
   ],
   "execution_count": 17
  },
  {
   "metadata": {
    "ExecuteTime": {
     "end_time": "2025-01-15T18:50:32.855821Z",
     "start_time": "2025-01-15T18:50:32.852251Z"
    }
   },
   "cell_type": "code",
   "source": [
    "dbar = d.mean()\n",
    "dbar"
   ],
   "id": "bd3880305244713d",
   "outputs": [
    {
     "data": {
      "text/plain": [
       "np.float64(3.0)"
      ]
     },
     "execution_count": 18,
     "metadata": {},
     "output_type": "execute_result"
    }
   ],
   "execution_count": 18
  },
  {
   "metadata": {
    "ExecuteTime": {
     "end_time": "2025-01-15T18:50:38.082571Z",
     "start_time": "2025-01-15T18:50:38.078099Z"
    }
   },
   "cell_type": "code",
   "source": [
    "sd = st.sem(d)\n",
    "sd"
   ],
   "id": "8ecac24abf93036c",
   "outputs": [
    {
     "data": {
      "text/plain": [
       "np.float64(0.8944271909999159)"
      ]
     },
     "execution_count": 19,
     "metadata": {},
     "output_type": "execute_result"
    }
   ],
   "execution_count": 19
  },
  {
   "metadata": {
    "ExecuteTime": {
     "end_time": "2025-01-15T18:50:42.739045Z",
     "start_time": "2025-01-15T18:50:42.735362Z"
    }
   },
   "cell_type": "code",
   "source": [
    "t = (dbar-0)/sd\n",
    "t"
   ],
   "id": "36dc3868d68d2b77",
   "outputs": [
    {
     "data": {
      "text/plain": [
       "np.float64(3.3541019662496847)"
      ]
     },
     "execution_count": 20,
     "metadata": {},
     "output_type": "execute_result"
    }
   ],
   "execution_count": 20
  },
  {
   "metadata": {
    "ExecuteTime": {
     "end_time": "2025-01-15T19:00:40.033500Z",
     "start_time": "2025-01-15T19:00:40.029714Z"
    }
   },
   "cell_type": "code",
   "source": [
    "# p from t\n",
    "2 * st.t.cdf(-abs(t), len(d)-1)"
   ],
   "id": "ca39385b07da9365",
   "outputs": [
    {
     "data": {
      "text/plain": [
       "np.float64(0.02846020325433834)"
      ]
     },
     "execution_count": 37,
     "metadata": {},
     "output_type": "execute_result"
    }
   ],
   "execution_count": 37
  },
  {
   "metadata": {
    "ExecuteTime": {
     "end_time": "2025-01-15T18:54:26.536813Z",
     "start_time": "2025-01-15T18:54:26.531359Z"
    }
   },
   "cell_type": "code",
   "source": "st.ttest_rel(min15, min1)",
   "id": "93fe46b701a39528",
   "outputs": [
    {
     "data": {
      "text/plain": [
       "TtestResult(statistic=np.float64(3.3541019662496847), pvalue=np.float64(0.02846020325433834), df=np.int64(4))"
      ]
     },
     "execution_count": 26,
     "metadata": {},
     "output_type": "execute_result"
    }
   ],
   "execution_count": 26
  },
  {
   "metadata": {},
   "cell_type": "markdown",
   "source": "In contrast, if we were to put the same values into an independent t-test...",
   "id": "183307344fcc47d6"
  },
  {
   "metadata": {
    "ExecuteTime": {
     "end_time": "2025-01-15T18:54:55.992730Z",
     "start_time": "2025-01-15T18:54:55.987666Z"
    }
   },
   "cell_type": "code",
   "source": "st.ttest_ind(min15, min1, equal_var=False)",
   "id": "f2ed68debc04e0ac",
   "outputs": [
    {
     "data": {
      "text/plain": [
       "TtestResult(statistic=np.float64(0.5729114862838532), pvalue=np.float64(0.5826164805627767), df=np.float64(7.91150470414055))"
      ]
     },
     "execution_count": 27,
     "metadata": {},
     "output_type": "execute_result"
    }
   ],
   "execution_count": 27
  }
 ],
 "metadata": {
  "kernelspec": {
   "display_name": "Python 3",
   "language": "python",
   "name": "python3"
  },
  "language_info": {
   "codemirror_mode": {
    "name": "ipython",
    "version": 2
   },
   "file_extension": ".py",
   "mimetype": "text/x-python",
   "name": "python",
   "nbconvert_exporter": "python",
   "pygments_lexer": "ipython2",
   "version": "2.7.6"
  }
 },
 "nbformat": 4,
 "nbformat_minor": 5
}
