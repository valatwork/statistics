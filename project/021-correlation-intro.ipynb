{
 "cells": [
  {
   "metadata": {},
   "cell_type": "markdown",
   "source": "## Correlation (introduction)",
   "id": "a3898ee7b68d440b"
  },
  {
   "metadata": {},
   "cell_type": "markdown",
   "source": [
    "Covariance is sensitive to the units used in the variables, which makes it difficult to interpret.\n",
    "\n",
    "Correlation normalizes everything by their standard deviations, giving you an easier to understand value that ranges:\n",
    " - from -1 (for a perfect inverse correlation)\n",
    "  - to 1 (for a perfect positive correlation)\n",
    " - 0 means no correlation.\n",
    "\n",
    "**Statistical correlation does imply causation**. It only tells you how related two variables are.\n",
    "\n",
    "Pearson correlation coefficient is often denoted with $r$ or $\\rho$ and is defined by:\n",
    "$$ \\rho_{x,y} = \\frac{\\text{cov}(x,y)}{\\sigma_x \\sigma_y} $$\n"
   ],
   "id": "85015cedd6571d6e"
  },
  {
   "metadata": {},
   "cell_type": "markdown",
   "source": [
    "More advanced correlation topics:\n",
    "\n",
    "[5.2.8 - Pearson's Correlation (revisited)](041-correlation-2-pearson.ipynb)"
   ],
   "id": "3cfeaf42fea4a32e"
  },
  {
   "metadata": {},
   "cell_type": "markdown",
   "source": "#### Examples with Python",
   "id": "e914a617414aa8e"
  },
  {
   "metadata": {
    "ExecuteTime": {
     "end_time": "2025-01-16T12:09:31.113168Z",
     "start_time": "2025-01-16T12:09:31.097917Z"
    }
   },
   "cell_type": "code",
   "source": [
    "import scipy.stats as st\n",
    "import seaborn as sns\n",
    "happiness = sns.load_dataset('world-happiness-report-2021', data_home='C:/Lab/Repos/Statistics/data')"
   ],
   "id": "163f31900f92c0f9",
   "outputs": [],
   "execution_count": 1
  },
  {
   "metadata": {
    "ExecuteTime": {
     "end_time": "2025-01-16T12:09:31.125175Z",
     "start_time": "2025-01-16T12:09:31.117722Z"
    }
   },
   "cell_type": "code",
   "source": "st.pearsonr(happiness['Ladder score'], happiness['Logged GDP per capita'])[0]",
   "id": "b367eca03083296",
   "outputs": [
    {
     "data": {
      "text/plain": [
       "np.float64(0.7897596965098935)"
      ]
     },
     "execution_count": 2,
     "metadata": {},
     "output_type": "execute_result"
    }
   ],
   "execution_count": 2
  },
  {
   "metadata": {
    "ExecuteTime": {
     "end_time": "2025-01-16T12:09:31.281160Z",
     "start_time": "2025-01-16T12:09:31.276675Z"
    }
   },
   "cell_type": "code",
   "source": "st.pearsonr(happiness['Generosity'], happiness['Logged GDP per capita'])[0]",
   "id": "ba279168cc476b07",
   "outputs": [
    {
     "data": {
      "text/plain": [
       "np.float64(-0.1992863986639345)"
      ]
     },
     "execution_count": 3,
     "metadata": {},
     "output_type": "execute_result"
    }
   ],
   "execution_count": 3
  }
 ],
 "metadata": {
  "kernelspec": {
   "display_name": "Python 3",
   "language": "python",
   "name": "python3"
  },
  "language_info": {
   "codemirror_mode": {
    "name": "ipython",
    "version": 2
   },
   "file_extension": ".py",
   "mimetype": "text/x-python",
   "name": "python",
   "nbconvert_exporter": "python",
   "pygments_lexer": "ipython2",
   "version": "2.7.6"
  }
 },
 "nbformat": 4,
 "nbformat_minor": 5
}
