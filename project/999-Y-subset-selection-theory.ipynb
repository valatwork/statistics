{
 "cells": [
  {
   "metadata": {},
   "cell_type": "markdown",
   "source": "# Subset Selection - Theory (work in progress)",
   "id": "d0d2e2c6e3b40dc5"
  },
  {
   "metadata": {},
   "cell_type": "markdown",
   "source": "## Best Subset Selection        ",
   "id": "16a88d6eba7130b4"
  },
  {
   "metadata": {},
   "cell_type": "markdown",
   "source": [
    "\n",
    "To perform the best subset selection, we ft a separate least squares regression best subset\n",
    "selection for each possible combination of the p predictors. That is, we ft all p models\n",
    "that contain exactly one predictor, all ${p \\choose 2} = p(p-1)$ models that contain exactly two predictors, and so forth. We then look at all of the resulting models, with the goal of identifying the one that is \"best\".\n",
    "\n",
    "Selecting the *best model* among the $2^p$ possibilities is not trivial, and usually broken up in into two stages:\n",
    "\n",
    "1. Let $M_0$ denote the *null model*, which contains no predictors. This model simply predicts the sample mean for each observation.\n",
    "2. For $k = 1, 2, \\dots, p$:\n",
    "    1. Fit all ${p \\choose k}$ models that contain exactly k predictors.\n",
    "    2. Pick the best among these ${p \\choose k}$ models, and call it $M_k$. Here *best* is defined as having the smallest squared estimate of errors (SSE) or highest $R^2$.\n",
    "3. Select a single best model from among $M_0, M_1, \\dots, M_p$ using cross-validated prediction error, $C_p$, AIC, BIC, or adjusted $R^2$.\n",
    "\n",
    "Step 2 identifes the best model (on the training data) for each subset size, in order to reduce the problem from one of $2^p$ possible models to one of $p + 1$ possible models. "
   ],
   "id": "b89631e9cd567c85"
  },
  {
   "metadata": {},
   "cell_type": "markdown",
   "source": "## Forward Stepwise Selection",
   "id": "8fe33badfbd2cc66"
  },
  {
   "metadata": {},
   "cell_type": "markdown",
   "source": "While best subset selection is a simple and conceptually appealing approach, it sufers from computational limitations. The number of possible models that must be considered grows rapidly as $p$ increases. In general, there are $2_p$ models that involve subsets of $p$ predictors.",
   "id": "e77e9ceb5fb3a115"
  },
  {
   "metadata": {},
   "cell_type": "markdown",
   "source": "",
   "id": "7b318c6200584f05"
  },
  {
   "metadata": {},
   "cell_type": "markdown",
   "source": "",
   "id": "c16b57a0cd5e961c"
  },
  {
   "metadata": {},
   "cell_type": "markdown",
   "source": "",
   "id": "525b77a904fe83ff"
  }
 ],
 "metadata": {
  "kernelspec": {
   "display_name": "Python 3",
   "language": "python",
   "name": "python3"
  },
  "language_info": {
   "codemirror_mode": {
    "name": "ipython",
    "version": 2
   },
   "file_extension": ".py",
   "mimetype": "text/x-python",
   "name": "python",
   "nbconvert_exporter": "python",
   "pygments_lexer": "ipython2",
   "version": "2.7.6"
  }
 },
 "nbformat": 4,
 "nbformat_minor": 5
}
