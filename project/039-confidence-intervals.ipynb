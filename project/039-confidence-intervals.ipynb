{
 "cells": [
  {
   "metadata": {},
   "cell_type": "markdown",
   "source": "## Confidence Intervals",
   "id": "930e242df98f955f"
  },
  {
   "metadata": {},
   "cell_type": "markdown",
   "source": [
    "One of the main applications of the normal distribution: how to find the *statistical uncertainty* associated with the average of a sample.\n",
    "\n",
    "Assume we have a sample of $n$ observations from a population following a normal distribution with mean $\\mu$ and standard deviation $\\sigma$.\n",
    "\n",
    "In practice, we do not know $\\mu$ and $\\sigma$, but we can calculate an estimate of $\\mu$ and $\\sigma$:\n",
    "\n",
    "- As *an estimate* of $\\mu$, we use the *average from a sample*.\n",
    "- As *an estimate* of $\\sigma$, we use the *standard deviation from a sample*.\n",
    "\n",
    "We do not anticipate that the average calculated from a sample corresponds completely to the unknown mean of the population. But maybe we can find an interval that with a high probability contains the unknown mean.\n",
    "\n"
   ],
   "id": "257934b4bcb59605"
  },
  {
   "metadata": {},
   "cell_type": "markdown",
   "source": "### Formula (Confidence Intervals)",
   "id": "90ca9e5b4565eedc"
  },
  {
   "metadata": {},
   "cell_type": "markdown",
   "source": [
    "Where:\n",
    "\n",
    "- $\\bar{x}$ is the sample mean\n",
    "- $s$ is the sample standard deviation\n",
    "- $n$ is the sample size\n",
    "- $z$ is the z-score corresponding to a z-score threshold (the most common 95% CI is $z \\pm 1.960$, other popular values are the 90% CI at $z \\pm 1.645$ and the 99% CI at $z \\pm 2.576$)\n",
    "\n",
    "$$\\bar{x} \\pm z \\frac{s}{\\sqrt{n}}$$"
   ],
   "id": "971b4dcf695d3acd"
  },
  {
   "metadata": {},
   "cell_type": "markdown",
   "source": "#### Examples (Confidence Intervals)",
   "id": "73af330830bc8dfd"
  },
  {
   "metadata": {
    "ExecuteTime": {
     "end_time": "2025-01-16T15:14:07.829363Z",
     "start_time": "2025-01-16T15:14:07.826684Z"
    }
   },
   "cell_type": "code",
   "source": [
    "import numpy as np\n",
    "import matplotlib.pyplot as plt\n",
    "import seaborn as sns"
   ],
   "id": "a926d85b980c56dc",
   "outputs": [],
   "execution_count": 1
  },
  {
   "metadata": {},
   "cell_type": "markdown",
   "source": "##### Example 1 (Confidence Intervals)",
   "id": "4b46369c7bccb20c"
  },
  {
   "metadata": {
    "ExecuteTime": {
     "end_time": "2025-01-16T15:14:07.834860Z",
     "start_time": "2025-01-16T15:14:07.832527Z"
    }
   },
   "cell_type": "code",
   "source": [
    "x = np.array([48, 50, 54, 60, 49, 55, 59, 62]) # sample data\n",
    "xbar = x.mean()\n",
    "s = x.std()\n",
    "n = x.size\n",
    "z = 1.96"
   ],
   "id": "cce5817db5ae9428",
   "outputs": [],
   "execution_count": 2
  },
  {
   "metadata": {
    "ExecuteTime": {
     "end_time": "2025-01-16T15:14:07.990370Z",
     "start_time": "2025-01-16T15:14:07.987642Z"
    }
   },
   "cell_type": "code",
   "source": [
    "# calculating how far from the mean our CI are going to be\n",
    "def cierr_calc(z, s, n):\n",
    "    return z*(s/n**(1/2))"
   ],
   "id": "7e6019906913f371",
   "outputs": [],
   "execution_count": 3
  },
  {
   "metadata": {
    "ExecuteTime": {
     "end_time": "2025-01-16T15:14:08.001868Z",
     "start_time": "2025-01-16T15:14:07.996417Z"
    }
   },
   "cell_type": "code",
   "source": [
    "CIerr = cierr_calc(z, s, n)\n",
    "CIerr"
   ],
   "id": "6b98072bcbcbc697",
   "outputs": [
    {
     "data": {
      "text/plain": [
       "np.float64(3.4637403013216796)"
      ]
     },
     "execution_count": 4,
     "metadata": {},
     "output_type": "execute_result"
    }
   ],
   "execution_count": 4
  },
  {
   "metadata": {
    "ExecuteTime": {
     "end_time": "2025-01-16T15:14:08.090863Z",
     "start_time": "2025-01-16T15:14:08.086962Z"
    }
   },
   "cell_type": "code",
   "source": "xbar - CIerr, xbar + CIerr",
   "id": "3c8177d3746e30b3",
   "outputs": [
    {
     "data": {
      "text/plain": [
       "(np.float64(51.16125969867832), np.float64(58.08874030132168))"
      ]
     },
     "execution_count": 5,
     "metadata": {},
     "output_type": "execute_result"
    }
   ],
   "execution_count": 5
  },
  {
   "metadata": {},
   "cell_type": "markdown",
   "source": "Therefore, there's a 95% chance that the true mean yield of our GMO yeast lies in the range of 51.2 to 58.1 liters. Since this CI doesn't overlap with the established baseline mean of 50L, this corresponds to stating that the GMO yield is significantly greater than the baseline where $\\alpha = 0.05$.",
   "id": "6a2be698c7be47ff"
  },
  {
   "metadata": {
    "ExecuteTime": {
     "end_time": "2025-01-16T15:14:33.070596Z",
     "start_time": "2025-01-16T15:14:32.995133Z"
    }
   },
   "cell_type": "code",
   "source": [
    "fig, ax = plt.subplots()\n",
    "plt.ylabel('Stout Yield (L)')\n",
    "plt.grid(axis='y')\n",
    "ax.errorbar(['GMO'], [xbar], [CIerr], fmt='o', c='indigo') # matplotlib errorbar method\n",
    "_ = ax.axhline(50, c='green')\n",
    "plt.grid(True)\n",
    "plt.legend(['Baseline', 'GMO'])"
   ],
   "id": "b75f9f3363a2551c",
   "outputs": [
    {
     "data": {
      "text/plain": [
       "<matplotlib.legend.Legend at 0x161e005ead0>"
      ]
     },
     "execution_count": 7,
     "metadata": {},
     "output_type": "execute_result"
    },
    {
     "data": {
      "text/plain": [
       "<Figure size 640x480 with 1 Axes>"
      ],
      "image/png": "[encoded data removed]"
     },
     "metadata": {},
     "output_type": "display_data"
    }
   ],
   "execution_count": 7
  },
  {
   "metadata": {},
   "cell_type": "markdown",
   "source": "##### Example 2 (Confidence Intervals)",
   "id": "ca2c1b06c36cce06"
  },
  {
   "metadata": {
    "ExecuteTime": {
     "end_time": "2025-01-16T15:14:37.619874Z",
     "start_time": "2025-01-16T15:14:37.606372Z"
    }
   },
   "cell_type": "code",
   "source": [
    "penguins = sns.load_dataset('penguins').dropna()\n",
    "adelie = penguins[penguins.species == 'Adelie']\n",
    "f = adelie[adelie.sex == 'Female']['body_mass_g'].to_numpy()/1000\n",
    "m = adelie[adelie.sex =='Male']['body_mass_g'].to_numpy()/1000\n",
    "fbar = f.mean()\n",
    "mbar = m.mean()\n",
    "sf = f.var(ddof=1)\n",
    "sm = m.var(ddof=1)\n",
    "nf = f.size\n",
    "nm = m.size\n",
    "z = 1.96\n",
    "fCIerr = cierr_calc(z, sf, nf)\n",
    "mCIerr = cierr_calc(z, sm, nm)"
   ],
   "id": "37733d8e9b0d02b2",
   "outputs": [],
   "execution_count": 8
  },
  {
   "metadata": {},
   "cell_type": "markdown",
   "source": "The CIs are nowhere near overlapping, corresponding to the extremely significant $(-logP\\approx25 )$ difference in penguin weight.",
   "id": "e61dcfd71625f267"
  },
  {
   "metadata": {
    "ExecuteTime": {
     "end_time": "2025-01-16T15:14:58.991150Z",
     "start_time": "2025-01-16T15:14:58.908544Z"
    }
   },
   "cell_type": "code",
   "source": [
    "ax = plt.subplots()\n",
    "plt.title('Adélie Penguins')\n",
    "plt.ylabel('Weight (kg)')\n",
    "plt.grid(axis='y')\n",
    "_ = ax.errorbar(['female', 'male'], [fbar, mbar], [fCIerr, mCIerr],\n",
    "                fmt='.', color='indigo')\n",
    "plt.grid(True)"
   ],
   "id": "5d68ccf9666adb5a",
   "outputs": [
    {
     "data": {
      "text/plain": [
       "<Figure size 640x480 with 1 Axes>"
      ],
      "image/png": "[encoded data removed]"
     },
     "metadata": {},
     "output_type": "display_data"
    }
   ],
   "execution_count": 12
  },
  {
   "metadata": {},
   "cell_type": "markdown",
   "source": [
    "In contrast, the CIs for female penguins from the three islands...\n",
    "\n"
   ],
   "id": "2c9fda80b0ed6361"
  },
  {
   "metadata": {
    "ExecuteTime": {
     "end_time": "2025-01-16T15:14:59.272658Z",
     "start_time": "2025-01-16T15:14:59.267074Z"
    }
   },
   "cell_type": "code",
   "source": [
    "t = adelie[(adelie.sex == 'Female') & (adelie.island == 'Torgersen')]['body_mass_g'].to_numpy()/1000\n",
    "b = adelie[(adelie.sex == 'Female') & (adelie.island == 'Biscoe')]['body_mass_g'].to_numpy()/1000\n",
    "d = adelie[(adelie.sex == 'Female') & (adelie.island == 'Dream')]['body_mass_g'].to_numpy()/1000\n",
    "means = [t.mean(), b.mean(), d.mean()]\n",
    "s_t, sb, sd = t.var(ddof=1), b.var(ddof=1), d.var(ddof=1) # s_t to disambiguate stats package\n",
    "nt, nb, nd = t.size, b.size, d.size\n",
    "CIerrs = [cierr_calc(z, s_t, nt), cierr_calc(z, sb, nb), cierr_calc(z, sd, nd)]"
   ],
   "id": "1ded99758acc1e83",
   "outputs": [],
   "execution_count": 13
  },
  {
   "metadata": {
    "ExecuteTime": {
     "end_time": "2025-01-16T15:15:00.150555Z",
     "start_time": "2025-01-16T15:15:00.067048Z"
    }
   },
   "cell_type": "code",
   "source": [
    "ax = plt.subplots()\n",
    "plt.title('Female Adélie Penguins')\n",
    "plt.ylabel('Weight (kg)')\n",
    "plt.grid(axis='y')\n",
    "_ = ax.errorbar(['Torgersen', 'Biscoe', 'Dream'], means, CIerrs,\n",
    "                fmt='o', color='indigo')\n",
    "plt.grid(True)"
   ],
   "id": "9b5e232445eadfb2",
   "outputs": [
    {
     "data": {
      "text/plain": [
       "<Figure size 640x480 with 1 Axes>"
      ],
      "image/png": "[encoded data removed]"
     },
     "metadata": {},
     "output_type": "display_data"
    }
   ],
   "execution_count": 14
  }
 ],
 "metadata": {
  "kernelspec": {
   "display_name": "Python 3",
   "language": "python",
   "name": "python3"
  },
  "language_info": {
   "codemirror_mode": {
    "name": "ipython",
    "version": 2
   },
   "file_extension": ".py",
   "mimetype": "text/x-python",
   "name": "python",
   "nbconvert_exporter": "python",
   "pygments_lexer": "ipython2",
   "version": "2.7.6"
  }
 },
 "nbformat": 4,
 "nbformat_minor": 5
}
