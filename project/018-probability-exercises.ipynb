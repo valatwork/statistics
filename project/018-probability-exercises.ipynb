{
 "cells": [
  {
   "metadata": {},
   "cell_type": "markdown",
   "source": "## Probability Exercises",
   "id": "e0b6c24ce41b278d"
  },
  {
   "metadata": {
    "ExecuteTime": {
     "end_time": "2025-01-09T12:00:52.249247Z",
     "start_time": "2025-01-09T12:00:52.246759Z"
    }
   },
   "cell_type": "code",
   "source": [
    "from fractions import Fraction\n",
    "from math import factorial"
   ],
   "id": "1735ee3dfcd196b3",
   "outputs": [],
   "execution_count": 1
  },
  {
   "metadata": {},
   "cell_type": "markdown",
   "source": "##### Exercise 1 - Probability",
   "id": "a4baba8bf1e8ce22"
  },
  {
   "metadata": {},
   "cell_type": "markdown",
   "source": [
    "A customer survey asked respondents to indicate their highest level of education.\n",
    "The only three choices in the survey are high school, college, and other.\n",
    "If 31% indicated high school and 49% indicated college, determine the  percentage of respondents who chose the “other” category."
   ],
   "id": "7b274666140826ca"
  },
  {
   "metadata": {},
   "cell_type": "markdown",
   "source": "$$P(college) + P(high \\ school) + P(other) = 1$$",
   "id": "49285c3d9b6d89dc"
  },
  {
   "metadata": {
    "ExecuteTime": {
     "end_time": "2025-01-09T12:47:41.104748Z",
     "start_time": "2025-01-09T12:47:41.101234Z"
    }
   },
   "cell_type": "code",
   "source": "1 - 0.49 - 0.31",
   "id": "3f4fb37fab631c12",
   "outputs": [
    {
     "data": {
      "text/plain": [
       "0.2"
      ]
     },
     "execution_count": 16,
     "metadata": {},
     "output_type": "execute_result"
    }
   ],
   "execution_count": 16
  },
  {
   "metadata": {},
   "cell_type": "markdown",
   "source": "##### Exercise 2 - Probability",
   "id": "dc9437798835bd1b"
  },
  {
   "metadata": {},
   "cell_type": "markdown",
   "source": [
    "A recent survey found that 62% of the households surveyed had Internet access, 68% had cable TV, and 43% had both.\n",
    "Determine the probability that a randomly selected household in the survey had either Internet access or cable"
   ],
   "id": "77c1e878fcfa7a71"
  },
  {
   "metadata": {
    "ExecuteTime": {
     "end_time": "2025-01-09T12:51:04.863939Z",
     "start_time": "2025-01-09T12:51:04.860100Z"
    }
   },
   "cell_type": "code",
   "source": "0.62 + 0.68 - 0.43",
   "id": "e2259a2d488dd18b",
   "outputs": [
    {
     "data": {
      "text/plain": [
       "0.8700000000000001"
      ]
     },
     "execution_count": 17,
     "metadata": {},
     "output_type": "execute_result"
    }
   ],
   "execution_count": 17
  },
  {
   "metadata": {},
   "cell_type": "markdown",
   "source": [
    "$$P(\\ internet \\cup \\ cable) = P(\\ internet) + P(\\ cable) - P(\\ internet \\cap \\ cable)$$\n",
    "$$P(\\ internet \\cup \\ cable) = 0.62 + 0.68 - 0.43 \\approx 0.87$$"
   ],
   "id": "964451887e37c062"
  },
  {
   "metadata": {},
   "cell_type": "markdown",
   "source": "##### Exercise 3 - Probability",
   "id": "705e4c7683148c63"
  },
  {
   "metadata": {},
   "cell_type": "markdown",
   "source": [
    "|      | Sedan | SUV |\n",
    "|------|-------|-----|\n",
    "| New  | 24    | 15  |\n",
    "| Used | 9     | 12  |"
   ],
   "id": "2aab035406c1f17a"
  },
  {
   "metadata": {},
   "cell_type": "markdown",
   "source": "What is the probability of randomly selecting a new car?",
   "id": "877daf75c72b1889"
  },
  {
   "metadata": {
    "ExecuteTime": {
     "end_time": "2025-01-09T13:04:16.313260Z",
     "start_time": "2025-01-09T13:04:16.310177Z"
    }
   },
   "cell_type": "code",
   "source": "39 / 60",
   "id": "3df2f80e17688dcd",
   "outputs": [
    {
     "data": {
      "text/plain": [
       "0.65"
      ]
     },
     "execution_count": 19,
     "metadata": {},
     "output_type": "execute_result"
    }
   ],
   "execution_count": 19
  },
  {
   "metadata": {},
   "cell_type": "markdown",
   "source": "$$P(A) = \\frac{P(\\ new \\ cars)}{P(\\ all \\ cars)} =  \\frac{39}{60} = 0.65$$",
   "id": "8e81837d1ec84ad0"
  },
  {
   "metadata": {},
   "cell_type": "markdown",
   "source": "Determine the probability that a randomly selected car is a sedan",
   "id": "9a7f2f8ae546bbd3"
  },
  {
   "metadata": {
    "ExecuteTime": {
     "end_time": "2025-01-09T13:06:56.293908Z",
     "start_time": "2025-01-09T13:06:56.290346Z"
    }
   },
   "cell_type": "code",
   "source": "33 / 60",
   "id": "2042abcc7a87bf04",
   "outputs": [
    {
     "data": {
      "text/plain": [
       "0.55"
      ]
     },
     "execution_count": 21,
     "metadata": {},
     "output_type": "execute_result"
    }
   ],
   "execution_count": 21
  },
  {
   "metadata": {},
   "cell_type": "markdown",
   "source": "Determine the probability that a randomly selected car is a new sedan.",
   "id": "7b84c673809dfd62"
  },
  {
   "metadata": {
    "ExecuteTime": {
     "end_time": "2025-01-09T13:07:24.327872Z",
     "start_time": "2025-01-09T13:07:24.324469Z"
    }
   },
   "cell_type": "code",
   "source": "24 / 60",
   "id": "8c39a5defaf7f296",
   "outputs": [
    {
     "data": {
      "text/plain": [
       "0.4"
      ]
     },
     "execution_count": 22,
     "metadata": {},
     "output_type": "execute_result"
    }
   ],
   "execution_count": 22
  },
  {
   "metadata": {},
   "cell_type": "markdown",
   "source": "Determine the probability that a randomly selected car is either used or an SUV.",
   "id": "ef6556dbfcbaf9d8"
  },
  {
   "metadata": {
    "ExecuteTime": {
     "end_time": "2025-01-09T13:14:50.855413Z",
     "start_time": "2025-01-09T13:14:50.852072Z"
    }
   },
   "cell_type": "code",
   "source": "(21 / 60) + (27/60) - (12/60)",
   "id": "89a3d7ef2b981913",
   "outputs": [
    {
     "data": {
      "text/plain": [
       "0.6000000000000001"
      ]
     },
     "execution_count": 32,
     "metadata": {},
     "output_type": "execute_result"
    }
   ],
   "execution_count": 32
  },
  {
   "metadata": {},
   "cell_type": "markdown",
   "source": "$$P(\\ used \\cup \\ SUV) = P(\\ used) + P(\\ SUV) - P(\\ used \\cap \\ SUV) = 0.35 + 0.45 - 0.2 = 0.6$$",
   "id": "2571a58cc47ab04c"
  },
  {
   "metadata": {},
   "cell_type": "markdown",
   "source": "##### Exercise 4 - Probability",
   "id": "d588daff4858bd28"
  },
  {
   "metadata": {},
   "cell_type": "markdown",
   "source": [
    "|                    | Gold    | Silver  | Bronze  | **Total (country)** |\n",
    "|--------------------|---------|---------|---------|---------------------|\n",
    "| China              | 51      | 21      | 28      | **100**             |\n",
    "| USA                | 36      | 38      | 36      | **110**             |\n",
    "| Russia             | 23      | 21      | 28      | **72**              |\n",
    "| Other              | 192     | 223     | 299     | **714**             |\n",
    "| **Total (medals)** | **302** | **303** | **353** | **958**             |\n",
    "\n"
   ],
   "id": "3e8f82eb6ceec419"
  },
  {
   "metadata": {},
   "cell_type": "markdown",
   "source": "Determine the probability that a randomly selected medal was won by Russia.",
   "id": "fc99d62cc5b9ad14"
  },
  {
   "metadata": {
    "ExecuteTime": {
     "end_time": "2025-01-09T16:06:02.233811Z",
     "start_time": "2025-01-09T16:06:02.230464Z"
    }
   },
   "cell_type": "code",
   "source": "72 / 958",
   "id": "1bc0e3b4262221f6",
   "outputs": [
    {
     "data": {
      "text/plain": [
       "0.07515657620041753"
      ]
     },
     "execution_count": 4,
     "metadata": {},
     "output_type": "execute_result"
    }
   ],
   "execution_count": 4
  },
  {
   "metadata": {},
   "cell_type": "markdown",
   "source": "Determine the probability that a randomly selected medal was silver",
   "id": "1f8526818f2e6a4b"
  },
  {
   "metadata": {
    "ExecuteTime": {
     "end_time": "2025-01-09T16:06:38.448546Z",
     "start_time": "2025-01-09T16:06:38.445270Z"
    }
   },
   "cell_type": "code",
   "source": "303 / 958",
   "id": "c317cbd505756eaa",
   "outputs": [
    {
     "data": {
      "text/plain": [
       "0.3162839248434238"
      ]
     },
     "execution_count": 5,
     "metadata": {},
     "output_type": "execute_result"
    }
   ],
   "execution_count": 5
  },
  {
   "metadata": {},
   "cell_type": "markdown",
   "source": "Determine the probability that a randomly selected medal was a silver medal awarded to Russia.",
   "id": "1a2407ba79d00d7f"
  },
  {
   "metadata": {
    "ExecuteTime": {
     "end_time": "2025-01-09T16:07:29.064460Z",
     "start_time": "2025-01-09T16:07:29.061208Z"
    }
   },
   "cell_type": "code",
   "source": "21 / 958 # probability of silver medal awarded to Russia from all medals",
   "id": "16dc6685c4e57d19",
   "outputs": [
    {
     "data": {
      "text/plain": [
       "0.021920668058455117"
      ]
     },
     "execution_count": 6,
     "metadata": {},
     "output_type": "execute_result"
    }
   ],
   "execution_count": 6
  },
  {
   "metadata": {
    "ExecuteTime": {
     "end_time": "2025-01-09T16:07:44.619452Z",
     "start_time": "2025-01-09T16:07:44.616239Z"
    }
   },
   "cell_type": "code",
   "source": "21 / 303 # probability of silver medal awarded to Russia from all silver medals",
   "id": "2808fba82fe308dd",
   "outputs": [
    {
     "data": {
      "text/plain": [
       "0.06930693069306931"
      ]
     },
     "execution_count": 7,
     "metadata": {},
     "output_type": "execute_result"
    }
   ],
   "execution_count": 7
  },
  {
   "metadata": {
    "ExecuteTime": {
     "end_time": "2025-01-09T16:08:51.811481Z",
     "start_time": "2025-01-09T16:08:51.808357Z"
    }
   },
   "cell_type": "code",
   "source": "21 / 72 # probability of silver medal awarded to Russia from all medals awarded to Russia",
   "id": "da3858805199ec5a",
   "outputs": [
    {
     "data": {
      "text/plain": [
       "0.2916666666666667"
      ]
     },
     "execution_count": 8,
     "metadata": {},
     "output_type": "execute_result"
    }
   ],
   "execution_count": 8
  },
  {
   "metadata": {},
   "cell_type": "markdown",
   "source": "Determine the probability that a randomly selected medal was either a silver medal or awarded to Russia.",
   "id": "8d120e4603308d48"
  },
  {
   "metadata": {
    "ExecuteTime": {
     "end_time": "2025-01-09T16:10:54.153895Z",
     "start_time": "2025-01-09T16:10:54.150084Z"
    }
   },
   "cell_type": "code",
   "source": "0.075 + 0.316 - 0.022",
   "id": "d0be5a699daef48c",
   "outputs": [
    {
     "data": {
      "text/plain": [
       "0.369"
      ]
     },
     "execution_count": 10,
     "metadata": {},
     "output_type": "execute_result"
    }
   ],
   "execution_count": 10
  },
  {
   "metadata": {},
   "cell_type": "markdown",
   "source": "Determine the probability that a randomly selected medal was either a gold medal or awarded to the United States.",
   "id": "28347268482c60ad"
  },
  {
   "metadata": {
    "ExecuteTime": {
     "end_time": "2025-01-09T16:15:29.699766Z",
     "start_time": "2025-01-09T16:15:29.695847Z"
    }
   },
   "cell_type": "code",
   "source": "(110 / 958) + (302 / 958) - (36 / 958) # probability of a medal awarded to the USA or a gold medal",
   "id": "8a4fe891b140a533",
   "outputs": [
    {
     "data": {
      "text/plain": [
       "0.3924843423799583"
      ]
     },
     "execution_count": 14,
     "metadata": {},
     "output_type": "execute_result"
    }
   ],
   "execution_count": 14
  },
  {
   "metadata": {},
   "cell_type": "markdown",
   "source": "Determine the probability that a randomly selected medal is either gold or silver.",
   "id": "6020160434719f85"
  },
  {
   "metadata": {
    "ExecuteTime": {
     "end_time": "2025-01-09T16:20:30.743282Z",
     "start_time": "2025-01-09T16:20:30.739957Z"
    }
   },
   "cell_type": "code",
   "source": "(302/958) + (303/958)",
   "id": "f82615fa706bb54e",
   "outputs": [
    {
     "data": {
      "text/plain": [
       "0.6315240083507307"
      ]
     },
     "execution_count": 15,
     "metadata": {},
     "output_type": "execute_result"
    }
   ],
   "execution_count": 15
  },
  {
   "metadata": {},
   "cell_type": "markdown",
   "source": "##### Exercise 5 - Probability",
   "id": "8aae9597bcd48972"
  },
  {
   "metadata": {},
   "cell_type": "markdown",
   "source": [
    "| Warm-up Time | Deb Wins | Bob Wins | **Total** |\n",
    "|--------------|----------|----------|-----------|\n",
    "| Short        | 4        | 6        | **10**    |\n",
    "| Long         | 16       | 24       | **40**    |\n",
    "| **Total**    | **20**   | **30**   | **50**    |"
   ],
   "id": "c5f0f3a4ec751aa9"
  },
  {
   "metadata": {},
   "cell_type": "markdown",
   "source": "Determine the probability that Deb wins the next match if she only has a short time to warm up.",
   "id": "62ab18a8838a841f"
  },
  {
   "metadata": {
    "ExecuteTime": {
     "end_time": "2025-01-09T16:38:46.614336Z",
     "start_time": "2025-01-09T16:38:46.609954Z"
    }
   },
   "cell_type": "code",
   "source": "(4/50) / (10/50)",
   "id": "e9c5bd4830726546",
   "outputs": [
    {
     "data": {
      "text/plain": [
       "0.39999999999999997"
      ]
     },
     "execution_count": 19,
     "metadata": {},
     "output_type": "execute_result"
    }
   ],
   "execution_count": 19
  },
  {
   "metadata": {},
   "cell_type": "markdown",
   "source": [
    "In this problem, you assume that the warm-up time was short, so given a short warm-up time, you are asked to calculate the probability of Deb winning the match.\n",
    "\n",
    "$$P(\\ Deb \\ | \\ short) = \\frac{P(\\ Deb \\cap \\ short \\ )}{P(\\ short)} = \\frac{0.08}{0.2} \\approx 0.4$$"
   ],
   "id": "d02f0e985aaf08d4"
  },
  {
   "metadata": {},
   "cell_type": "markdown",
   "source": "Assuming Deb won the last match, determine the likelihood that the warm-up period before the match was short.",
   "id": "a8fddcb711b6afd9"
  },
  {
   "metadata": {},
   "cell_type": "markdown",
   "source": "$$P(\\ short | \\ Deb) = \\frac{P(\\ short \\cap \\ Deb)}{P(\\ Deb)}$$",
   "id": "688d85e9f0f1b533"
  },
  {
   "metadata": {
    "ExecuteTime": {
     "end_time": "2025-01-09T16:34:41.195937Z",
     "start_time": "2025-01-09T16:34:41.191722Z"
    }
   },
   "cell_type": "code",
   "source": "(4/50)/(20/50)",
   "id": "3a2edaddfb5eec1",
   "outputs": [
    {
     "data": {
      "text/plain": [
       "0.19999999999999998"
      ]
     },
     "execution_count": 17,
     "metadata": {},
     "output_type": "execute_result"
    }
   ],
   "execution_count": 17
  },
  {
   "metadata": {},
   "cell_type": "markdown",
   "source": "Given that the warm-up time was short, determine the probability that Bob wins the next match",
   "id": "c67b52658e77b8e6"
  },
  {
   "metadata": {
    "ExecuteTime": {
     "end_time": "2025-01-09T16:41:08.511415Z",
     "start_time": "2025-01-09T16:41:08.507975Z"
    }
   },
   "cell_type": "code",
   "outputs": [
    {
     "data": {
      "text/plain": [
       "0.6"
      ]
     },
     "execution_count": 21,
     "metadata": {},
     "output_type": "execute_result"
    }
   ],
   "execution_count": 21,
   "source": "(6/50)/(10/50)",
   "id": "f2dbe24d76f82af8"
  },
  {
   "metadata": {},
   "cell_type": "markdown",
   "source": "Assuming the warm-up time is long, determine the probability that Bob wins the next match.",
   "id": "353eacd1e44b84a9"
  },
  {
   "metadata": {
    "ExecuteTime": {
     "end_time": "2025-01-09T16:41:36.871087Z",
     "start_time": "2025-01-09T16:41:36.867212Z"
    }
   },
   "cell_type": "code",
   "outputs": [
    {
     "data": {
      "text/plain": [
       "0.6"
      ]
     },
     "execution_count": 22,
     "metadata": {},
     "output_type": "execute_result"
    }
   ],
   "execution_count": 22,
   "source": "(24/50)/(40/50)",
   "id": "fc17a673740f59a6"
  },
  {
   "metadata": {},
   "cell_type": "markdown",
   "source": "What is the probability of Deb winning the next match if the warm-up time is long?",
   "id": "7e1d0aaffcb64f2d"
  },
  {
   "metadata": {
    "ExecuteTime": {
     "end_time": "2025-01-09T16:44:05.569959Z",
     "start_time": "2025-01-09T16:44:05.566370Z"
    }
   },
   "cell_type": "code",
   "source": "(16/50)/(40/50)",
   "id": "7596d8ae45e6938f",
   "outputs": [
    {
     "data": {
      "text/plain": [
       "0.39999999999999997"
      ]
     },
     "execution_count": 24,
     "metadata": {},
     "output_type": "execute_result"
    }
   ],
   "execution_count": 24
  },
  {
   "metadata": {},
   "cell_type": "markdown",
   "source": "##### Exercise 6 - Probability",
   "id": "8e8a23b88c782de0"
  },
  {
   "metadata": {},
   "cell_type": "markdown",
   "source": [
    "At a local restaurant, 20% of the customers order take-out. If 7% of all customers order take-out and choose a hamburger, determine the probability\n",
    "that a customer who orders take-out will order a hamburger."
   ],
   "id": "c74c80620ab84223"
  },
  {
   "metadata": {
    "ExecuteTime": {
     "end_time": "2025-01-09T16:47:46.832837Z",
     "start_time": "2025-01-09T16:47:46.829346Z"
    }
   },
   "cell_type": "code",
   "source": "00.7 / 0.2",
   "id": "1a582313eb842f1c",
   "outputs": [
    {
     "data": {
      "text/plain": [
       "3.4999999999999996"
      ]
     },
     "execution_count": 25,
     "metadata": {},
     "output_type": "execute_result"
    }
   ],
   "execution_count": 25
  },
  {
   "metadata": {},
   "cell_type": "markdown",
   "source": "##### Exercise 7 - Probability",
   "id": "73fc66675855a784"
  },
  {
   "metadata": {},
   "cell_type": "markdown",
   "source": "A card is drawn from a standard deck and not replaced. A second card is then drawn. What is the probability that both cards are clubs?",
   "id": "77c44599de579369"
  },
  {
   "metadata": {
    "ExecuteTime": {
     "end_time": "2025-01-09T16:52:07.806872Z",
     "start_time": "2025-01-09T16:52:07.803304Z"
    }
   },
   "cell_type": "code",
   "source": "(13/52) * (12/51)",
   "id": "cb6f642dae983783",
   "outputs": [
    {
     "data": {
      "text/plain": [
       "0.058823529411764705"
      ]
     },
     "execution_count": 26,
     "metadata": {},
     "output_type": "execute_result"
    }
   ],
   "execution_count": 26
  },
  {
   "metadata": {},
   "cell_type": "markdown",
   "source": [
    "A card is drawn from a standard deck and replaced. A second card is then\n",
    "drawn. What is the probability that both cards are hearts?"
   ],
   "id": "132a815e22c74e27"
  },
  {
   "metadata": {
    "ExecuteTime": {
     "end_time": "2025-01-09T16:52:34.421827Z",
     "start_time": "2025-01-09T16:52:34.418323Z"
    }
   },
   "cell_type": "code",
   "source": "(13/52) * (13/52)",
   "id": "68dfbedca93ff721",
   "outputs": [
    {
     "data": {
      "text/plain": [
       "0.0625"
      ]
     },
     "execution_count": 27,
     "metadata": {},
     "output_type": "execute_result"
    }
   ],
   "execution_count": 27
  },
  {
   "metadata": {},
   "cell_type": "markdown",
   "source": "##### Exercise 8 - Probability",
   "id": "aa3238438f8d82bf"
  },
  {
   "metadata": {},
   "cell_type": "markdown",
   "source": [
    "Voter records for a large county indicate that 46% of registered voters are\n",
    "Republicans. If three voters are selected randomly, determine the probability\n",
    "that all three are Republican."
   ],
   "id": "6b47cc3835e6f25c"
  },
  {
   "metadata": {
    "ExecuteTime": {
     "end_time": "2025-01-09T16:54:18.737253Z",
     "start_time": "2025-01-09T16:54:18.733942Z"
    }
   },
   "cell_type": "code",
   "source": "0.46 * 0.46 * 0.46",
   "id": "c1c4b74a4d3ff9d9",
   "outputs": [
    {
     "data": {
      "text/plain": [
       "0.097336"
      ]
     },
     "execution_count": 28,
     "metadata": {},
     "output_type": "execute_result"
    }
   ],
   "execution_count": 28
  },
  {
   "metadata": {},
   "cell_type": "markdown",
   "source": "$$P(A  \\cap B \\cap C) = P(A) \\cdot P(B) \\cdot P(C) = 0.46 \\cdot 0.46 \\cdot 0.46 = 0.097336$$",
   "id": "8a7a9b97beac0332"
  },
  {
   "metadata": {},
   "cell_type": "markdown",
   "source": "##### Exercise 10 - Probability",
   "id": "4add4f3aa26867a3"
  },
  {
   "metadata": {},
   "cell_type": "markdown",
   "source": "What is the probability of drawing the ace of spades twice in a row, from a standard deck of 52 cards? Assuming any card drawn on the first draw will be put back in the deck before the second draw.",
   "id": "ea1be61629189dde"
  },
  {
   "metadata": {
    "ExecuteTime": {
     "end_time": "2025-01-09T13:15:27.895751Z",
     "start_time": "2025-01-09T13:15:27.892177Z"
    }
   },
   "cell_type": "code",
   "source": "Fraction(1,52) * Fraction(1,52)",
   "id": "662cc93ba7f629ee",
   "outputs": [
    {
     "data": {
      "text/plain": [
       "Fraction(1, 2704)"
      ]
     },
     "execution_count": 33,
     "metadata": {},
     "output_type": "execute_result"
    }
   ],
   "execution_count": 33
  },
  {
   "metadata": {
    "ExecuteTime": {
     "end_time": "2025-01-09T12:06:24.114231Z",
     "start_time": "2025-01-09T12:06:24.110571Z"
    }
   },
   "cell_type": "code",
   "outputs": [
    {
     "data": {
      "text/plain": [
       "0.0003698224852071006"
      ]
     },
     "execution_count": 3,
     "metadata": {},
     "output_type": "execute_result"
    }
   ],
   "execution_count": 3,
   "source": "1/2704",
   "id": "1e6ab8d5f29d5380"
  },
  {
   "metadata": {},
   "cell_type": "markdown",
   "source": "$$P(\\ ace \\ of \\ spades) \\cdot P(\\ ace \\ of \\ spades) = \\frac{1}{52} \\cdot \\frac{1}{52} = \\frac{1}{2704} \\approx 0.000375 $$",
   "id": "83eb46c58547753e"
  },
  {
   "metadata": {},
   "cell_type": "markdown",
   "source": "##### Exercise 11 - Probability",
   "id": "c9c69f253ce6b992"
  },
  {
   "metadata": {},
   "cell_type": "markdown",
   "source": "You draw a card from a standard deck of 52 cards. After placing the card back in the deck and shuffling, you draw again. What is the probability of drawing the same card again?",
   "id": "772773ad4f4e6f6a"
  },
  {
   "metadata": {},
   "cell_type": "markdown",
   "source": "$$P(\\ drawing \\ any \\ card) \\cdot P(\\ drawing \\ the \\ same \\ card) = \\frac{52}{52} \\cdot \\frac{1}{52} = \\frac{1}{52} \\approx 0.0192 $$",
   "id": "7b12dc038eaa5bcb"
  },
  {
   "metadata": {},
   "cell_type": "markdown",
   "source": "##### Exercise 12 - Probability",
   "id": "17a2725c545f266a"
  },
  {
   "metadata": {},
   "cell_type": "markdown",
   "source": "Calculate the probability of throwing three heads in five coin tosses using $\\binom{n}{k}$.",
   "id": "10aa4aa2b30181d9"
  },
  {
   "metadata": {
    "ExecuteTime": {
     "end_time": "2025-01-09T12:14:55.214835Z",
     "start_time": "2025-01-09T12:14:55.211291Z"
    }
   },
   "cell_type": "code",
   "outputs": [
    {
     "data": {
      "text/plain": [
       "10.0"
      ]
     },
     "execution_count": 4,
     "metadata": {},
     "output_type": "execute_result"
    }
   ],
   "execution_count": 4,
   "source": "factorial(5) / (factorial(3) * factorial(5-3))",
   "id": "c35661138c97af5c"
  },
  {
   "metadata": {},
   "cell_type": "markdown",
   "source": "$$\\binom{5}{3}=\\frac{5!}{3!(5-3)!}= \\frac{5!}{(3!)(2!)} = \\frac{5 \\times 4 \\times 3 \\times 2 \\times 1}{(3 \\times 2 \\times 1) (2 \\times 1)}= \\frac{120}{(6)(2)} = \\frac{120}{12} = 10$$",
   "id": "eade75cb135db8c"
  }
 ],
 "metadata": {
  "kernelspec": {
   "display_name": "Python 3",
   "language": "python",
   "name": "python3"
  },
  "language_info": {
   "codemirror_mode": {
    "name": "ipython",
    "version": 2
   },
   "file_extension": ".py",
   "mimetype": "text/x-python",
   "name": "python",
   "nbconvert_exporter": "python",
   "pygments_lexer": "ipython2",
   "version": "2.7.6"
  }
 },
 "nbformat": 4,
 "nbformat_minor": 5
}
