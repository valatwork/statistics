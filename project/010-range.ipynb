{
 "cells": [
  {
   "metadata": {},
   "cell_type": "markdown",
   "source": "# Descriptive Statistics: Measures of Dispersion (Absolute)",
   "id": "afcf6034fa294cc8"
  },
  {
   "metadata": {},
   "cell_type": "markdown",
   "source": "## Range",
   "id": "6770b1d9e263c3e0"
  },
  {
   "metadata": {},
   "cell_type": "markdown",
   "source": [
    "The range is simply the difference between the maximum value and the minimum value in the distribution.\n",
    "\n",
    "Like the mean, the range will be affected by outliers since it depends on the max and min values.\n",
    "\n",
    "The range is always a positive number."
   ],
   "id": "5b18be1c4f599612"
  },
  {
   "metadata": {},
   "cell_type": "markdown",
   "source": "### Formula (range)",
   "id": "f5ec58ef79d476a0"
  },
  {
   "metadata": {},
   "cell_type": "markdown",
   "source": "$$R = x_{max} - x_{min} $$",
   "id": "a908eb8815894d34"
  },
  {
   "metadata": {},
   "cell_type": "markdown",
   "source": "#### Interquartile range (IQR)",
   "id": "ebcb8f231cb10b72"
  },
  {
   "metadata": {},
   "cell_type": "markdown",
   "source": [
    "When the median is calculated, you can further divide the two parts of the data\n",
    "values into two parts each.\n",
    "Thus, the entire set of data values is divided into four parts, with (roughly) the\n",
    "same number of data values. The new points of division are called the *quartiles*.\n",
    "The difference between the quartiles is called the **interquartile range (IQR)**. The interpretation of IQR is that it is the length\n",
    "of the interval with the “middle 50 %” of the data values, and it is often used when\n",
    "you use the median as a measure of location."
   ],
   "id": "9f16b17ae1d2dcf0"
  },
  {
   "metadata": {
    "collapsed": true,
    "ExecuteTime": {
     "end_time": "2025-01-16T18:16:36.729589Z",
     "start_time": "2025-01-16T18:16:36.727027Z"
    }
   },
   "cell_type": "code",
   "source": [
    "import pandas as pd\n",
    "import numpy as np\n",
    "from scipy import stats"
   ],
   "id": "initial_id",
   "outputs": [],
   "execution_count": 1
  },
  {
   "metadata": {},
   "cell_type": "markdown",
   "source": "### Examples (range)",
   "id": "a7fded0c1d8ab0f8"
  },
  {
   "metadata": {},
   "cell_type": "markdown",
   "source": "#### Example 1 (range)",
   "id": "fa5e08294880c429"
  },
  {
   "metadata": {
    "ExecuteTime": {
     "end_time": "2025-01-03T14:37:15.734459Z",
     "start_time": "2025-01-03T14:37:15.729568Z"
    }
   },
   "cell_type": "code",
   "source": [
    "proteins = pd.DataFrame({4, 3, 4, 4, 2, 2, 2, 3, 2, 3, 1, 6, 1, 3})\n",
    "minmax_range = proteins.max() - proteins.min()\n",
    "minmax_range"
   ],
   "id": "9a87f1b6a3e9be42",
   "outputs": [
    {
     "data": {
      "text/plain": [
       "0    5\n",
       "dtype: int64"
      ]
     },
     "execution_count": 20,
     "metadata": {},
     "output_type": "execute_result"
    }
   ],
   "execution_count": 20
  },
  {
   "metadata": {
    "ExecuteTime": {
     "end_time": "2025-01-03T14:37:16.836002Z",
     "start_time": "2025-01-03T14:37:16.830970Z"
    }
   },
   "cell_type": "code",
   "source": [
    "iqr_range = proteins.quantile(0.75) - proteins.quantile(0.25)\n",
    "iqr_range"
   ],
   "id": "41202a732e0d64b9",
   "outputs": [
    {
     "data": {
      "text/plain": [
       "0    2.0\n",
       "dtype: float64"
      ]
     },
     "execution_count": 21,
     "metadata": {},
     "output_type": "execute_result"
    }
   ],
   "execution_count": 21
  },
  {
   "metadata": {
    "ExecuteTime": {
     "end_time": "2025-01-03T14:37:17.842728Z",
     "start_time": "2025-01-03T14:37:17.838856Z"
    }
   },
   "cell_type": "code",
   "source": "stats.iqr(proteins)",
   "id": "743c0ee76669893",
   "outputs": [
    {
     "data": {
      "text/plain": [
       "np.float64(2.0)"
      ]
     },
     "execution_count": 22,
     "metadata": {},
     "output_type": "execute_result"
    }
   ],
   "execution_count": 22
  },
  {
   "metadata": {},
   "cell_type": "markdown",
   "source": "#### Example 2 (range)",
   "id": "310966199ccfcfb6"
  },
  {
   "metadata": {
    "ExecuteTime": {
     "end_time": "2025-01-03T14:37:33.989455Z",
     "start_time": "2025-01-03T14:37:33.984656Z"
    }
   },
   "cell_type": "code",
   "source": [
    "df = pd.DataFrame({2, 2, 3, 4, 5, 5, 5, 6, 6, 6, 6, 7, 7})\n",
    "df.max() - df.min()"
   ],
   "id": "e2831694c248732d",
   "outputs": [
    {
     "data": {
      "text/plain": [
       "0    5\n",
       "dtype: int64"
      ]
     },
     "execution_count": 23,
     "metadata": {},
     "output_type": "execute_result"
    }
   ],
   "execution_count": 23
  },
  {
   "metadata": {
    "ExecuteTime": {
     "end_time": "2025-01-03T14:37:35.148612Z",
     "start_time": "2025-01-03T14:37:35.143284Z"
    }
   },
   "cell_type": "code",
   "source": "df.quantile(0.75) - df.quantile(0.25)",
   "id": "977ab83c733d88f9",
   "outputs": [
    {
     "data": {
      "text/plain": [
       "0    2.5\n",
       "dtype: float64"
      ]
     },
     "execution_count": 24,
     "metadata": {},
     "output_type": "execute_result"
    }
   ],
   "execution_count": 24
  },
  {
   "metadata": {
    "ExecuteTime": {
     "end_time": "2025-01-03T14:37:44.118723Z",
     "start_time": "2025-01-03T14:37:44.114992Z"
    }
   },
   "cell_type": "code",
   "source": "stats.iqr(df)",
   "id": "14be531f5f5ef375",
   "outputs": [
    {
     "data": {
      "text/plain": [
       "np.float64(2.5)"
      ]
     },
     "execution_count": 25,
     "metadata": {},
     "output_type": "execute_result"
    }
   ],
   "execution_count": 25
  },
  {
   "metadata": {},
   "cell_type": "markdown",
   "source": "#### Example 3 (range)",
   "id": "dff20967635fa51b"
  },
  {
   "metadata": {
    "ExecuteTime": {
     "end_time": "2025-01-03T14:37:51.822564Z",
     "start_time": "2025-01-03T14:37:51.819635Z"
    }
   },
   "cell_type": "code",
   "source": "arrival = [12, -10, 32, -4, 0, 16, 5, 18]",
   "id": "ec13bb56399145ec",
   "outputs": [],
   "execution_count": 26
  },
  {
   "metadata": {
    "ExecuteTime": {
     "end_time": "2025-01-03T14:37:53.896624Z",
     "start_time": "2025-01-03T14:37:53.893114Z"
    }
   },
   "cell_type": "code",
   "source": "np.ptp(arrival)",
   "id": "abafb23879ae77f8",
   "outputs": [
    {
     "data": {
      "text/plain": [
       "np.int64(42)"
      ]
     },
     "execution_count": 28,
     "metadata": {},
     "output_type": "execute_result"
    }
   ],
   "execution_count": 28
  },
  {
   "metadata": {
    "ExecuteTime": {
     "end_time": "2025-01-03T14:37:54.718232Z",
     "start_time": "2025-01-03T14:37:54.713596Z"
    }
   },
   "cell_type": "code",
   "source": [
    "arrival_df = pd.DataFrame(arrival)\n",
    "arrival_df.max() - arrival_df.min()"
   ],
   "id": "af15f93b42687d7f",
   "outputs": [
    {
     "data": {
      "text/plain": [
       "0    42\n",
       "dtype: int64"
      ]
     },
     "execution_count": 29,
     "metadata": {},
     "output_type": "execute_result"
    }
   ],
   "execution_count": 29
  },
  {
   "metadata": {
    "ExecuteTime": {
     "end_time": "2025-01-03T14:37:55.562092Z",
     "start_time": "2025-01-03T14:37:55.554963Z"
    }
   },
   "cell_type": "code",
   "source": "arrival_df.describe()",
   "id": "a0aff2ac1e56b995",
   "outputs": [
    {
     "data": {
      "text/plain": [
       "               0\n",
       "count   8.000000\n",
       "mean    8.625000\n",
       "std    13.595561\n",
       "min   -10.000000\n",
       "25%    -1.000000\n",
       "50%     8.500000\n",
       "75%    16.500000\n",
       "max    32.000000"
      ],
      "text/html": [
       "<div>\n",
       "<style scoped>\n",
       "    .dataframe tbody tr th:only-of-type {\n",
       "        vertical-align: middle;\n",
       "    }\n",
       "\n",
       "    .dataframe tbody tr th {\n",
       "        vertical-align: top;\n",
       "    }\n",
       "\n",
       "    .dataframe thead th {\n",
       "        text-align: right;\n",
       "    }\n",
       "</style>\n",
       "<table border=\"1\" class=\"dataframe\">\n",
       "  <thead>\n",
       "    <tr style=\"text-align: right;\">\n",
       "      <th></th>\n",
       "      <th>0</th>\n",
       "    </tr>\n",
       "  </thead>\n",
       "  <tbody>\n",
       "    <tr>\n",
       "      <th>count</th>\n",
       "      <td>8.000000</td>\n",
       "    </tr>\n",
       "    <tr>\n",
       "      <th>mean</th>\n",
       "      <td>8.625000</td>\n",
       "    </tr>\n",
       "    <tr>\n",
       "      <th>std</th>\n",
       "      <td>13.595561</td>\n",
       "    </tr>\n",
       "    <tr>\n",
       "      <th>min</th>\n",
       "      <td>-10.000000</td>\n",
       "    </tr>\n",
       "    <tr>\n",
       "      <th>25%</th>\n",
       "      <td>-1.000000</td>\n",
       "    </tr>\n",
       "    <tr>\n",
       "      <th>50%</th>\n",
       "      <td>8.500000</td>\n",
       "    </tr>\n",
       "    <tr>\n",
       "      <th>75%</th>\n",
       "      <td>16.500000</td>\n",
       "    </tr>\n",
       "    <tr>\n",
       "      <th>max</th>\n",
       "      <td>32.000000</td>\n",
       "    </tr>\n",
       "  </tbody>\n",
       "</table>\n",
       "</div>"
      ]
     },
     "execution_count": 30,
     "metadata": {},
     "output_type": "execute_result"
    }
   ],
   "execution_count": 30
  },
  {
   "metadata": {
    "ExecuteTime": {
     "end_time": "2025-01-03T14:37:52.952760Z",
     "start_time": "2025-01-03T14:37:52.949522Z"
    }
   },
   "cell_type": "code",
   "outputs": [
    {
     "data": {
      "text/plain": [
       "np.float64(17.5)"
      ]
     },
     "execution_count": 27,
     "metadata": {},
     "output_type": "execute_result"
    }
   ],
   "execution_count": 27,
   "source": "stats.iqr(arrival)",
   "id": "b64c1a0b77bf785d"
  },
  {
   "metadata": {
    "ExecuteTime": {
     "end_time": "2025-01-03T14:37:56.482328Z",
     "start_time": "2025-01-03T14:37:56.478519Z"
    }
   },
   "cell_type": "code",
   "source": "np.quantile(arrival, 0.75) - np.quantile(arrival, 0.25)",
   "id": "f8a4458c1ffd18f3",
   "outputs": [
    {
     "data": {
      "text/plain": [
       "np.float64(17.5)"
      ]
     },
     "execution_count": 31,
     "metadata": {},
     "output_type": "execute_result"
    }
   ],
   "execution_count": 31
  },
  {
   "metadata": {},
   "cell_type": "markdown",
   "source": "#### Example 4 (range)",
   "id": "a6184c888223a172"
  },
  {
   "metadata": {
    "ExecuteTime": {
     "end_time": "2025-01-03T14:40:45.408740Z",
     "start_time": "2025-01-03T14:40:45.405668Z"
    }
   },
   "cell_type": "code",
   "source": "patients = [75, 86, 87, 90, 94, 102, 105, 109, 110, 120]",
   "id": "d7c3a4648025d27c",
   "outputs": [],
   "execution_count": 32
  },
  {
   "metadata": {
    "ExecuteTime": {
     "end_time": "2025-01-03T14:40:47.979046Z",
     "start_time": "2025-01-03T14:40:47.974495Z"
    }
   },
   "cell_type": "code",
   "source": "np.ptp(patients)",
   "id": "bac914f8f096f1af",
   "outputs": [
    {
     "data": {
      "text/plain": [
       "np.int64(45)"
      ]
     },
     "execution_count": 33,
     "metadata": {},
     "output_type": "execute_result"
    }
   ],
   "execution_count": 33
  },
  {
   "metadata": {
    "ExecuteTime": {
     "end_time": "2025-01-03T14:40:53.603396Z",
     "start_time": "2025-01-03T14:40:53.598199Z"
    }
   },
   "cell_type": "code",
   "source": [
    "patients_df = pd.DataFrame(patients)\n",
    "patients_df.max() - patients_df.min()"
   ],
   "id": "facf6a52c852a709",
   "outputs": [
    {
     "data": {
      "text/plain": [
       "0    45\n",
       "dtype: int64"
      ]
     },
     "execution_count": 34,
     "metadata": {},
     "output_type": "execute_result"
    }
   ],
   "execution_count": 34
  },
  {
   "metadata": {
    "ExecuteTime": {
     "end_time": "2025-01-03T14:40:57.516011Z",
     "start_time": "2025-01-03T14:40:57.509983Z"
    }
   },
   "cell_type": "code",
   "source": "patients_df.describe()",
   "id": "a2ef3abedc2de264",
   "outputs": [
    {
     "data": {
      "text/plain": [
       "               0\n",
       "count   10.00000\n",
       "mean    97.80000\n",
       "std     13.69347\n",
       "min     75.00000\n",
       "25%     87.75000\n",
       "50%     98.00000\n",
       "75%    108.00000\n",
       "max    120.00000"
      ],
      "text/html": [
       "<div>\n",
       "<style scoped>\n",
       "    .dataframe tbody tr th:only-of-type {\n",
       "        vertical-align: middle;\n",
       "    }\n",
       "\n",
       "    .dataframe tbody tr th {\n",
       "        vertical-align: top;\n",
       "    }\n",
       "\n",
       "    .dataframe thead th {\n",
       "        text-align: right;\n",
       "    }\n",
       "</style>\n",
       "<table border=\"1\" class=\"dataframe\">\n",
       "  <thead>\n",
       "    <tr style=\"text-align: right;\">\n",
       "      <th></th>\n",
       "      <th>0</th>\n",
       "    </tr>\n",
       "  </thead>\n",
       "  <tbody>\n",
       "    <tr>\n",
       "      <th>count</th>\n",
       "      <td>10.00000</td>\n",
       "    </tr>\n",
       "    <tr>\n",
       "      <th>mean</th>\n",
       "      <td>97.80000</td>\n",
       "    </tr>\n",
       "    <tr>\n",
       "      <th>std</th>\n",
       "      <td>13.69347</td>\n",
       "    </tr>\n",
       "    <tr>\n",
       "      <th>min</th>\n",
       "      <td>75.00000</td>\n",
       "    </tr>\n",
       "    <tr>\n",
       "      <th>25%</th>\n",
       "      <td>87.75000</td>\n",
       "    </tr>\n",
       "    <tr>\n",
       "      <th>50%</th>\n",
       "      <td>98.00000</td>\n",
       "    </tr>\n",
       "    <tr>\n",
       "      <th>75%</th>\n",
       "      <td>108.00000</td>\n",
       "    </tr>\n",
       "    <tr>\n",
       "      <th>max</th>\n",
       "      <td>120.00000</td>\n",
       "    </tr>\n",
       "  </tbody>\n",
       "</table>\n",
       "</div>"
      ]
     },
     "execution_count": 35,
     "metadata": {},
     "output_type": "execute_result"
    }
   ],
   "execution_count": 35
  },
  {
   "metadata": {
    "ExecuteTime": {
     "end_time": "2025-01-03T14:40:59.788187Z",
     "start_time": "2025-01-03T14:40:59.783955Z"
    }
   },
   "cell_type": "code",
   "source": "stats.iqr(patients)",
   "id": "51faaad84ea298c2",
   "outputs": [
    {
     "data": {
      "text/plain": [
       "np.float64(20.25)"
      ]
     },
     "execution_count": 36,
     "metadata": {},
     "output_type": "execute_result"
    }
   ],
   "execution_count": 36
  },
  {
   "metadata": {
    "ExecuteTime": {
     "end_time": "2025-01-03T14:41:01.693149Z",
     "start_time": "2025-01-03T14:41:01.689246Z"
    }
   },
   "cell_type": "code",
   "source": "np.quantile(patients, 0.75) - np.quantile(patients, 0.25)",
   "id": "8dc7eb65f45dd553",
   "outputs": [
    {
     "data": {
      "text/plain": [
       "np.float64(20.25)"
      ]
     },
     "execution_count": 37,
     "metadata": {},
     "output_type": "execute_result"
    }
   ],
   "execution_count": 37
  },
  {
   "metadata": {
    "ExecuteTime": {
     "end_time": "2025-01-03T14:41:59.386930Z",
     "start_time": "2025-01-03T14:41:59.382973Z"
    }
   },
   "cell_type": "code",
   "source": "np.quantile(patients, 0.25)",
   "id": "bc29c1e2c8d65b7a",
   "outputs": [
    {
     "data": {
      "text/plain": [
       "np.float64(87.75)"
      ]
     },
     "execution_count": 38,
     "metadata": {},
     "output_type": "execute_result"
    }
   ],
   "execution_count": 38
  },
  {
   "metadata": {
    "ExecuteTime": {
     "end_time": "2025-01-03T14:46:06.566232Z",
     "start_time": "2025-01-03T14:46:06.562355Z"
    }
   },
   "cell_type": "code",
   "source": "np.quantile(patients, 0.50)",
   "id": "4b7671907116053f",
   "outputs": [
    {
     "data": {
      "text/plain": [
       "np.float64(98.0)"
      ]
     },
     "execution_count": 40,
     "metadata": {},
     "output_type": "execute_result"
    }
   ],
   "execution_count": 40
  },
  {
   "metadata": {
    "ExecuteTime": {
     "end_time": "2025-01-03T14:46:19.429557Z",
     "start_time": "2025-01-03T14:46:19.426033Z"
    }
   },
   "cell_type": "code",
   "source": "np.quantile(patients, 0.75)",
   "id": "5ef4f270dc7be35b",
   "outputs": [
    {
     "data": {
      "text/plain": [
       "np.float64(108.0)"
      ]
     },
     "execution_count": 41,
     "metadata": {},
     "output_type": "execute_result"
    }
   ],
   "execution_count": 41
  }
 ],
 "metadata": {
  "kernelspec": {
   "display_name": "Python 3",
   "language": "python",
   "name": "python3"
  },
  "language_info": {
   "codemirror_mode": {
    "name": "ipython",
    "version": 2
   },
   "file_extension": ".py",
   "mimetype": "text/x-python",
   "name": "python",
   "nbconvert_exporter": "python",
   "pygments_lexer": "ipython2",
   "version": "2.7.6"
  }
 },
 "nbformat": 4,
 "nbformat_minor": 5
}
